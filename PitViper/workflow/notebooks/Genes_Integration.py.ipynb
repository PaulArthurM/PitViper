{
 "cells": [
  {
   "cell_type": "code",
   "execution_count": 2,
   "metadata": {},
   "outputs": [],
   "source": [
    "import pandas as pd\n",
    "import re"
   ]
  },
  {
   "cell_type": "code",
   "execution_count": 3,
   "metadata": {},
   "outputs": [],
   "source": [
    "mageck_mle_out = snakemake.output[0]\n",
    "mageck_rra_out = snakemake.output[1]\n",
    "bagel_out = snakemake.output[2]\n",
    "crisphiermix_out = snakemake.output[3]"
   ]
  },
  {
   "cell_type": "code",
   "execution_count": 4,
   "metadata": {},
   "outputs": [],
   "source": [
    "files = {}\n",
    "for i in range(0, len(snakemake.input)):\n",
    "    m = re.search(\"^results\\/development\\/(\\w+)\\/\", snakemake.input[i])\n",
    "    if m:\n",
    "        files[m.group(1)] = snakemake.input[i]\n",
    "\n",
    "files"
   ]
  },
  {
   "cell_type": "code",
   "execution_count": 5,
   "metadata": {},
   "outputs": [],
   "source": [
    "token = snakemake.wildcards[0]\n",
    "treatment = snakemake.wildcards[1]\n",
    "control = snakemake.wildcards[2]\n",
    "\n",
    "print(\"Token:\", token)\n",
    "print(\"Treatment:\", treatment)\n",
    "print(\"Control:\", control)"
   ]
  },
  {
   "cell_type": "code",
   "execution_count": 6,
   "metadata": {},
   "outputs": [],
   "source": [
    "mageck_mle_file = files['MAGeCK_MLE']\n",
    "mageck_mle_data = pd.read_csv(mageck_mle_file, sep=\"\\t\")\n",
    "mageck_mle_data"
   ]
  },
  {
   "cell_type": "code",
   "execution_count": 7,
   "metadata": {},
   "outputs": [],
   "source": [
    "beta = treatment + \"|beta\"\n",
    "z = treatment + \"|z\"\n",
    "fdr = treatment + \"|fdr\"\n",
    "\n",
    "print(\"Beta:\", beta)\n",
    "print(\"Z:\", z)\n",
    "print(\"FDR:\", fdr)"
   ]
  },
  {
   "cell_type": "code",
   "execution_count": 8,
   "metadata": {},
   "outputs": [],
   "source": [
    "mageck_mle_neg = mageck_mle_data.loc[(mageck_mle_data[fdr]<0.05) & (mageck_mle_data[beta]<0)][['Gene', 'sgRNA', beta, z, fdr]]\n",
    "mageck_mle_neg"
   ]
  },
  {
   "cell_type": "code",
   "execution_count": 9,
   "metadata": {},
   "outputs": [],
   "source": [
    "mageck_mle_neg_genes = list(mageck_mle_neg['Gene'].values)\n",
    "len(mageck_mle_neg_genes)"
   ]
  },
  {
   "cell_type": "code",
   "execution_count": 10,
   "metadata": {},
   "outputs": [],
   "source": [
    "mageck_mle_pos = mageck_mle_data.loc[(mageck_mle_data[fdr]<0.05) & (mageck_mle_data[beta]>0)][['Gene', 'sgRNA', beta, z, fdr]]\n",
    "mageck_mle_pos"
   ]
  },
  {
   "cell_type": "code",
   "execution_count": 11,
   "metadata": {},
   "outputs": [],
   "source": [
    "mageck_mle_pos_genes = list(mageck_mle_pos['Gene'].values)\n",
    "len(mageck_mle_pos_genes)"
   ]
  },
  {
   "cell_type": "code",
   "execution_count": 12,
   "metadata": {},
   "outputs": [],
   "source": [
    "mageck_rra_file = files['MAGeCK_RRA']\n",
    "mageck_rra_data = pd.read_csv(mageck_rra_file, sep=\"\\t\")\n",
    "mageck_rra_data"
   ]
  },
  {
   "cell_type": "code",
   "execution_count": 13,
   "metadata": {},
   "outputs": [],
   "source": [
    "mageck_rra_pos = mageck_rra_data.loc[(mageck_rra_data[\"pos|fdr\"]<0.05) & (mageck_rra_data[\"neg|lfc\"]>0)]\n",
    "mageck_rra_pos"
   ]
  },
  {
   "cell_type": "code",
   "execution_count": 14,
   "metadata": {},
   "outputs": [],
   "source": [
    "mageck_rra_pos_genes = list(mageck_rra_pos['id'].values)\n",
    "len(mageck_rra_pos_genes)"
   ]
  },
  {
   "cell_type": "code",
   "execution_count": 15,
   "metadata": {},
   "outputs": [],
   "source": [
    "mageck_rra_neg = mageck_rra_data.loc[(mageck_rra_data[\"neg|fdr\"]<0.05) & (mageck_rra_data[\"neg|lfc\"]<0)]\n",
    "mageck_rra_neg"
   ]
  },
  {
   "cell_type": "code",
   "execution_count": 16,
   "metadata": {},
   "outputs": [],
   "source": [
    "mageck_rra_neg_genes = list(mageck_rra_neg['id'].values)\n",
    "len(mageck_rra_neg_genes)"
   ]
  },
  {
   "cell_type": "code",
   "execution_count": 17,
   "metadata": {},
   "outputs": [],
   "source": [
    "bagel_file = files['BAGEL']\n",
    "bagel_data = pd.read_csv(bagel_file, sep=\"\\t\")\n",
    "bagel_data"
   ]
  },
  {
   "cell_type": "code",
   "execution_count": 18,
   "metadata": {},
   "outputs": [],
   "source": [
    "bagel_neg = bagel_data.loc[(bagel_data['BF']>0)]\n",
    "bagel_neg"
   ]
  },
  {
   "cell_type": "code",
   "execution_count": 19,
   "metadata": {},
   "outputs": [],
   "source": [
    "bagel_neg_genes = list(bagel_neg['GENE'].values)\n",
    "len(bagel_neg_genes)"
   ]
  },
  {
   "cell_type": "code",
   "execution_count": 20,
   "metadata": {},
   "outputs": [],
   "source": [
    "chrm_file = files['CRISPhieRmix']\n",
    "chrm_data = pd.read_csv(chrm_file, sep=\",\")\n",
    "chrm_data"
   ]
  },
  {
   "cell_type": "code",
   "execution_count": 21,
   "metadata": {},
   "outputs": [],
   "source": [
    "chrm_res = chrm_data.loc[(chrm_data['locfdr']<0.05)]\n",
    "chrm_res"
   ]
  },
  {
   "cell_type": "code",
   "execution_count": 22,
   "metadata": {},
   "outputs": [],
   "source": [
    "chrm_genes = list(chrm_res['gene'].values)\n",
    "len(chrm_genes)"
   ]
  },
  {
   "cell_type": "code",
   "execution_count": 28,
   "metadata": {},
   "outputs": [],
   "source": [
    "with open(mageck_mle_out, 'w') as f:\n",
    "    for gene in mageck_mle_neg_genes:\n",
    "        f.write(\"%s\\n\" % gene)\n",
    "        \n",
    "with open(mageck_rra_out, 'w') as f:\n",
    "    for gene in mageck_rra_neg_genes:\n",
    "        f.write(\"%s\\n\" % gene)\n",
    "\n",
    "with open(crisphiermix_out, 'w') as f:\n",
    "    for gene in chrm_genes:\n",
    "        f.write(\"%s\\n\" % gene)\n",
    "\n",
    "with open(bagel_out, 'w') as f:\n",
    "    for gene in bagel_neg_genes:\n",
    "        f.write(\"%s\\n\" % gene)"
   ]
  },
  {
   "cell_type": "code",
   "execution_count": 30,
   "metadata": {},
   "outputs": [],
   "source": [
    "def write_output_file(genes, output):\n",
    "    with open(output, 'w') as f:\n",
    "        for gene in genes:\n",
    "            f.write(\"%s\\n\" % gene)\n",
    "\n",
    "            \n",
    "write_output_file()          "
   ]
  },
  {
   "cell_type": "code",
   "execution_count": 59,
   "metadata": {},
   "outputs": [],
   "source": [
    "# print(bagel_neg)\n",
    "mageck_rra_pos = mageck_rra_data.loc[(mageck_rra_data[\"pos|fdr\"]<0.05) & (mageck_rra_data[\"pos|lfc\"]>0)]\n",
    "mageck_mle_pos = mageck_mle_data.loc[(mageck_mle_data[fdr]<0.05) & (mageck_mle_data[beta]>0)][['Gene', 'sgRNA', beta, z, fdr]]\n",
    "\n",
    "a = set(bagel_neg['GENE'].values)\n",
    "b = set(mageck_mle_neg['Gene'].values)\n",
    "c = set(mageck_rra_neg['id'].values)\n",
    "d = set(chrm_res['gene'].values)\n"
   ]
  },
  {
   "cell_type": "code",
   "execution_count": 60,
   "metadata": {},
   "outputs": [],
   "source": [
    "# BAGEL - MLE\n",
    "len(set(a) & set(b))"
   ]
  },
  {
   "cell_type": "code",
   "execution_count": 61,
   "metadata": {},
   "outputs": [],
   "source": [
    "# BAGEL - RRA\n",
    "len(set(a) & set(c))"
   ]
  },
  {
   "cell_type": "code",
   "execution_count": 62,
   "metadata": {},
   "outputs": [],
   "source": [
    "# RRA - MLE\n",
    "len(set(c) & set(b))"
   ]
  },
  {
   "cell_type": "code",
   "execution_count": 63,
   "metadata": {},
   "outputs": [],
   "source": [
    "# BAGEL - CRISPhieRmix\n",
    "len(set(a) & set(d))"
   ]
  },
  {
   "cell_type": "code",
   "execution_count": 66,
   "metadata": {},
   "outputs": [],
   "source": [
    "# MLE - CRISPhieRmix\n",
    "print(len(set(b) & set(d)))\n",
    "# set(b) & set(d)"
   ]
  },
  {
   "cell_type": "code",
   "execution_count": 67,
   "metadata": {},
   "outputs": [],
   "source": [
    "# RRA - CRISPhieRmix\n",
    "print(len(set(c) & set(d)))\n",
    "# set(c) & set(d)"
   ]
  }
 ],
 "metadata": {
  "kernelspec": {
   "display_name": "Python 3",
   "language": "python",
   "name": "python3"
  },
  "language_info": {
   "codemirror_mode": {
    "name": "ipython",
    "version": 3
   },
   "file_extension": ".py",
   "mimetype": "text/x-python",
   "name": "python",
   "nbconvert_exporter": "python",
   "pygments_lexer": "ipython3",
   "version": "3.9.1"
  }
 },
 "nbformat": 4,
 "nbformat_minor": 4
}
