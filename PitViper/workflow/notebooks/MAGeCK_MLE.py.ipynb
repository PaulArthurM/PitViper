{
 "cells": [
  {
   "cell_type": "code",
   "execution_count": 2,
   "metadata": {},
   "outputs": [],
   "source": [
    "# start coding here\n",
    "\n",
    "import pandas as pd\n",
    "import re\n",
    "import altair as alt\n",
    "\n",
    "import warnings\n",
    "warnings.filterwarnings('ignore')"
   ]
  },
  {
   "cell_type": "code",
   "execution_count": 3,
   "metadata": {},
   "outputs": [],
   "source": [
    "sgrnas_summary = pd.read_csv(snakemake.input[1], sep = \"\\t\")\n",
    "# print(sgrnas_summary)"
   ]
  },
  {
   "cell_type": "code",
   "execution_count": 4,
   "metadata": {},
   "outputs": [],
   "source": [
    "genes_summary = pd.read_csv(snakemake.input[0], sep = \"\\t\")\n",
    "# print(genes_summary)"
   ]
  },
  {
   "cell_type": "code",
   "execution_count": 5,
   "metadata": {},
   "outputs": [],
   "source": [
    "for col in genes_summary.columns:\n",
    "    print(col)"
   ]
  },
  {
   "cell_type": "code",
   "execution_count": 6,
   "metadata": {},
   "outputs": [],
   "source": [
    "def get_conditions_name(genes_summary):\n",
    "    samples = []\n",
    "    for col in genes_summary.columns: \n",
    "        m = re.search(\"(^.+)\\|beta\", col)\n",
    "        if m and m.group(1) not in samples:\n",
    "            samples.append(m.group(1))\n",
    "    return(samples)\n",
    "\n",
    "conditions = get_conditions_name(genes_summary)\n",
    "# print(conditions)"
   ]
  },
  {
   "cell_type": "code",
   "execution_count": 7,
   "metadata": {},
   "outputs": [],
   "source": [
    "def get_condition_cols(genes_summary, condition):\n",
    "    cols = [col for col in genes_summary.columns if col.startswith(condition)]\n",
    "    cols.extend(['Gene', 'sgRNA'])\n",
    "    return genes_summary[cols]\n",
    "\n",
    "\n",
    "def get_conditions_dictionnary(genes_summary, conditions):\n",
    "    conditions_tables_dict = dict.fromkeys(conditions, 0)\n",
    "    for condition in conditions:\n",
    "        conditions_tables_dict[condition] = get_condition_cols(genes_summary, condition)\n",
    "    return conditions_tables_dict\n",
    "\n",
    "\n",
    "conditions_tables_dict = get_conditions_dictionnary(genes_summary, conditions)\n",
    "\n",
    "# print(conditions_tables_dict)"
   ]
  },
  {
   "cell_type": "code",
   "execution_count": 8,
   "metadata": {},
   "outputs": [],
   "source": [
    "def get_essentials_genes_in_condition(full_table, condition):\n",
    "    table = get_condition_cols(full_table, condition)\n",
    "    table = table.loc[(table[str(condition + \"|fdr\")] < 0.05) & (table[str(condition + \"|beta\")] < 0)]\n",
    "    return table\n",
    "\n",
    "# res = get_essentials_genes_in_condition(genes_summary, 'M07e-J25')\n",
    "# for value in res[['Gene']].values:\n",
    "#     print(value[0])"
   ]
  },
  {
   "cell_type": "code",
   "execution_count": 9,
   "metadata": {},
   "outputs": [],
   "source": [
    "def get_beta_plot(genes_summary, condition, fdr_cutoff):\n",
    "    table = get_condition_cols(genes_summary, condition)\n",
    "\n",
    "    chart = alt.Chart(table)\n",
    "    \n",
    "    beta = '{condition}|beta'.format(condition=condition)\n",
    "    fdr = '{condition}|fdr'.format(condition=condition)\n",
    "    \n",
    "    table['beta_rank'] = table[beta].rank(method='max')\n",
    "\n",
    "    table['fdr_rank'] = table[fdr.format(condition=condition)].rank(method='max')\n",
    "\n",
    "    table.loc[table[fdr] < fdr_cutoff, 'significant'] = 'True' \n",
    "    table.loc[table[fdr] >= fdr_cutoff, 'significant'] = 'False' \n",
    "\n",
    "    selection = alt.selection_multi(fields=['significant'], bind='legend')\n",
    "    \n",
    "    beta_plot = alt.Chart(table).mark_circle(size=60).encode(\n",
    "        y=beta,\n",
    "        x='beta_rank',\n",
    "        color='significant',\n",
    "        tooltip=['Gene', 'sgRNA', beta, fdr, 'significant'],\n",
    "        opacity=alt.condition(selection, alt.value(1), alt.value(0.1))\n",
    "    ).properties(\n",
    "        title=condition+\" gene summary\"\n",
    "    ).interactive(\n",
    "    ).add_selection(\n",
    "        selection\n",
    "    )\n",
    "    \n",
    "    line = alt.Chart(pd.DataFrame({beta: [0]})).mark_rule().encode(y=beta)\n",
    "\n",
    "    return (beta_plot + line).properties(width=600)\n",
    "    "
   ]
  },
  {
   "cell_type": "code",
   "execution_count": 10,
   "metadata": {},
   "outputs": [],
   "source": [
    "def save_beta_plot(genes_summary, condition, fdr):\n",
    "    plot = get_beta_plot(genes_summary, condition, fdr)\n",
    "\n",
    "    token = snakemake.wildcards[0]\n",
    "    name = snakemake.wildcards[1]\n",
    "\n",
    "    plot_name = \"results/{token}/MAGeCK_MLE/MAGeCK_MLE_{name}_{condition}_genes_beta_plot.html\".format(token=token, condition=condition, name=name)  #snakemake.output[1]\n",
    "\n",
    "    plot.save(plot_name)"
   ]
  },
  {
   "cell_type": "code",
   "execution_count": 11,
   "metadata": {},
   "outputs": [],
   "source": [
    "baseline = 'M07e-J4'\n",
    "for condition in [cond for cond in conditions_tables_dict.keys() if cond != baseline]:\n",
    "    print(condition)\n",
    "    save_beta_plot(genes_summary, condition, 0.05)"
   ]
  },
  {
   "cell_type": "code",
   "execution_count": 12,
   "metadata": {},
   "outputs": [],
   "source": [
    "with open(snakemake.output[0], \"w\") as file:\n",
    "    print(\"Done.\", file=file)"
   ]
  },
  {
   "cell_type": "code",
   "execution_count": 13,
   "metadata": {},
   "outputs": [],
   "source": [
    "def get_gene_info(table, gene):\n",
    "    gene_info = table.loc[(table['Gene'] == gene)]\n",
    "    return gene_info\n",
    "\n",
    "def plot_gene_accros_conditions(genes_summary, condition, gene):\n",
    "    info = get_gene_info(genes_summary, gene)\n",
    "\n",
    "    info_plot = info.filter(regex='beta$|^Gene',axis=1).melt(id_vars=['Gene'])\n",
    "\n",
    "    chart = alt.Chart(info_plot)\n",
    "\n",
    "    sort_cols = ['M07e-J4', 'M07e-J11', 'M07e-J18', 'M07e-J25']\n",
    "\n",
    "    beta = '{condition}|beta'.format(condition=condition)\n",
    "    fdr = '{condition}|fdr'.format(condition=condition)\n",
    "\n",
    "    plot = alt.Chart(info_plot).mark_circle(size=60).encode(\n",
    "            y='value',\n",
    "            x=alt.X('variable:N', sort=sort_cols),\n",
    "            #color='significant',\n",
    "            #tooltip=['Gene', 'sgRNA', beta, fdr, 'significant'],\n",
    "            #opacity=alt.condition(selection, alt.value(1), alt.value(0.1))\n",
    "        ).properties(\n",
    "            title=gene+\" summary\"\n",
    "        )#.interactive(\n",
    "        #).add_selection(\n",
    "        #    selection\n",
    "        #)\n",
    "    \n",
    "    return plot\n",
    "\n",
    "\n"
   ]
  },
  {
   "cell_type": "code",
   "execution_count": 14,
   "metadata": {},
   "outputs": [],
   "source": [
    "plot_gene_accros_conditions(genes_summary, 'M07e-J25', \"MYC\")"
   ]
  },
  {
   "cell_type": "code",
   "execution_count": 15,
   "metadata": {},
   "outputs": [],
   "source": [
    "info = get_gene_info(genes_summary, 'TET2')\n",
    "cols = [col for col in info.columns if col.endswith('|fdr')]\n",
    "cols.append('Gene')\n",
    "info_plot = info.filter(regex='beta$|^Gene|\\|fdr$',axis=1).melt(id_vars=cols)\n",
    "info_plot"
   ]
  },
  {
   "cell_type": "code",
   "execution_count": 16,
   "metadata": {},
   "outputs": [],
   "source": [
    "info = get_gene_info(genes_summary, 'TET2')\n",
    "cols = [col for col in info.columns if col.endswith('|fdr')]\n",
    "cols.append('Gene')\n",
    "info_plot = info.filter(regex='beta$|^Gene|\\|fdr$',axis=1).melt(id_vars=cols)\n",
    "info_plot"
   ]
  },
  {
   "cell_type": "code",
   "execution_count": 17,
   "metadata": {},
   "outputs": [],
   "source": [
    "chart = alt.Chart(info_plot)\n",
    "\n",
    "sort_cols = ['M07e-J4', 'M07e-J11', 'M07e-J18', 'M07e-J25']\n",
    "\n",
    "beta = '{condition}|beta'.format(condition=condition)\n",
    "fdr = '{condition}|fdr'.format(condition=condition)\n",
    "\n",
    "plot = alt.Chart(info_plot).mark_circle(size=60).mark_point(\n",
    "    filled=True,\n",
    "    size=100\n",
    "    ).encode(\n",
    "            y='value',\n",
    "            x=alt.X('variable:N', sort=sort_cols),\n",
    "            #color='significant',\n",
    "            #tooltip=['Gene', 'sgRNA', beta, fdr, 'significant'],\n",
    "            #opacity=alt.condition(selection, alt.value(1), alt.value(0.1))\n",
    "    ).properties(\n",
    "            title=\"Gene summary\"\n",
    "    )\n",
    "\n",
    "plot"
   ]
  },
  {
   "cell_type": "code",
   "execution_count": 18,
   "metadata": {},
   "outputs": [],
   "source": [
    "def get_gene_accross_conditions_plot(genes_summary, conditions, gene, fdr_cutoff, baseline):\n",
    "    rows = []\n",
    "    for condition in conditions:\n",
    "        info = get_gene_info(genes_summary, gene)\n",
    "        beta = '{condition}|beta'.format(condition=condition)\n",
    "        fdr = '{condition}|fdr'.format(condition=condition)\n",
    "        info = info[[\"Gene\", fdr, beta]]\n",
    "        info['condition'] = condition\n",
    "        info.columns = ['Gene', 'fdr', 'beta', 'condition']\n",
    "        rows.append(info)\n",
    "\n",
    "\n",
    "    result = pd.concat(rows)\n",
    "    result.loc[result['fdr'] < fdr_cutoff, 'significant'] = 'True' \n",
    "    result.loc[result['fdr'] >= fdr_cutoff, 'significant'] = 'False'\n",
    "    result.loc[result['condition'] == baseline, 'significant'] = 'Baseline'\n",
    "\n",
    "    chart = alt.Chart(result)\n",
    "\n",
    "    sort_cols = ['M07e-J4', 'M07e-J11', 'M07e-J18', 'M07e-J25']\n",
    "\n",
    "    plot = alt.Chart(result).mark_circle(size=60).mark_point(\n",
    "        filled=True,\n",
    "        size=100\n",
    "        ).encode(\n",
    "                y='beta',\n",
    "                x=alt.X('condition:N', sort=sort_cols),\n",
    "                color='significant',\n",
    "                tooltip=['Gene', 'beta', 'fdr', 'significant'],\n",
    "                #opacity=alt.condition(selection, alt.value(1), alt.value(0.1))\n",
    "        ).properties(\n",
    "                title=gene + \" beta versus baseline\"\n",
    "        )\n",
    "\n",
    "    return plot"
   ]
  },
  {
   "cell_type": "code",
   "execution_count": 21,
   "metadata": {},
   "outputs": [],
   "source": [
    "gene = 'TET2'\n",
    "get_gene_accross_conditions_plot(genes_summary, conditions, gene, 0.05, baseline)"
   ]
  }
 ],
 "metadata": {
  "kernelspec": {
   "display_name": "Python 3",
   "language": "python",
   "name": "python3"
  },
  "language_info": {
   "codemirror_mode": {
    "name": "ipython",
    "version": 3
   },
   "file_extension": ".py",
   "mimetype": "text/x-python",
   "name": "python",
   "nbconvert_exporter": "python",
   "pygments_lexer": "ipython3",
   "version": "3.9.1"
  }
 },
 "nbformat": 4,
 "nbformat_minor": 4
}
