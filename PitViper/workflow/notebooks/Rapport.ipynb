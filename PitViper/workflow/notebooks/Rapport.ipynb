{
 "cells": [
  {
   "cell_type": "markdown",
   "id": "innovative-california",
   "metadata": {},
   "source": [
    "# PitViper Notebook Report"
   ]
  },
  {
   "cell_type": "code",
   "execution_count": 1,
   "id": "proprietary-variable",
   "metadata": {},
   "outputs": [
    {
     "data": {
      "text/plain": [
       "RendererRegistry.enable('html')"
      ]
     },
     "execution_count": 1,
     "metadata": {},
     "output_type": "execute_result"
    }
   ],
   "source": [
    "from functions_pitviper_nb import * \n",
    "import time\n",
    "alt.renderers.enable('html')"
   ]
  },
  {
   "cell_type": "code",
   "execution_count": 2,
   "id": "confirmed-street",
   "metadata": {},
   "outputs": [],
   "source": [
    "# Parameters\n",
    "mageck_mle_outputs = \"../../results/development/MAGeCK_MLE/\"\n",
    "mageck_rra_outputs = \"../../results/development/MAGeCK_RRA/\"\n",
    "bagel_outputs = \"../../results/development/BAGEL/\"\n",
    "crisphiermix_outputs = \"../../results/development/CRISPhieRmix/\""
   ]
  },
  {
   "cell_type": "code",
   "execution_count": 3,
   "id": "impressed-intervention",
   "metadata": {},
   "outputs": [],
   "source": [
    "results_path = [mageck_mle_outputs, mageck_rra_outputs, bagel_outputs, crisphiermix_outputs]\n",
    "\n",
    "results = create_results_pitviper(results_path)"
   ]
  },
  {
   "cell_type": "markdown",
   "id": "determined-consent",
   "metadata": {},
   "source": [
    "## Gene essentiality analysis"
   ]
  },
  {
   "cell_type": "markdown",
   "id": "traditional-workplace",
   "metadata": {},
   "source": [
    "### MAGeCK MLE - Feature accross conditions"
   ]
  },
  {
   "cell_type": "code",
   "execution_count": 4,
   "id": "settled-explosion",
   "metadata": {},
   "outputs": [
    {
     "data": {
      "application/vnd.jupyter.widget-view+json": {
       "model_id": "9487aa5b7af0443f83d9595fbb850431",
       "version_major": 2,
       "version_minor": 0
      },
      "text/plain": [
       "interactive(children=(Dropdown(description='baseline', options=('M07e-J11', 'M07e-J18', 'M07e-J4'), value='M07…"
      ]
     },
     "metadata": {},
     "output_type": "display_data"
    }
   ],
   "source": [
    "feature_accros_conditions(results['MAGeCK_MLE'])"
   ]
  },
  {
   "cell_type": "markdown",
   "id": "forty-screw",
   "metadata": {},
   "source": [
    "### MAGeCK RRA - Feature accross conditions"
   ]
  },
  {
   "cell_type": "code",
   "execution_count": 5,
   "id": "german-stuff",
   "metadata": {},
   "outputs": [
    {
     "data": {
      "application/vnd.jupyter.widget-view+json": {
       "model_id": "a8c2fe169a02460d842ee34e9fdf70d5",
       "version_major": 2,
       "version_minor": 0
      },
      "text/plain": [
       "interactive(children=(Dropdown(description='baseline', options=('M07e-J11', 'M07e-J18', 'M07e-J4'), value='M07…"
      ]
     },
     "metadata": {},
     "output_type": "display_data"
    }
   ],
   "source": [
    "feature_accros_conditions(results['MAGeCK_RRA'])"
   ]
  },
  {
   "cell_type": "markdown",
   "id": "another-extension",
   "metadata": {},
   "source": [
    "### CRISPhieRmix - Feature accross conditions"
   ]
  },
  {
   "cell_type": "code",
   "execution_count": 6,
   "id": "capital-capacity",
   "metadata": {},
   "outputs": [
    {
     "data": {
      "application/vnd.jupyter.widget-view+json": {
       "model_id": "d40c2da6986d42f8bc479b5943f1cc4e",
       "version_major": 2,
       "version_minor": 0
      },
      "text/plain": [
       "interactive(children=(Dropdown(description='baseline', options=('M07e-J11', 'M07e-J18', 'M07e-J4'), value='M07…"
      ]
     },
     "metadata": {},
     "output_type": "display_data"
    }
   ],
   "source": [
    "feature_accros_conditions(results['CRISPhieRmix'])"
   ]
  },
  {
   "cell_type": "markdown",
   "id": "expanded-laptop",
   "metadata": {},
   "source": [
    "### BAGEL - Feature accross conditions"
   ]
  },
  {
   "cell_type": "code",
   "execution_count": 7,
   "id": "driving-basement",
   "metadata": {},
   "outputs": [
    {
     "data": {
      "application/vnd.jupyter.widget-view+json": {
       "model_id": "17f9f951a61c4441b94cae9b10deec03",
       "version_major": 2,
       "version_minor": 0
      },
      "text/plain": [
       "interactive(children=(Dropdown(description='baseline', options=('M07e-J11', 'M07e-J18', 'M07e-J4'), value='M07…"
      ]
     },
     "metadata": {},
     "output_type": "display_data"
    }
   ],
   "source": [
    "feature_accros_conditions(results['BAGEL'])"
   ]
  },
  {
   "cell_type": "markdown",
   "id": "biblical-cliff",
   "metadata": {},
   "source": [
    "## Annotations"
   ]
  },
  {
   "cell_type": "markdown",
   "id": "backed-spotlight",
   "metadata": {},
   "source": [
    "### EnrichR"
   ]
  },
  {
   "cell_type": "code",
   "execution_count": 8,
   "id": "premium-sociology",
   "metadata": {},
   "outputs": [
    {
     "data": {
      "application/vnd.jupyter.widget-view+json": {
       "model_id": "1b32edb31f7440eeace6baf477469ded",
       "version_major": 2,
       "version_minor": 0
      },
      "text/plain": [
       "interactive(children=(Text(value='My gene list', description='Description:', placeholder='Description'), Dropd…"
      ]
     },
     "metadata": {},
     "output_type": "display_data"
    }
   ],
   "source": [
    "TOOLS = [tool for tool in results.keys()]\n",
    "\n",
    "BASES = open(\"../../workflow/notebooks/enrichr_list.txt\", \"r\").readlines()\n",
    "\n",
    "\n",
    "        \n",
    "def enrichr_plots(pitviper_res):\n",
    "    conditions = [{'baseline':condition.split('_vs_')[1] , 'treatment':condition.split('_vs_')[0]} for condition in pitviper_res.comparisons_dict.keys()]\n",
    "    @interact(description=widgets.Text(value='My gene list', placeholder='Description', description='Description:'), base=BASES, baseline=set([condition['baseline'] for condition in conditions]))\n",
    "    def enrichr_plots(description, base, baseline):\n",
    "        treatments = [condition['treatment'] for condition in conditions if condition['baseline'] == baseline]\n",
    "        @interact(size=[5, 10, 20, 50, 100, 200], tool=TOOLS, treatment=treatments, fdr_cutoff=widgets.FloatSlider(min=0.0, max=1.0, step=0.01, value=0.05))\n",
    "        def enrichr_plots(treatment, tool, fdr_cutoff, size):\n",
    "            comparisons = [condition['treatment']+'_vs_'+baseline for condition in conditions if condition['baseline'] == baseline]\n",
    "            print('Description:', description)\n",
    "            print('Baseline:', baseline)\n",
    "            print('Treatment:', treatment)\n",
    "            print('FDR cut-off:', fdr_cutoff)\n",
    "            print('Tool:', tool)\n",
    "            print('Gene set library:', base)\n",
    "            \n",
    "            if tool == 'MAGeCK_MLE':\n",
    "                info = pitviper_res.comparisons_dict[treatment+'_vs_'+baseline]['table']\n",
    "                info = info.loc[info[treatment+'|fdr'] < fdr_cutoff]\n",
    "                genes = info['Gene']\n",
    "\n",
    "            print(\"Size (gene set):\", len(genes))\n",
    "            \n",
    "            def on_button_clicked(b):\n",
    "                enrichr_res = getEnrichrResults(genes, description, base)\n",
    "                table = createEnrichrTable(enrichr_res)\n",
    "                chart = enrichmentBarPlot(table, size, description)\n",
    "                with output:\n",
    "                    display(chart)\n",
    "\n",
    "            \n",
    "            button = widgets.Button(description=\"Show EnrichR results\")\n",
    "            output = widgets.Output()\n",
    "\n",
    "            display(button, output)\n",
    "\n",
    "            button.on_click(on_button_clicked)\n",
    "\n",
    "                        \n",
    "enrichr_plots(results['MAGeCK_MLE'])"
   ]
  }
 ],
 "metadata": {
  "finalized": {
   "timestamp": 1617116378004,
   "trusted": true
  },
  "kernelspec": {
   "display_name": "jupy",
   "language": "python",
   "name": "jupy"
  },
  "language_info": {
   "codemirror_mode": {
    "name": "ipython",
    "version": 3
   },
   "file_extension": ".py",
   "mimetype": "text/x-python",
   "name": "python",
   "nbconvert_exporter": "python",
   "pygments_lexer": "ipython3",
   "version": "3.9.2"
  }
 },
 "nbformat": 4,
 "nbformat_minor": 5
}
