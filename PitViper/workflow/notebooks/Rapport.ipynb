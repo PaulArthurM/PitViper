{
 "cells": [
  {
   "cell_type": "markdown",
   "id": "threatened-december",
   "metadata": {},
   "source": [
    "# PitViper Notebook Report"
   ]
  },
  {
   "cell_type": "markdown",
   "id": "russian-accreditation",
   "metadata": {},
   "source": [
    "Ce notebook a été généré automatiquement par l'outil PitViper.\n",
    "\n",
    "Il peut être utilisé de deux manières :\n",
    "\n",
    "1. En utilisant les fonctions déjà crées et présentes dans les cellules suivantes.\n",
    "\n",
    "2. En créant de nouvelles cellules et en y écrivant du code python3.\n",
    "\n",
    "Les graphiques sont générés à l'aide de la bibliothèque python [Altair](https://altair-viz.github.io/index.html). Il est possible de télécharger chaque graphique au format SVG depuis le menu déroulant présent en haut à droite de chaque graphique."
   ]
  },
  {
   "cell_type": "markdown",
   "id": "initial-commitment",
   "metadata": {},
   "source": [
    "La cellule suivante permet d'appeler les fonctions déjà crées pour la visualisation des résultats."
   ]
  },
  {
   "cell_type": "code",
   "execution_count": 1,
   "id": "biblical-advance",
   "metadata": {},
   "outputs": [
    {
     "name": "stdout",
     "output_type": "stream",
     "text": [
      "/media/paularthur/data/Projets/Screens/PitViper/PitViper\n",
      "Working directory:  /media/paularthur/data/Projets/Screens/PitViper/PitViper\n"
     ]
    }
   ],
   "source": [
    "import sys\n",
    "import os\n",
    "\n",
    "\n",
    "modules_path = ['workflow/notebooks/', \"../../../workflow/notebooks/\"]\n",
    "for module in modules_path:\n",
    "    module_path = os.path.abspath(os.path.join(module))\n",
    "    if module_path not in sys.path:\n",
    "        sys.path.append(module_path)\n",
    "\n",
    "\n",
    "from functions_pitviper_nb import * \n",
    "\n",
    "import time\n",
    "\n",
    "alt.renderers.enable('html')\n",
    "\n",
    "# For Snakemake\n",
    "switch = True\n",
    "while os.path.basename(os.getcwd()) != \"PitViper\":\n",
    "    if switch:\n",
    "        switch = False\n",
    "        %cd ../../\n",
    "    else:\n",
    "        %cd ../\n",
    "\n",
    "print('Working directory: ', os.getcwd())"
   ]
  },
  {
   "cell_type": "markdown",
   "id": "clear-energy",
   "metadata": {},
   "source": [
    "Lors de la création automatique du rapport, les deux cellule suivante sont utilisées pour définir les dossiers contenant les résultats des différents outils utilisés.\n",
    "\n",
    "Il est recommandé de ne pas les modifier."
   ]
  },
  {
   "cell_type": "code",
   "execution_count": 2,
   "id": "automotive-liberal",
   "metadata": {
    "tags": [
     "parameters"
    ]
   },
   "outputs": [],
   "source": [
    "# Parameters\n",
    "mageck_mle_outputs = \"results/shRNA/MAGeCK_MLE/\"\n",
    "mageck_rra_outputs = \"results/shRNA/MAGeCK_RRA/\"\n",
    "bagel_outputs = \"results/shRNA/BAGEL/\"\n",
    "crisphiermix_outputs = \"results/shRNA/CRISPhieRmix/\""
   ]
  },
  {
   "cell_type": "code",
   "execution_count": 3,
   "id": "entertaining-warning",
   "metadata": {},
   "outputs": [],
   "source": [
    "results_paths = [mageck_mle_outputs, mageck_rra_outputs, bagel_outputs, crisphiermix_outputs]\n",
    "\n",
    "def configuration(results_paths):\n",
    "    \n",
    "    results_path_to_use = []\n",
    "    for path in results_paths:\n",
    "        if os.path.exists(path):\n",
    "            results_path_to_use.append(path)\n",
    "    return results_path_to_use\n",
    "\n",
    "results = create_results_pitviper(configuration(results_paths))"
   ]
  },
  {
   "cell_type": "markdown",
   "id": "essential-shore",
   "metadata": {},
   "source": [
    "## Quality Control"
   ]
  },
  {
   "cell_type": "code",
   "execution_count": 4,
   "id": "impaired-prototype",
   "metadata": {},
   "outputs": [
    {
     "name": "stdout",
     "output_type": "stream",
     "text": [
      "No mapping QC file to show.\n"
     ]
    },
    {
     "data": {
      "text/plain": [
       "0"
      ]
     },
     "execution_count": 4,
     "metadata": {},
     "output_type": "execute_result"
    }
   ],
   "source": [
    "show_mapping_qc('CRISPRi_countFrom_bam')"
   ]
  },
  {
   "cell_type": "code",
   "execution_count": 5,
   "id": "constant-investment",
   "metadata": {},
   "outputs": [
    {
     "name": "stdout",
     "output_type": "stream",
     "text": [
      "No count fileto show.\n"
     ]
    },
    {
     "data": {
      "text/plain": [
       "0"
      ]
     },
     "execution_count": 5,
     "metadata": {},
     "output_type": "execute_result"
    }
   ],
   "source": [
    "show_read_count_distribution('CRISPRi_countFrom_bam', width=500, height=250)"
   ]
  },
  {
   "cell_type": "code",
   "execution_count": 6,
   "id": "broken-progressive",
   "metadata": {},
   "outputs": [],
   "source": [
    "# gene_selection_table(results)"
   ]
  },
  {
   "cell_type": "code",
   "execution_count": 7,
   "id": "suitable-packaging",
   "metadata": {},
   "outputs": [
    {
     "data": {
      "application/vnd.jupyter.widget-view+json": {
       "model_id": "c82247a42cd6463c99df60391b32fe7c",
       "version_major": 2,
       "version_minor": 0
      },
      "text/plain": [
       "interactive(children=(Dropdown(description='baseline', options=('M07e-J18', 'M07e-J11', 'M07e-J4'), value='M07…"
      ]
     },
     "metadata": {},
     "output_type": "display_data"
    }
   ],
   "source": [
    "test_plotting(results['MAGeCK_MLE'], width=500, height=250)"
   ]
  },
  {
   "cell_type": "markdown",
   "id": "proof-guitar",
   "metadata": {},
   "source": [
    "La fonction `sgRNA_accross_conditions` permet de visualiser l'évolution du score des sgRNAs prédit par l'outil MAGeCK d'une *feature* d'intérêt dans une condition donnée."
   ]
  },
  {
   "cell_type": "code",
   "execution_count": 8,
   "id": "superb-vaccine",
   "metadata": {},
   "outputs": [
    {
     "data": {
      "application/vnd.jupyter.widget-view+json": {
       "model_id": "748571f184e348a18b31688090e2143d",
       "version_major": 2,
       "version_minor": 0
      },
      "text/plain": [
       "interactive(children=(Text(value='', description='Feature:', placeholder='Feature to show...'), Dropdown(descr…"
      ]
     },
     "metadata": {},
     "output_type": "display_data"
    }
   ],
   "source": [
    "sgRNA_accross_conditions(results['MAGeCK_RRA'], width=500, height=250)"
   ]
  },
  {
   "cell_type": "markdown",
   "id": "current-trauma",
   "metadata": {},
   "source": [
    "## Gene essentiality analysis"
   ]
  },
  {
   "cell_type": "markdown",
   "id": "complete-editing",
   "metadata": {},
   "source": [
    "Les fonctions suivantes permettent de visualiser l'évolution du score des `features` pour chaque outil."
   ]
  },
  {
   "cell_type": "markdown",
   "id": "greenhouse-abraham",
   "metadata": {},
   "source": [
    "### MAGeCK MLE - Feature accross conditions"
   ]
  },
  {
   "cell_type": "code",
   "execution_count": 9,
   "id": "young-warner",
   "metadata": {},
   "outputs": [
    {
     "data": {
      "application/vnd.jupyter.widget-view+json": {
       "model_id": "a0de777f71d8455790a87be7159a0e85",
       "version_major": 2,
       "version_minor": 0
      },
      "text/plain": [
       "interactive(children=(Dropdown(description='baseline', options=('M07e-J18', 'M07e-J11', 'M07e-J4'), value='M07…"
      ]
     },
     "metadata": {},
     "output_type": "display_data"
    }
   ],
   "source": [
    "feature_accros_conditions(results['MAGeCK_MLE'])"
   ]
  },
  {
   "cell_type": "markdown",
   "id": "burning-animal",
   "metadata": {},
   "source": [
    "### MAGeCK RRA - Feature accross conditions"
   ]
  },
  {
   "cell_type": "code",
   "execution_count": 10,
   "id": "hungry-fellow",
   "metadata": {},
   "outputs": [
    {
     "data": {
      "application/vnd.jupyter.widget-view+json": {
       "model_id": "f32e466ca7c3423b84416f6675ec9333",
       "version_major": 2,
       "version_minor": 0
      },
      "text/plain": [
       "interactive(children=(Dropdown(description='baseline', options=('M07e-J18', 'M07e-J11', 'M07e-J4'), value='M07…"
      ]
     },
     "metadata": {},
     "output_type": "display_data"
    }
   ],
   "source": [
    "feature_accros_conditions(results['MAGeCK_RRA'])"
   ]
  },
  {
   "cell_type": "markdown",
   "id": "established-owner",
   "metadata": {},
   "source": [
    "### CRISPhieRmix - Feature accross conditions"
   ]
  },
  {
   "cell_type": "code",
   "execution_count": 11,
   "id": "technical-omega",
   "metadata": {},
   "outputs": [
    {
     "data": {
      "application/vnd.jupyter.widget-view+json": {
       "model_id": "86eac2e382bb4c89badaca2b1173fd8e",
       "version_major": 2,
       "version_minor": 0
      },
      "text/plain": [
       "interactive(children=(Dropdown(description='baseline', options=('M07e-J18', 'M07e-J11', 'M07e-J4'), value='M07…"
      ]
     },
     "metadata": {},
     "output_type": "display_data"
    }
   ],
   "source": [
    "feature_accros_conditions(results['CRISPhieRmix'])"
   ]
  },
  {
   "cell_type": "markdown",
   "id": "extraordinary-necklace",
   "metadata": {},
   "source": [
    "### BAGEL - Feature accross conditions"
   ]
  },
  {
   "cell_type": "code",
   "execution_count": 12,
   "id": "extensive-order",
   "metadata": {},
   "outputs": [
    {
     "data": {
      "application/vnd.jupyter.widget-view+json": {
       "model_id": "8d5315bbf16441df9fb3205ca2533f3b",
       "version_major": 2,
       "version_minor": 0
      },
      "text/plain": [
       "interactive(children=(Dropdown(description='baseline', options=('M07e-J18', 'M07e-J11', 'M07e-J4'), value='M07…"
      ]
     },
     "metadata": {},
     "output_type": "display_data"
    }
   ],
   "source": [
    "feature_accros_conditions(results['BAGEL'])"
   ]
  },
  {
   "cell_type": "markdown",
   "id": "considered-helen",
   "metadata": {},
   "source": [
    "## Annotations"
   ]
  },
  {
   "cell_type": "markdown",
   "id": "offensive-flooring",
   "metadata": {},
   "source": [
    "### EnrichR"
   ]
  },
  {
   "cell_type": "code",
   "execution_count": 13,
   "id": "adolescent-guest",
   "metadata": {
    "scrolled": false
   },
   "outputs": [
    {
     "data": {
      "application/vnd.jupyter.widget-view+json": {
       "model_id": "1d53d5f4c81a4d618851c5fe10d2c23a",
       "version_major": 2,
       "version_minor": 0
      },
      "text/plain": [
       "interactive(children=(Dropdown(description='tool', options=('MAGeCK_MLE', 'MAGeCK_RRA', 'BAGEL', 'CRISPhieRmix…"
      ]
     },
     "metadata": {},
     "output_type": "display_data"
    }
   ],
   "source": [
    "enrichr_plots(results)"
   ]
  },
  {
   "cell_type": "code",
   "execution_count": 14,
   "id": "cloudy-emperor",
   "metadata": {},
   "outputs": [
    {
     "data": {
      "text/html": [
       "<div>\n",
       "<style scoped>\n",
       "    .dataframe tbody tr th:only-of-type {\n",
       "        vertical-align: middle;\n",
       "    }\n",
       "\n",
       "    .dataframe tbody tr th {\n",
       "        vertical-align: top;\n",
       "    }\n",
       "\n",
       "    .dataframe thead th {\n",
       "        text-align: right;\n",
       "    }\n",
       "</style>\n",
       "<table border=\"1\" class=\"dataframe\">\n",
       "  <thead>\n",
       "    <tr style=\"text-align: right;\">\n",
       "      <th></th>\n",
       "      <th>principal component 1</th>\n",
       "      <th>principal component 2</th>\n",
       "    </tr>\n",
       "  </thead>\n",
       "  <tbody>\n",
       "    <tr>\n",
       "      <th>0</th>\n",
       "      <td>-1.726843</td>\n",
       "      <td>-0.291542</td>\n",
       "    </tr>\n",
       "    <tr>\n",
       "      <th>1</th>\n",
       "      <td>-6.779774</td>\n",
       "      <td>-0.201359</td>\n",
       "    </tr>\n",
       "    <tr>\n",
       "      <th>2</th>\n",
       "      <td>2.710999</td>\n",
       "      <td>-0.060509</td>\n",
       "    </tr>\n",
       "    <tr>\n",
       "      <th>3</th>\n",
       "      <td>0.397749</td>\n",
       "      <td>0.282131</td>\n",
       "    </tr>\n",
       "    <tr>\n",
       "      <th>4</th>\n",
       "      <td>0.492596</td>\n",
       "      <td>-0.043351</td>\n",
       "    </tr>\n",
       "    <tr>\n",
       "      <th>...</th>\n",
       "      <td>...</td>\n",
       "      <td>...</td>\n",
       "    </tr>\n",
       "    <tr>\n",
       "      <th>7451</th>\n",
       "      <td>-9.847964</td>\n",
       "      <td>0.085482</td>\n",
       "    </tr>\n",
       "    <tr>\n",
       "      <th>7452</th>\n",
       "      <td>-9.847964</td>\n",
       "      <td>0.085482</td>\n",
       "    </tr>\n",
       "    <tr>\n",
       "      <th>7453</th>\n",
       "      <td>-9.847964</td>\n",
       "      <td>0.085482</td>\n",
       "    </tr>\n",
       "    <tr>\n",
       "      <th>7454</th>\n",
       "      <td>-9.847964</td>\n",
       "      <td>0.085482</td>\n",
       "    </tr>\n",
       "    <tr>\n",
       "      <th>7455</th>\n",
       "      <td>-9.847964</td>\n",
       "      <td>0.085482</td>\n",
       "    </tr>\n",
       "  </tbody>\n",
       "</table>\n",
       "<p>7456 rows × 2 columns</p>\n",
       "</div>"
      ],
      "text/plain": [
       "      principal component 1  principal component 2\n",
       "0                 -1.726843              -0.291542\n",
       "1                 -6.779774              -0.201359\n",
       "2                  2.710999              -0.060509\n",
       "3                  0.397749               0.282131\n",
       "4                  0.492596              -0.043351\n",
       "...                     ...                    ...\n",
       "7451              -9.847964               0.085482\n",
       "7452              -9.847964               0.085482\n",
       "7453              -9.847964               0.085482\n",
       "7454              -9.847964               0.085482\n",
       "7455              -9.847964               0.085482\n",
       "\n",
       "[7456 rows x 2 columns]"
      ]
     },
     "execution_count": 14,
     "metadata": {},
     "output_type": "execute_result"
    }
   ],
   "source": [
    "from sklearn.preprocessing import StandardScaler\n",
    "\n",
    "from sklearn.decomposition import PCA\n",
    "\n",
    "import matplotlib as figure\n",
    "\n",
    "def pca(token):\n",
    "    path_qc = \"./data/{token}/screen.count.txt\".format(token=token)\n",
    "    table = pd.read_csv(path_qc, sep='\\t')\n",
    "        \n",
    "    table.iloc[:, 2:] = table.iloc[:, 2:] +1 \n",
    "    table.iloc[:, 2:] = table.iloc[:, 2:].apply(np.log2)\n",
    "\n",
    "    features = list(table.columns[2:])\n",
    "    \n",
    "    x = table.loc[:, features].values\n",
    "    \n",
    "    x = StandardScaler().fit_transform(x)\n",
    "    \n",
    "    pca = PCA(n_components=2)\n",
    "\n",
    "    principalComponents = pca.fit_transform(x)\n",
    "\n",
    "    principalDf = pd.DataFrame(data = principalComponents\n",
    "             , columns = ['principal component 1', 'principal component 2'])\n",
    "    \n",
    "#     fig = plt.figure.Figure(figsize = (8,8))\n",
    "#     ax = fig.add_subplot(1,1,1)\n",
    "#     fig = ax.scatter(principalDf)\n",
    "\n",
    "    return principalDf\n",
    "\n",
    "    \n",
    "pca('CRISPRi_countFrom_bam')"
   ]
  },
  {
   "cell_type": "code",
   "execution_count": 15,
   "id": "printable-divorce",
   "metadata": {},
   "outputs": [
    {
     "data": {
      "image/png": "[encoded data removed]",
      "text/plain": [
       "<Figure size 576x576 with 1 Axes>"
      ]
     },
     "metadata": {},
     "output_type": "display_data"
    }
   ],
   "source": [
    "from venn import venn\n",
    "\n",
    "\n",
    "baseline = \"M07e-J4\"\n",
    "treatment = \"M07e-J25\"\n",
    "\n",
    "condition = treatment + \"_vs_\" + baseline\n",
    "fdr_col = treatment + \"|fdr\"\n",
    "\n",
    "fdr_cutoff = 0.05\n",
    "\n",
    "\n",
    "### MAGeCK MLE\n",
    "mle_table = results['MAGeCK_MLE'].comparisons_dict[condition]['table'].copy()\n",
    "\n",
    "mle_table.loc[mle_table[fdr_col] < fdr_cutoff, 'essential'] = True\n",
    "mle_table.loc[mle_table[fdr_col] >= fdr_cutoff, 'essential'] = False\n",
    "mle_table['tool'] = 'MAGeCK_MLE'\n",
    "\n",
    "mle_table = mle_table[[\"Gene\", \"essential\", \"tool\"]]\n",
    "\n",
    "mle_table.head()\n",
    "\n",
    "\n",
    "### MAGeCK RRA\n",
    "rra_table = results['MAGeCK_RRA'].comparisons_dict[condition]['table'].copy()\n",
    "\n",
    "rra_table\n",
    "\n",
    "rra_table.loc[rra_table[\"neg|fdr\"] < fdr_cutoff, 'essential'] = True\n",
    "rra_table.loc[rra_table[\"neg|fdr\"] >= fdr_cutoff, 'essential'] = False\n",
    "rra_table['tool'] = 'MAGeCK_RRA'\n",
    "\n",
    "rra_table = rra_table[[\"id\", \"essential\", \"tool\"]]\n",
    "\n",
    "rra_table.rename(columns={'id':'Gene'}, inplace=True)\n",
    "\n",
    "rra_table.head()\n",
    "\n",
    "\n",
    "### MAGeCK RRA\n",
    "bagel_table = results['BAGEL'].comparisons_dict[condition]['table'].copy()\n",
    "\n",
    "bagel_table.loc[bagel_table[\"BF\"] > 0, 'essential'] = True\n",
    "bagel_table.loc[bagel_table[\"BF\"] < 0, 'essential'] = False\n",
    "bagel_table['tool'] = 'BAGEL'\n",
    "\n",
    "bagel_table = bagel_table[[\"GENE\", \"essential\", \"tool\"]]\n",
    "\n",
    "bagel_table.rename(columns={'GENE':'Gene'}, inplace=True)\n",
    "\n",
    "bagel_table.head()\n",
    "\n",
    "\n",
    "### CRISPhieRmix\n",
    "crm_table = results['CRISPhieRmix'].comparisons_dict[condition]['table'].copy()\n",
    "\n",
    "crm_table.loc[crm_table[\"locfdr\"] < 0.05, 'essential'] = True\n",
    "crm_table.loc[crm_table[\"locfdr\"] >= 0.05, 'essential'] = False\n",
    "crm_table['tool'] = 'CRISPhieRmix'\n",
    "\n",
    "crm_table = crm_table[[\"gene\", \"essential\", \"tool\"]]\n",
    "\n",
    "crm_table.rename(columns={'gene':'Gene'}, inplace=True)\n",
    "\n",
    "crm_table.head()\n",
    "\n",
    "\n",
    "### Intégration\n",
    "\n",
    "integration =  pd.concat([mle_table, rra_table, bagel_table, crm_table])\n",
    "\n",
    "integration.head()\n",
    "\n",
    "# print('\\n > Genes by tool:')\n",
    "# print(integration['tool'].value_counts())\n",
    "\n",
    "# print('\\n >MAGeCK MLE essentials genes:')\n",
    "# print(integration.loc[integration['tool'] == 'MAGeCK_MLE']['essential'].value_counts())\n",
    "\n",
    "# print('\\n >MAGeCK RRA essentials genes:')\n",
    "# print(integration.loc[integration['tool'] == 'MAGeCK_RRA']['essential'].value_counts())\n",
    "\n",
    "# print('\\n >BAGEL essentials genes:')\n",
    "# print(integration.loc[integration['tool'] == 'BAGEL']['essential'].value_counts())\n",
    "\n",
    "# print('\\n >CRISPhieRmix essentials genes:')\n",
    "# print(integration.loc[integration['tool'] == 'CRISPhieRmix']['essential'].value_counts())\n",
    "\n",
    "integration_pivot = integration.pivot(index = \"Gene\", columns = 'tool', values = 'essential').reset_index()\n",
    "# integration_pivot.drop(\"tool\",axis=1,inplace=True)\n",
    "\n",
    "def select_genes(integration, mode = \"all\", tools=[\"BAGEL\", \"CRISPhieRmix\", \"MAGeCK_MLE\", \"MAGeCK_RRA\"]):\n",
    "    if mode == \"all\":\n",
    "        integration['test'] = integration[tools].all(axis='columns')\n",
    "    if mode == \"any\":\n",
    "        integration['test'] = integration[tools].any(axis='columns')\n",
    "    return integration.loc[integration['test'] == True]['Gene'].values\n",
    "    \n",
    "    \n",
    "cpm_genes = select_genes(integration_pivot, tools = ['CRISPhieRmix'])\n",
    "bagel_genes = select_genes(integration_pivot, tools = ['BAGEL'])\n",
    "rra_genes = select_genes(integration_pivot, tools = ['MAGeCK_RRA'])\n",
    "mle_genes = select_genes(integration_pivot, tools = ['MAGeCK_MLE'])\n",
    "\n",
    "d = {'CRISPhieRmix': set(cpm_genes),\n",
    "     'BAGEL': set(bagel_genes),\n",
    "     'MAGeCK_RRA': set(rra_genes),\n",
    "     'MAGeCK_MLE': set(mle_genes)}\n",
    "\n",
    "venn(d, cmap=\"plasma\")\n",
    "\n",
    "all_genes = select_genes(integration_pivot, mode = \"any\")\n",
    "\n",
    "# print(len(all_genes))\n",
    "# for gene in all_genes:\n",
    "#     print(gene)"
   ]
  },
  {
   "cell_type": "code",
   "execution_count": null,
   "id": "mental-parish",
   "metadata": {},
   "outputs": [],
   "source": []
  }
 ],
 "metadata": {
  "celltoolbar": "Tags",
  "finalized": {
   "timestamp": 1617977907893,
   "trusted": true
  },
  "kernelspec": {
   "display_name": "jupy",
   "language": "python",
   "name": "jupy"
  },
  "language_info": {
   "codemirror_mode": {
    "name": "ipython",
    "version": 3
   },
   "file_extension": ".py",
   "mimetype": "text/x-python",
   "name": "python",
   "nbconvert_exporter": "python",
   "pygments_lexer": "ipython3",
   "version": "3.9.2"
  },
  "require": {
   "paths": {
    "buttons.colvis": "https://cdn.datatables.net/buttons/1.5.6/js/buttons.colVis.min",
    "buttons.flash": "https://cdn.datatables.net/buttons/1.5.6/js/buttons.flash.min",
    "buttons.html5": "https://cdn.datatables.net/buttons/1.5.6/js/buttons.html5.min",
    "buttons.print": "https://cdn.datatables.net/buttons/1.5.6/js/buttons.print.min",
    "chartjs": "https://cdnjs.cloudflare.com/ajax/libs/Chart.js/2.8.0/Chart",
    "d3": "https://d3js.org/d3.v5.min",
    "d3-array": "https://d3js.org/d3-array.v2.min",
    "datatables.net": "https://cdn.datatables.net/1.10.18/js/jquery.dataTables",
    "datatables.net-buttons": "https://cdn.datatables.net/buttons/1.5.6/js/dataTables.buttons.min",
    "datatables.responsive": "https://cdn.datatables.net/responsive/2.2.2/js/dataTables.responsive.min",
    "datatables.scroller": "https://cdn.datatables.net/scroller/2.0.0/js/dataTables.scroller.min",
    "datatables.select": "https://cdn.datatables.net/select/1.3.0/js/dataTables.select.min",
    "jszip": "https://cdnjs.cloudflare.com/ajax/libs/jszip/2.5.0/jszip.min",
    "moment": "https://cdnjs.cloudflare.com/ajax/libs/moment.js/2.8.0/moment",
    "pdfmake": "https://cdnjs.cloudflare.com/ajax/libs/pdfmake/0.1.36/pdfmake.min",
    "vfsfonts": "https://cdnjs.cloudflare.com/ajax/libs/pdfmake/0.1.36/vfs_fonts"
   },
   "shim": {
    "buttons.colvis": {
     "deps": [
      "jszip",
      "datatables.net-buttons"
     ]
    },
    "buttons.flash": {
     "deps": [
      "jszip",
      "datatables.net-buttons"
     ]
    },
    "buttons.html5": {
     "deps": [
      "jszip",
      "datatables.net-buttons"
     ]
    },
    "buttons.print": {
     "deps": [
      "jszip",
      "datatables.net-buttons"
     ]
    },
    "chartjs": {
     "deps": [
      "moment"
     ]
    },
    "datatables.net": {
     "exports": "$.fn.dataTable"
    },
    "datatables.net-buttons": {
     "deps": [
      "datatables.net"
     ]
    },
    "pdfmake": {
     "deps": [
      "datatables.net"
     ]
    },
    "vfsfonts": {
     "deps": [
      "datatables.net"
     ]
    }
   }
  },
  "toc": {
   "base_numbering": 1,
   "nav_menu": {},
   "number_sections": false,
   "sideBar": false,
   "skip_h1_title": false,
   "title_cell": "Table of Contents",
   "title_sidebar": "Contents",
   "toc_cell": false,
   "toc_position": {},
   "toc_section_display": false,
   "toc_window_display": false
  }
 },
 "nbformat": 4,
 "nbformat_minor": 5
}
