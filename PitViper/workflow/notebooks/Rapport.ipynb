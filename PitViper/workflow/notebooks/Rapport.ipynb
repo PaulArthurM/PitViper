{
 "cells": [
  {
   "cell_type": "markdown",
   "metadata": {},
   "source": [
    "# PitViper Notebook Report"
   ]
  },
  {
   "cell_type": "code",
   "execution_count": 1,
   "metadata": {},
   "outputs": [
    {
     "data": {
      "text/plain": [
       "RendererRegistry.enable('html')"
      ]
     },
     "execution_count": 1,
     "metadata": {},
     "output_type": "execute_result"
    }
   ],
   "source": [
    "from functions_pitviper_nb import * \n",
    "import time\n",
    "alt.renderers.enable('html')"
   ]
  },
  {
   "cell_type": "code",
   "execution_count": 2,
   "metadata": {},
   "outputs": [],
   "source": [
    "# Parameters\n",
    "mageck_mle_outputs = \"../../results/development/MAGeCK_MLE/\"\n",
    "mageck_rra_outputs = \"../../results/development/MAGeCK_RRA/\"\n",
    "bagel_outputs = \"../../results/development/BAGEL/\"\n",
    "crisphiermix_outputs = \"../../results/development/CRISPhieRmix/\""
   ]
  },
  {
   "cell_type": "code",
   "execution_count": 3,
   "metadata": {},
   "outputs": [],
   "source": [
    "results_path = [mageck_mle_outputs, mageck_rra_outputs, bagel_outputs, crisphiermix_outputs]\n",
    "\n",
    "results = create_results_pitviper(results_path)"
   ]
  },
  {
   "cell_type": "markdown",
   "metadata": {},
   "source": [
    "## Quality Control"
   ]
  },
  {
   "cell_type": "code",
   "execution_count": 32,
   "metadata": {},
   "outputs": [
    {
     "data": {
      "application/vnd.jupyter.widget-view+json": {
       "model_id": "5c9a7a091e8f4e49b4353577c08ce419",
       "version_major": 2,
       "version_minor": 0
      },
      "text/plain": [
       "interactive(children=(Text(value='MYC', description='Feature:', placeholder='Feature to show...'), Dropdown(de…"
      ]
     },
     "metadata": {},
     "output_type": "display_data"
    }
   ],
   "source": [
    "\n",
    "def sgRNA_accross_conditions(result):\n",
    "    conditions = [{'baseline':condition.split('_vs_')[1] , 'treatment':condition.split('_vs_')[0]} for condition in result.comparisons_dict.keys()]\n",
    "    baselines=set([condition['baseline'] for condition in conditions])\n",
    "    features=widgets.Text(value='MYC', placeholder='Feature to show...', description='Feature:')\n",
    "    @interact(feature=features, baseline=baselines)\n",
    "    def sgRNA_accross_conditions(feature, baseline):\n",
    "        treatments = [condition['treatment'] for condition in conditions if condition['baseline'] == baseline]\n",
    "        print('Feature:', feature)\n",
    "        print('Baseline', baseline)\n",
    "        print('Treatments', treatments)\n",
    "        \n",
    "        points = treatments + [baseline]\n",
    "        \n",
    "        print(points)\n",
    "        \n",
    "#         tables_to_concatenate = []\n",
    "#         for point in points:\n",
    "#             table = result.comparisons_dict[point]['table'].copy()\n",
    "#             trt = comparison.split('_vs_')[0]\n",
    "#             new_names = [(i,trt + \"_\" + i) for i in table.iloc[:, 1:].columns.values]\n",
    "#             table.rename(columns = dict(new_names), inplace=True)\n",
    "#             tables_to_concatenate.append(table)\n",
    "\n",
    "#         result = pd.concat(tables_to_concatenate, axis=1)\n",
    "#         result = result.iloc[:,~result.columns.duplicated()]\n",
    "            \n",
    "\n",
    "\n",
    "sgRNA_accross_conditions(results['MAGeCK_RRA'])"
   ]
  },
  {
   "cell_type": "markdown",
   "metadata": {},
   "source": [
    "## Gene essentiality analysis"
   ]
  },
  {
   "cell_type": "markdown",
   "metadata": {},
   "source": [
    "### MAGeCK MLE - Feature accross conditions"
   ]
  },
  {
   "cell_type": "code",
   "execution_count": 5,
   "metadata": {},
   "outputs": [
    {
     "data": {
      "application/vnd.jupyter.widget-view+json": {
       "model_id": "38aaf46e75d14d2f8f6527b81538231a",
       "version_major": 2,
       "version_minor": 0
      },
      "text/plain": [
       "interactive(children=(Dropdown(description='baseline', options=('M07e-J18', 'M07e-J4', 'M07e-J11'), value='M07…"
      ]
     },
     "metadata": {},
     "output_type": "display_data"
    }
   ],
   "source": [
    "feature_accros_conditions(results['MAGeCK_MLE'])"
   ]
  },
  {
   "cell_type": "markdown",
   "metadata": {},
   "source": [
    "### MAGeCK RRA - Feature accross conditions"
   ]
  },
  {
   "cell_type": "code",
   "execution_count": 6,
   "metadata": {},
   "outputs": [
    {
     "data": {
      "application/vnd.jupyter.widget-view+json": {
       "model_id": "ddc7072ddf0c4594bb83835dc56cc016",
       "version_major": 2,
       "version_minor": 0
      },
      "text/plain": [
       "interactive(children=(Dropdown(description='baseline', options=('M07e-J18', 'M07e-J4', 'M07e-J11'), value='M07…"
      ]
     },
     "metadata": {},
     "output_type": "display_data"
    }
   ],
   "source": [
    "feature_accros_conditions(results['MAGeCK_RRA'])"
   ]
  },
  {
   "cell_type": "markdown",
   "metadata": {},
   "source": [
    "### CRISPhieRmix - Feature accross conditions"
   ]
  },
  {
   "cell_type": "code",
   "execution_count": 7,
   "metadata": {},
   "outputs": [
    {
     "data": {
      "application/vnd.jupyter.widget-view+json": {
       "model_id": "f21babac90dd42138f3ce9f9da560999",
       "version_major": 2,
       "version_minor": 0
      },
      "text/plain": [
       "interactive(children=(Dropdown(description='baseline', options=('M07e-J18', 'M07e-J4', 'M07e-J11'), value='M07…"
      ]
     },
     "metadata": {},
     "output_type": "display_data"
    }
   ],
   "source": [
    "feature_accros_conditions(results['CRISPhieRmix'])"
   ]
  },
  {
   "cell_type": "markdown",
   "metadata": {},
   "source": [
    "### BAGEL - Feature accross conditions"
   ]
  },
  {
   "cell_type": "code",
   "execution_count": 8,
   "metadata": {},
   "outputs": [
    {
     "data": {
      "application/vnd.jupyter.widget-view+json": {
       "model_id": "5bf78041b0924bc3905802f2e0ac1761",
       "version_major": 2,
       "version_minor": 0
      },
      "text/plain": [
       "interactive(children=(Dropdown(description='baseline', options=('M07e-J18', 'M07e-J4', 'M07e-J11'), value='M07…"
      ]
     },
     "metadata": {},
     "output_type": "display_data"
    }
   ],
   "source": [
    "feature_accros_conditions(results['BAGEL'])"
   ]
  },
  {
   "cell_type": "markdown",
   "metadata": {},
   "source": [
    "## Annotations"
   ]
  },
  {
   "cell_type": "markdown",
   "metadata": {},
   "source": [
    "### EnrichR"
   ]
  },
  {
   "cell_type": "code",
   "execution_count": 9,
   "metadata": {},
   "outputs": [
    {
     "data": {
      "application/vnd.jupyter.widget-view+json": {
       "model_id": "c0abcf98f45c4878822749496c3aea17",
       "version_major": 2,
       "version_minor": 0
      },
      "text/plain": [
       "interactive(children=(Dropdown(description='tool', options=('MAGeCK_MLE', 'MAGeCK_RRA', 'BAGEL', 'CRISPhieRmix…"
      ]
     },
     "metadata": {},
     "output_type": "display_data"
    }
   ],
   "source": [
    "enrichr_plots(results)"
   ]
  },
  {
   "cell_type": "code",
   "execution_count": 10,
   "metadata": {
    "scrolled": false
   },
   "outputs": [
    {
     "data": {
      "application/vnd.jupyter.widget-view+json": {
       "model_id": "3173eda5fc9f4a4ebeb6897110836b71",
       "version_major": 2,
       "version_minor": 0
      },
      "text/plain": [
       "interactive(children=(Dropdown(description='baseline', options=('M07e-J18', 'M07e-J4', 'M07e-J11'), value='M07…"
      ]
     },
     "metadata": {},
     "output_type": "display_data"
    }
   ],
   "source": [
    "# data = results['MAGeCK_MLE'].comparisons_dict['M07e-J25_vs_M07e-J4']['table']\n",
    "\n",
    "def test_plotting(data):\n",
    "    conditions = [{'baseline':condition.split('_vs_')[1] , 'treatment':condition.split('_vs_')[0]} for condition in data.comparisons_dict.keys()]\n",
    "    baselines=set([condition['baseline'] for condition in conditions])\n",
    "    @interact(baseline=baselines)\n",
    "    def test_plotting(baseline):\n",
    "        treatments = [condition['treatment'] for condition in conditions if condition['baseline'] == baseline]\n",
    "        non_sig=widgets.ColorPicker(concise=False, description='Non-significant', value='#949494', disabled=False)\n",
    "        sig=widgets.ColorPicker(concise=False, description='Significant', value='red', disabled=False)\n",
    "        @interact(treatment=treatments, non_sig=non_sig, sig=sig)\n",
    "        def test_plotting(treatment, non_sig, sig):\n",
    "            print('Baseline:', baseline)\n",
    "            print('Treatment:', treatment)\n",
    "            comp = treatment + '_vs_' + baseline\n",
    "            source = data.comparisons_dict[comp]['table']\n",
    "\n",
    "            source['default_rank'] = source[treatment + '|beta'].rank()\n",
    "\n",
    "            source.loc[source[treatment + '|fdr'] < 0.05, 'significant'] = 'Yes' \n",
    "            source.loc[source[treatment + '|fdr'] >= 0.05, 'significant'] = 'No'\n",
    "            domain = ['Yes', 'No']\n",
    "            range_ = [sig, non_sig]\n",
    "\n",
    "            chart = alt.Chart(source).mark_circle(size=60).encode(\n",
    "                x=alt.X('default_rank:Q'),\n",
    "                y=alt.Y(treatment + '|beta:Q'),\n",
    "                tooltip=['Gene', 'sgRNA', treatment + '|beta', treatment + '|fdr', 'significant'],\n",
    "                color=alt.Color('significant', scale=alt.Scale(domain=domain, range=range_), legend=alt.Legend(title=\"Significativity:\"))\n",
    "            ).properties(width=700)\n",
    "\n",
    "            line = alt.Chart(pd.DataFrame({'y': [0]})).mark_rule().encode(y='y')\n",
    "\n",
    "            chart = (chart + line)\n",
    "\n",
    "            return chart\n",
    "\n",
    "test_plotting(results['MAGeCK_MLE'])"
   ]
  }
 ],
 "metadata": {
  "finalized": {
   "timestamp": 1617116378004,
   "trusted": true
  },
  "kernelspec": {
   "display_name": "jupy",
   "language": "python",
   "name": "jupy"
  },
  "language_info": {
   "codemirror_mode": {
    "name": "ipython",
    "version": 3
   },
   "file_extension": ".py",
   "mimetype": "text/x-python",
   "name": "python",
   "nbconvert_exporter": "python",
   "pygments_lexer": "ipython3",
   "version": "3.9.2"
  }
 },
 "nbformat": 4,
 "nbformat_minor": 5
}
