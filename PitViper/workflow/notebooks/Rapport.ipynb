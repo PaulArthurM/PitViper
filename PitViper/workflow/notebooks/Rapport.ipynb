{
 "cells": [
  {
   "cell_type": "markdown",
   "metadata": {},
   "source": [
    "# PitViper Notebook Report"
   ]
  },
  {
   "cell_type": "code",
   "execution_count": 1,
   "metadata": {},
   "outputs": [
    {
     "data": {
      "text/plain": [
       "RendererRegistry.enable('html')"
      ]
     },
     "execution_count": 1,
     "metadata": {},
     "output_type": "execute_result"
    }
   ],
   "source": [
    "from functions_pitviper_nb import * \n",
    "import time\n",
    "alt.renderers.enable('html')"
   ]
  },
  {
   "cell_type": "code",
   "execution_count": 2,
   "metadata": {},
   "outputs": [],
   "source": [
    "# Parameters\n",
    "mageck_mle_outputs = \"../../results/development/MAGeCK_MLE/\"\n",
    "mageck_rra_outputs = \"../../results/development/MAGeCK_RRA/\"\n",
    "bagel_outputs = \"../../results/development/BAGEL/\"\n",
    "crisphiermix_outputs = \"../../results/development/CRISPhieRmix/\""
   ]
  },
  {
   "cell_type": "code",
   "execution_count": 3,
   "metadata": {},
   "outputs": [],
   "source": [
    "results_path = [mageck_mle_outputs, mageck_rra_outputs, bagel_outputs, crisphiermix_outputs]\n",
    "\n",
    "results = create_results_pitviper(results_path)"
   ]
  },
  {
   "cell_type": "markdown",
   "metadata": {},
   "source": [
    "## Gene essentiality analysis"
   ]
  },
  {
   "cell_type": "markdown",
   "metadata": {},
   "source": [
    "### MAGeCK MLE - Feature accross conditions"
   ]
  },
  {
   "cell_type": "code",
   "execution_count": 4,
   "metadata": {},
   "outputs": [
    {
     "data": {
      "application/vnd.jupyter.widget-view+json": {
       "model_id": "5fc72ae159a648559a782ef4d86ec2c9",
       "version_major": 2,
       "version_minor": 0
      },
      "text/plain": [
       "interactive(children=(Dropdown(description='baseline', options=('M07e-J11', 'M07e-J18', 'M07e-J4'), value='M07…"
      ]
     },
     "metadata": {},
     "output_type": "display_data"
    }
   ],
   "source": [
    "feature_accros_conditions(results['MAGeCK_MLE'])"
   ]
  },
  {
   "cell_type": "markdown",
   "metadata": {},
   "source": [
    "### MAGeCK RRA - Feature accross conditions"
   ]
  },
  {
   "cell_type": "code",
   "execution_count": 5,
   "metadata": {},
   "outputs": [
    {
     "data": {
      "application/vnd.jupyter.widget-view+json": {
       "model_id": "d7a2158ed46442b6ad23fb9caacc20fc",
       "version_major": 2,
       "version_minor": 0
      },
      "text/plain": [
       "interactive(children=(Dropdown(description='baseline', options=('M07e-J11', 'M07e-J18', 'M07e-J4'), value='M07…"
      ]
     },
     "metadata": {},
     "output_type": "display_data"
    }
   ],
   "source": [
    "feature_accros_conditions(results['MAGeCK_RRA'])"
   ]
  },
  {
   "cell_type": "markdown",
   "metadata": {},
   "source": [
    "### CRISPhieRmix - Feature accross conditions"
   ]
  },
  {
   "cell_type": "code",
   "execution_count": 6,
   "metadata": {},
   "outputs": [
    {
     "data": {
      "application/vnd.jupyter.widget-view+json": {
       "model_id": "91eadbcd9aa24e4bb8c4e019450fe535",
       "version_major": 2,
       "version_minor": 0
      },
      "text/plain": [
       "interactive(children=(Dropdown(description='baseline', options=('M07e-J11', 'M07e-J18', 'M07e-J4'), value='M07…"
      ]
     },
     "metadata": {},
     "output_type": "display_data"
    }
   ],
   "source": [
    "feature_accros_conditions(results['CRISPhieRmix'])"
   ]
  },
  {
   "cell_type": "markdown",
   "metadata": {},
   "source": [
    "### BAGEL - Feature accross conditions"
   ]
  },
  {
   "cell_type": "code",
   "execution_count": 7,
   "metadata": {},
   "outputs": [
    {
     "data": {
      "application/vnd.jupyter.widget-view+json": {
       "model_id": "b455585a15ec4360ba9549b37d9c2cbf",
       "version_major": 2,
       "version_minor": 0
      },
      "text/plain": [
       "interactive(children=(Dropdown(description='baseline', options=('M07e-J11', 'M07e-J18', 'M07e-J4'), value='M07…"
      ]
     },
     "metadata": {},
     "output_type": "display_data"
    }
   ],
   "source": [
    "feature_accros_conditions(results['BAGEL'])"
   ]
  },
  {
   "cell_type": "markdown",
   "metadata": {},
   "source": [
    "## Annotations"
   ]
  },
  {
   "cell_type": "markdown",
   "metadata": {},
   "source": [
    "### EnrichR"
   ]
  },
  {
   "cell_type": "code",
   "execution_count": 8,
   "metadata": {},
   "outputs": [
    {
     "data": {
      "application/vnd.jupyter.widget-view+json": {
       "model_id": "117ffd3827474090b03b231e9dcc7fba",
       "version_major": 2,
       "version_minor": 0
      },
      "text/plain": [
       "interactive(children=(Text(value='My gene list', description='Description:', placeholder='Description'), Dropd…"
      ]
     },
     "metadata": {},
     "output_type": "display_data"
    }
   ],
   "source": [
    "TOOLS = [tool for tool in results.keys()]\n",
    "\n",
    "BASES = open(\"../../workflow/notebooks/enrichr_list.txt\", \"r\").readlines()\n",
    "\n",
    "\n",
    "        \n",
    "def enrichr_plots(pitviper_res):\n",
    "    conditions = [{'baseline':condition.split('_vs_')[1] , 'treatment':condition.split('_vs_')[0]} for condition in pitviper_res.comparisons_dict.keys()]\n",
    "    @interact(description=widgets.Text(value='My gene list', placeholder='Description', description='Description:'), base=BASES, baseline=set([condition['baseline'] for condition in conditions]))\n",
    "    def enrichr_plots(description, base, baseline):\n",
    "        treatments = [condition['treatment'] for condition in conditions if condition['baseline'] == baseline]\n",
    "        @interact(size=[5, 10, 20, 50, 100, 200], tool=TOOLS, treatment=treatments, fdr_cutoff=widgets.FloatSlider(min=0.0, max=1.0, step=0.01, value=0.05))\n",
    "        def enrichr_plots(treatment, tool, fdr_cutoff, size):\n",
    "            comparisons = [condition['treatment']+'_vs_'+baseline for condition in conditions if condition['baseline'] == baseline]\n",
    "            print('Description:', description)\n",
    "            print('Baseline:', baseline)\n",
    "            print('Treatment:', treatment)\n",
    "            print('FDR cut-off:', fdr_cutoff)\n",
    "            print('Tool:', tool)\n",
    "            print('Gene set library:', base)\n",
    "            \n",
    "            if tool == 'MAGeCK_MLE':\n",
    "                info = pitviper_res.comparisons_dict[treatment+'_vs_'+baseline]['table']\n",
    "                info = info.loc[info[treatment+'|fdr'] < fdr_cutoff]\n",
    "                genes = info['Gene']\n",
    "\n",
    "            print(\"Size (gene set):\", len(genes))\n",
    "            \n",
    "            def on_button_clicked(b):\n",
    "                enrichr_res = getEnrichrResults(genes, description, base)\n",
    "                table = createEnrichrTable(enrichr_res)\n",
    "                chart = enrichmentBarPlot(table, size, description)\n",
    "                with output:\n",
    "                    display(chart)\n",
    "\n",
    "            \n",
    "            button = widgets.Button(description=\"Show EnrichR results\")\n",
    "            output = widgets.Output()\n",
    "\n",
    "            display(button, output)\n",
    "\n",
    "            button.on_click(on_button_clicked)\n",
    "\n",
    "                        \n",
    "enrichr_plots(results['MAGeCK_MLE'])"
   ]
  }
 ],
 "metadata": {
  "finalized": {
   "timestamp": 1617116378004,
   "trusted": true
  },
  "kernelspec": {
   "display_name": "jupy",
   "language": "python",
   "name": "jupy"
  },
  "language_info": {
   "codemirror_mode": {
    "name": "ipython",
    "version": 3
   },
   "file_extension": ".py",
   "mimetype": "text/x-python",
   "name": "python",
   "nbconvert_exporter": "python",
   "pygments_lexer": "ipython3",
   "version": "3.9.2"
  }
 },
 "nbformat": 4,
 "nbformat_minor": 5
}
