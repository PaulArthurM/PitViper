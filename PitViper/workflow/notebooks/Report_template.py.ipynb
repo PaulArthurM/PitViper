{
 "cells": [
  {
   "attachments": {},
   "cell_type": "markdown",
   "metadata": {},
   "source": [
    "# PitViper Report"
   ]
  },
  {
   "attachments": {},
   "cell_type": "markdown",
   "metadata": {},
   "source": [
    "This notebook was generated automatically by PitViper.\n",
    "\n",
    "## Summary\n",
    "\n",
    "This report contains the results of the analysis of the data contained in the folder `results/{token}`.\n",
    "\n",
    "Graphs are generated using the python library [Altair](https://altair-viz.github.io/index.html). Figures can be downloaded in SVG format from the drop-down menu at the top right of each graphic."
   ]
  },
  {
   "cell_type": "code",
   "execution_count": 2,
   "metadata": {},
   "outputs": [
    {
     "name": "stderr",
     "output_type": "stream",
     "text": [
      "R[write to console]: snapshotDate(): 2021-10-19\n",
      "\n"
     ]
    },
    {
     "ename": "NameError",
     "evalue": "name 'snakemake' is not defined",
     "output_type": "error",
     "traceback": [
      "\u001b[0;31m---------------------------------------------------------------------------\u001b[0m",
      "\u001b[0;31mNameError\u001b[0m                                 Traceback (most recent call last)",
      "\u001b[0;32m/tmp/ipykernel_4804/3692523996.py\u001b[0m in \u001b[0;36m<module>\u001b[0;34m\u001b[0m\n\u001b[1;32m     13\u001b[0m \u001b[0;34m\u001b[0m\u001b[0m\n\u001b[1;32m     14\u001b[0m \u001b[0;31m# Change working directory\u001b[0m\u001b[0;34m\u001b[0m\u001b[0;34m\u001b[0m\u001b[0;34m\u001b[0m\u001b[0m\n\u001b[0;32m---> 15\u001b[0;31m \u001b[0mworking_directory_update\u001b[0m\u001b[0;34m(\u001b[0m\u001b[0msnakemake\u001b[0m\u001b[0;34m.\u001b[0m\u001b[0moutput\u001b[0m\u001b[0;34m[\u001b[0m\u001b[0;36m0\u001b[0m\u001b[0;34m]\u001b[0m\u001b[0;34m)\u001b[0m\u001b[0;34m\u001b[0m\u001b[0;34m\u001b[0m\u001b[0m\n\u001b[0m\u001b[1;32m     16\u001b[0m \u001b[0;34m\u001b[0m\u001b[0m\n\u001b[1;32m     17\u001b[0m \u001b[0;31m# Initialize token\u001b[0m\u001b[0;34m\u001b[0m\u001b[0;34m\u001b[0m\u001b[0;34m\u001b[0m\u001b[0m\n",
      "\u001b[0;31mNameError\u001b[0m: name 'snakemake' is not defined"
     ]
    }
   ],
   "source": [
    "# Load necessary libraries\n",
    "import sys\n",
    "import os\n",
    "\n",
    "# Load PitViper functions\n",
    "modules_path = ['workflow/notebooks/', \"../../../workflow/notebooks/\"]\n",
    "for module in modules_path:\n",
    "    module_path = os.path.abspath(os.path.join(module))\n",
    "    if module_path not in sys.path:\n",
    "        sys.path.append(module_path)\n",
    "\n",
    "from functions_pitviper_report import * \n",
    "\n",
    "# Change working directory\n",
    "working_directory_update(snakemake.output[0])\n",
    "\n",
    "# Initialize token\n",
    "token = snakemake.params\n",
    "\n",
    "HTML('''<script> code_show=true;  function code_toggle() {  if (code_show){  $('div.input').hide();  } else {  $('div.input').show();  }  code_show = !code_show }  $( document ).ready(code_toggle); </script> <form action=\"javascript:code_toggle()\"><input type=\"submit\" value=\"Toggle Code\"></form>''')"
   ]
  },
  {
   "attachments": {},
   "cell_type": "markdown",
   "metadata": {},
   "source": [
    "## Import results\n",
    "\n",
    "`tools_available` is a python dictionnary containing the results of the analysis. It is structured as follows:\n",
    "\n",
    "> tools_available[`name of tool`][`comparison`][`file`] = pandas.DataFrame\n",
    "\n",
    "Example:\n",
    "\n",
    "> tools_available[\"MAGeCK_MLE\"][\"D25_vs_D4\"][\"D25_vs_D4.genesummary.txt\"] return a pandas dataframe"
   ]
  },
  {
   "cell_type": "code",
   "execution_count": null,
   "metadata": {},
   "outputs": [],
   "source": [
    "results_directory, tools_available = import_results(token)"
   ]
  },
  {
   "attachments": {},
   "cell_type": "markdown",
   "metadata": {},
   "source": [
    "## Mapping Quality Control\n",
    "\n",
    "If available, mapping quality control metrics will be shown by `show_mapping_qc` function.\n",
    "\n",
    "**Download normalized data:**"
   ]
  },
  {
   "cell_type": "code",
   "execution_count": null,
   "metadata": {
    "scrolled": true
   },
   "outputs": [],
   "source": [
    "download_normalized_counts(token)"
   ]
  },
  {
   "cell_type": "markdown",
   "metadata": {},
   "source": [
    "**Download raw data:**"
   ]
  },
  {
   "cell_type": "code",
   "execution_count": null,
   "metadata": {},
   "outputs": [],
   "source": [
    "download_raw_counts(token)"
   ]
  },
  {
   "cell_type": "code",
   "execution_count": null,
   "metadata": {},
   "outputs": [],
   "source": [
    "show_mapping_qc(token)"
   ]
  },
  {
   "cell_type": "markdown",
   "metadata": {},
   "source": [
    "## Read count distribution\n",
    "\n",
    "Normalized read count distribution for all replicates will be shown by calling `show_read_count_distribution` function."
   ]
  },
  {
   "cell_type": "code",
   "execution_count": null,
   "metadata": {},
   "outputs": [],
   "source": [
    "alt.data_transformers.disable_max_rows()\n",
    "\n",
    "show_read_count_distribution(token)"
   ]
  },
  {
   "cell_type": "markdown",
   "metadata": {},
   "source": [
    "## Principal component analysis\n",
    "\n",
    "PCA projection of normalized read counts from all replicates is shown using `pca_counts`."
   ]
  },
  {
   "cell_type": "code",
   "execution_count": null,
   "metadata": {},
   "outputs": [],
   "source": [
    "pca_counts(token)"
   ]
  },
  {
   "attachments": {},
   "cell_type": "markdown",
   "metadata": {},
   "source": [
    "## Global results\n",
    "\n",
    "The `snake_plot` function allow to easilly browse results for each tool.\n",
    "\n",
    "- MAGeCk MLE: \n",
    "\n",
    "> The **beta score** describes how the gene is selected: a positive beta score indicates a positive selection, and a negative beta score indicates a negative selection. [source](https://www.bioconductor.org/packages/release/bioc/vignettes/MAGeCKFlute/inst/doc/MAGeCKFlute.html)\n",
    "\n",
    "- MAGeCK RRA:\n",
    "\n",
    "> lfc:  **Gene log fold changes** (LFC) from sgRNA LFCs. Median by default. [source](https://sourceforge.net/p/mageck/wiki/Home/)\n",
    "\n",
    "- BAGEL:\n",
    "\n",
    "> BF: evaluates the **likelihood** that the observed fold changes for gRNA targeting the gene were drawn from either the essential or the nonessential training distributions. [source](https://bmcbioinformatics.biomedcentral.com/articles/10.1186/s12859-016-1015-8)\n",
    "\n",
    "- CRISPhieRmix:\n",
    "\n",
    "> locfdr: a mixture deconvolution approach to estimate **local false discovery rates**. [source](https://genomebiology.biomedcentral.com/articles/10.1186/s13059-018-1538-6)\n",
    "\n",
    "- SSREA:\n",
    "\n",
    "> NES: **normalized enrichment score** (NES) is the primary statistic for examining gene set enrichment results. By normalizing the enrichment score, GSEA accounts for differences in gene set size and in correlations between gene sets and the expression dataset; therefore, the normalized enrichment scores (NES) can be used to compare analysis results across gene sets. In this context, genesets are replaced by lists of sgRNAs targeting the same element. [source](https://www.gsea-msigdb.org/gsea/doc/GSEAUserGuideFrame.html)\n",
    "\n",
    "- Directional Scoring Method:\n",
    "\n",
    "> score: sum of log2FoldChange*(-log10(padj)) of sgRNAs targeting the same gene and passing individual thresholds as described in the PitViper article."
   ]
  },
  {
   "cell_type": "code",
   "execution_count": null,
   "metadata": {},
   "outputs": [],
   "source": [
    "tool_results(results_directory, tools_available, token)"
   ]
  },
  {
   "attachments": {},
   "cell_type": "markdown",
   "metadata": {},
   "source": [
    "## sgRNA read counts - Heatmap\n",
    "\n",
    "Next module allow to visualize a row-normalized heatmap of read counts by guide.\n",
    "\n",
    "Replicates can be discarded or rearranged by dragging and dropping from right to left."
   ]
  },
  {
   "cell_type": "code",
   "execution_count": null,
   "metadata": {
    "scrolled": false
   },
   "outputs": [],
   "source": [
    "show_sgRNA_counts(token)"
   ]
  },
  {
   "attachments": {},
   "cell_type": "markdown",
   "metadata": {},
   "source": [
    "### sgRNA read counts - Line plot\n",
    "\n",
    "Same data as above, but displayed as a line plot. Error bars represent the standard deviation of the normalized read counts."
   ]
  },
  {
   "cell_type": "code",
   "execution_count": null,
   "metadata": {},
   "outputs": [],
   "source": [
    "show_sgRNA_counts_lines(token)"
   ]
  },
  {
   "attachments": {},
   "cell_type": "markdown",
   "metadata": {},
   "source": [
    "## Results by tool and by element\n",
    "\n",
    "The following section allow to browse results by tool and by element. Produce on plot per tool and gene."
   ]
  },
  {
   "cell_type": "code",
   "execution_count": null,
   "metadata": {},
   "outputs": [],
   "source": [
    "tool_results_by_element(results_directory, tools_available, token)"
   ]
  },
  {
   "attachments": {},
   "cell_type": "markdown",
   "metadata": {},
   "source": [
    "## Data exploration\n",
    "\n",
    "This section allow to explore the data in a more interactive way.\n",
    "\n",
    "Conditions can be selected by clicking on the first widget. The second widget allow to select the tools to use for the analysis. Several tools can be selected at the same time. Upon selection, parameters widgets will appear below.\n",
    "\n",
    "Selection mode can be changed by clicking on the third widget. The default mode is \"Intersection\" to keep only genes that are selected in all conditions. The \"Union\" mode will keep all genes that are selected in at least one condition.\n",
    "\n",
    "For each tool, the following parameters can be changed to filter the results:\n",
    "\n",
    "- MAGeCK MLE: beta score threshold (score), adjsuted p-value threshold (FDR) and orientation relative to the score (greater or lower).\n",
    "\n",
    "- MAGeCK RRA: log fold change threshold (score), adjsuted p-value threshold (FDR) and orientation relative to the score (selection). Negative or positive results can be selected (diretion).\n",
    "\n",
    "- BAGEL: Bayes Factor threshold (score) and orientation relative to the score (greater or lower).\n",
    "\n",
    "- CRISPhieRmix: local false discovery rate threshold (FDR), mean of top-3 sgRNAs LFC (score) and orientation relative to the score (selection).\n",
    "\n",
    "- SSREA: normalized enrichment score threshold (score), adjsuted p-value threshold (FDR) and orientation relative to the score (selection).\n",
    "\n",
    "- Directional Scoring Method: direction of the selection."
   ]
  },
  {
   "cell_type": "code",
   "execution_count": null,
   "metadata": {
    "scrolled": false
   },
   "outputs": [],
   "source": [
    "multiple_tools_results(tools_available, token)"
   ]
  }
 ],
 "metadata": {
  "kernelspec": {
   "display_name": "pitviper_test",
   "language": "python",
   "name": "python3"
  },
  "language_info": {
   "codemirror_mode": {
    "name": "ipython",
    "version": 3
   },
   "file_extension": ".py",
   "mimetype": "text/x-python",
   "name": "python",
   "nbconvert_exporter": "python",
   "pygments_lexer": "ipython3",
   "version": "3.8.5"
  },
  "toc": {
   "base_numbering": 1,
   "nav_menu": {},
   "number_sections": false,
   "sideBar": false,
   "skip_h1_title": false,
   "title_cell": "Table of Contents",
   "title_sidebar": "Contents",
   "toc_cell": false,
   "toc_position": {},
   "toc_section_display": false,
   "toc_window_display": false
  },
  "vscode": {
   "interpreter": {
    "hash": "731f6b2f272c73edf681270b2e4b334d9df13a591389fd5e91fc662e3db005f7"
   }
  }
 },
 "nbformat": 4,
 "nbformat_minor": 4
}
