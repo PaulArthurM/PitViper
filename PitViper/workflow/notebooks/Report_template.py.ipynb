{
 "cells": [
  {
   "cell_type": "code",
   "execution_count": 1,
   "metadata": {},
   "outputs": [
    {
     "ename": "NameError",
     "evalue": "name 'snakemake' is not defined",
     "output_type": "error",
     "traceback": [
      "\u001b[0;31m---------------------------------------------------------------------------\u001b[0m",
      "\u001b[0;31mNameError\u001b[0m                                 Traceback (most recent call last)",
      "\u001b[0;32m<ipython-input-1-9285566e6268>\u001b[0m in \u001b[0;36m<module>\u001b[0;34m\u001b[0m\n\u001b[1;32m      1\u001b[0m \u001b[0;31m# start coding here\u001b[0m\u001b[0;34m\u001b[0m\u001b[0;34m\u001b[0m\u001b[0;34m\u001b[0m\u001b[0m\n\u001b[0;32m----> 2\u001b[0;31m \u001b[0mtoken\u001b[0m \u001b[0;34m=\u001b[0m \u001b[0msnakemake\u001b[0m\u001b[0;34m.\u001b[0m\u001b[0mparams\u001b[0m\u001b[0;34m\u001b[0m\u001b[0;34m\u001b[0m\u001b[0m\n\u001b[0m",
      "\u001b[0;31mNameError\u001b[0m: name 'snakemake' is not defined"
     ]
    }
   ],
   "source": [
    "# start coding here\n",
    "token = snakemake.params"
   ]
  },
  {
   "cell_type": "markdown",
   "metadata": {},
   "source": [
    "# PitViper Notebook Report"
   ]
  },
  {
   "cell_type": "markdown",
   "metadata": {},
   "source": [
    "This notebook was generated automatically by PitViper.\n",
    "\n",
    "It can be used in two ways:\n",
    "\n",
    "1. By using the functions already created and present in the following cells.\n",
    "\n",
    "2. By creating new cells and writing python3 code in them.\n",
    "\n",
    "The graphs are generated using the python library [Altair](https://altair-viz.github.io/index.html). It is possible to download each graph in SVG format from the drop-down menu at the top right of each graph.\n",
    "\n",
    "The next cell allows to call the functions already created for the visualization of the results."
   ]
  },
  {
   "cell_type": "code",
   "execution_count": null,
   "metadata": {},
   "outputs": [],
   "source": [
    "import sys\n",
    "import os\n",
    "\n",
    "modules_path = ['workflow/notebooks/', \"../../../workflow/notebooks/\"]\n",
    "for module in modules_path:\n",
    "    module_path = os.path.abspath(os.path.join(module))\n",
    "    if module_path not in sys.path:\n",
    "        sys.path.append(module_path)\n",
    "\n",
    "from functions import * \n",
    "\n",
    "working_directory_update(snakemake.output[0])"
   ]
  },
  {
   "cell_type": "markdown",
   "metadata": {},
   "source": [
    "### rpy2\n",
    "\n",
    "Next cell load rpy2 which allow to define cells running R code by adding `%%R` at the first line of the cell. \n",
    "\n",
    "Note: it's possible to forward some python-specific objects (such as list or pandas dataframe) to R cells using `-i` parameters followed by objects name (`%%R -i token`, token string is then available as an R object)."
   ]
  },
  {
   "cell_type": "code",
   "execution_count": null,
   "metadata": {},
   "outputs": [],
   "source": [
    "%load_ext rpy2.ipython"
   ]
  },
  {
   "cell_type": "code",
   "execution_count": null,
   "metadata": {},
   "outputs": [],
   "source": [
    "%%R\n",
    "\n",
    "source(\"workflow/notebooks/functions_R.R\")"
   ]
  },
  {
   "cell_type": "markdown",
   "metadata": {},
   "source": [
    "## Process data\n",
    "\n",
    "Next function scan `results/` directory to retrieve all results.\n",
    "\n",
    "`tools_available` is python dictionnary in which all data are stored in a comprehensive manner."
   ]
  },
  {
   "cell_type": "code",
   "execution_count": null,
   "metadata": {},
   "outputs": [],
   "source": [
    "results_directory, tools_available = setup_step_1(token)"
   ]
  },
  {
   "cell_type": "markdown",
   "metadata": {},
   "source": [
    "## Mapping Quality Control\n",
    "\n",
    "If available, mapping quality control metrics will be shown by next function (`show_mapping_qc`)."
   ]
  },
  {
   "cell_type": "code",
   "execution_count": null,
   "metadata": {},
   "outputs": [],
   "source": [
    "show_mapping_qc(token)"
   ]
  },
  {
   "cell_type": "markdown",
   "metadata": {},
   "source": [
    "## Read count distribution\n",
    "\n",
    "Normalized read count distribution for all replicates will be shown by calling `show_read_count_distribution` function."
   ]
  },
  {
   "cell_type": "code",
   "execution_count": null,
   "metadata": {},
   "outputs": [],
   "source": [
    "alt.data_transformers.disable_max_rows()\n",
    "\n",
    "show_read_count_distribution(token)"
   ]
  },
  {
   "cell_type": "markdown",
   "metadata": {},
   "source": [
    "## Principal component analysis"
   ]
  },
  {
   "cell_type": "code",
   "execution_count": null,
   "metadata": {},
   "outputs": [],
   "source": [
    "pca_counts(token)"
   ]
  },
  {
   "cell_type": "markdown",
   "metadata": {},
   "source": [
    "## Tools global results"
   ]
  },
  {
   "cell_type": "code",
   "execution_count": null,
   "metadata": {},
   "outputs": [],
   "source": [
    "snake_plot(results_directory, tools_available)"
   ]
  },
  {
   "cell_type": "markdown",
   "metadata": {},
   "source": [
    "## sgRNA read counts by element"
   ]
  },
  {
   "cell_type": "code",
   "execution_count": null,
   "metadata": {},
   "outputs": [],
   "source": [
    "show_sgRNA_counts(token) "
   ]
  },
  {
   "cell_type": "code",
   "execution_count": null,
   "metadata": {},
   "outputs": [],
   "source": [
    "%%R -i token\n",
    "\n",
    "config_data <- get_data(token)\n",
    "\n",
    "tsv_file <- config_data$tsv\n",
    "cts_file <- config_data$cts\n",
    "\n",
    "mean_counts_by_condition(conditions = \"J4,J11,J18,J25\",\n",
    "                         gene = \"MYC\")"
   ]
  },
  {
   "cell_type": "markdown",
   "metadata": {},
   "source": [
    "## results by tool and by element"
   ]
  },
  {
   "cell_type": "code",
   "execution_count": null,
   "metadata": {},
   "outputs": [],
   "source": [
    "CRISPhieRmix_results(results_directory, tools_available)"
   ]
  },
  {
   "cell_type": "code",
   "execution_count": null,
   "metadata": {},
   "outputs": [],
   "source": [
    "GSEA_like_results(results_directory, tools_available)"
   ]
  },
  {
   "cell_type": "code",
   "execution_count": null,
   "metadata": {},
   "outputs": [],
   "source": [
    "in_house_method_results(results_directory, tools_available)"
   ]
  },
  {
   "cell_type": "code",
   "execution_count": null,
   "metadata": {},
   "outputs": [],
   "source": [
    "MAGeCK_RRA_results(results_directory, tools_available)"
   ]
  },
  {
   "cell_type": "code",
   "execution_count": null,
   "metadata": {},
   "outputs": [],
   "source": [
    "MAGeCK_MLE_results(results_directory, tools_available)"
   ]
  },
  {
   "cell_type": "code",
   "execution_count": null,
   "metadata": {},
   "outputs": [],
   "source": [
    "BAGEL_results(results_directory, tools_available)"
   ]
  },
  {
   "cell_type": "code",
   "execution_count": null,
   "metadata": {},
   "outputs": [],
   "source": [
    "enrichr_plots(tools_available)"
   ]
  },
  {
   "cell_type": "markdown",
   "metadata": {},
   "source": [
    "## GeneMania"
   ]
  },
  {
   "cell_type": "code",
   "execution_count": null,
   "metadata": {},
   "outputs": [],
   "source": [
    "genemania_link_results(tools_available)"
   ]
  },
  {
   "cell_type": "code",
   "execution_count": null,
   "metadata": {},
   "outputs": [],
   "source": [
    "intersection(tools_available, token)"
   ]
  },
  {
   "cell_type": "markdown",
   "metadata": {},
   "source": [
    "## Definition of ranks and occurrences\n",
    "\n",
    "In next cell, choose which conditions to compare."
   ]
  },
  {
   "cell_type": "code",
   "execution_count": null,
   "metadata": {},
   "outputs": [],
   "source": [
    "TREATMENT = \"J25\"\n",
    "CONTROL = \"J4\""
   ]
  },
  {
   "cell_type": "code",
   "execution_count": null,
   "metadata": {},
   "outputs": [],
   "source": [
    "ranks, occurences = ranking(TREATMENT, CONTROL, token, tools_available)"
   ]
  },
  {
   "cell_type": "markdown",
   "metadata": {},
   "source": [
    "## Venn diagram"
   ]
  },
  {
   "cell_type": "code",
   "execution_count": null,
   "metadata": {},
   "outputs": [],
   "source": [
    "%%R -i occurences,CONTROL,TREATMENT\n",
    "\n",
    "venn_diagram(occurences, TREATMENT, CONTROL)"
   ]
  },
  {
   "cell_type": "markdown",
   "metadata": {},
   "source": [
    "## Essentiality prioritisation using RobustRankAggregation\n",
    "\n",
    "In this section, the `RobustRankAggreg` (RRA) method is used to integrate ranks derived from the results calculated by each selected method."
   ]
  },
  {
   "cell_type": "code",
   "execution_count": null,
   "metadata": {},
   "outputs": [],
   "source": [
    "%%R -i ranks\n",
    "\n",
    "res <- RobustRankAggregate(ranks)\n",
    "\n",
    "res %>% filter(Score < 0.05)"
   ]
  },
  {
   "cell_type": "markdown",
   "metadata": {},
   "source": [
    "## depmap integration with \"Essentiality prioritisation\" results"
   ]
  },
  {
   "cell_type": "code",
   "execution_count": null,
   "metadata": {},
   "outputs": [],
   "source": [
    "%%R\n",
    "\n",
    "library(depmap)\n",
    "library(\"ExperimentHub\")\n",
    "library(ggplot2)\n",
    "\n",
    "## create ExperimentHub query object\n",
    "eh <- ExperimentHub()\n",
    "\n",
    "# rnai <- eh[[\"EH2260\"]]\n",
    "\n",
    "# rnai"
   ]
  },
  {
   "cell_type": "code",
   "execution_count": null,
   "metadata": {},
   "outputs": [],
   "source": [
    "%%R\n",
    "\n",
    "eh"
   ]
  },
  {
   "cell_type": "code",
   "execution_count": null,
   "metadata": {},
   "outputs": [],
   "source": [
    "# %%R -i\n",
    "\n",
    "# query.gene <- \"MYC\"\n",
    "# query.cell_line <- \"KASUMI2_HAEMATOPOIETIC_AND_LYMPHOID_TISSUE\"\n",
    "# query.cell_line_name <- \"KASUMI2\"\n",
    "\n",
    "# essential.genes <- res %>%\n",
    "#     filter(Score < 0.05) %>%\n",
    "#     pull(Name)\n",
    "\n",
    "\n",
    "# rnai.filtered <- rnai %>%\n",
    "#     filter(cell_line == query.cell_line) %>%\n",
    "#     mutate(essential = ifelse(gene_name %in% essential.genes, \"essential\", \"non-essential\")) %>%\n",
    "#     filter(!is.na(dependency))\n",
    "\n",
    "\n",
    "# gene.dependency <- rnai.filtered %>%\n",
    "#     filter(gene_name == query.gene) %>%\n",
    "#     pull(dependency)\n",
    "\n",
    "\n",
    "# rnai.filtered %>%\n",
    "#     ggplot(aes(x=dependency, fill=essential)) + \n",
    "#     geom_density(alpha=0.4) + \n",
    "#     theme_classic() +\n",
    "#     scale_fill_manual(values=c(\"#E69F00\", \"#999999\")) +\n",
    "#     geom_vline(xintercept = 0) +\n",
    "#     geom_rug(data = subset(rnai.filtered, essential == \"essential\"), col=\"#E69F00\", alpha=0.5, sides = \"t\") +\n",
    "#     geom_rug(data = subset(rnai.filtered, essential == \"non-essential\"), col=\"#999999\", alpha=0.5, outside = TRUE, sides = \"t\") +\n",
    "#     coord_cartesian(clip = \"off\") +\n",
    "#     geom_vline(xintercept = gene.dependency, linetype=\"dashed\", color = \"red\", size=1) +\n",
    "#     ggtitle(paste0(query.cell_line_name, \"dependencies (\", query.gene,\" highlighted)\")) +\n",
    "#     theme(plot.title = element_text(vjust = 4),\n",
    "#           plot.margin = margin(10, 10, 10, 10))\n"
   ]
  },
  {
   "cell_type": "code",
   "execution_count": null,
   "metadata": {},
   "outputs": [],
   "source": [
    "# %%R\n",
    "\n",
    "# library(ggridges)\n",
    "# library(tidyr)\n",
    "# library(forcats)\n",
    "\n",
    "# rnai.filtered <- rnai %>%\n",
    "#     filter(grepl(\"HAEMATOPOIETIC_AND_LYMPHOID_TISSUE\", cell_line)) %>%\n",
    "#     mutate(essential = ifelse(gene_name %in% essential.genes, \"essential\", \"non-essential\")) %>%\n",
    "#     filter(!is.na(dependency))\n",
    "\n",
    "\n",
    "# rnai.filtered %>%\n",
    "#     mutate(cell_line = fct_reorder(.f = cell_line, .x = -dependency, .fun = median)) %>%\n",
    "#     filter(essential == \"essential\") %>%\n",
    "#     ggplot(aes(x = `dependency`, y = cell_line, fill = stat(x))) +\n",
    "#         geom_density_ridges_gradient(scale = 3, rel_min_height = 0.01, quantile_lines = TRUE, quantiles = 2) +\n",
    "#         scale_fill_viridis_c() +\n",
    "#         geom_vline(xintercept=-0.5, color = \"red\", size=1) +\n",
    "#         geom_vline(xintercept=0, color = \"black\", size=1, linetype=\"dashed\") +\n",
    "#         theme_classic()\n"
   ]
  },
  {
   "cell_type": "code",
   "execution_count": null,
   "metadata": {},
   "outputs": [],
   "source": [
    "# import pandas as pd\n",
    "# import rpy2.robjects as robjects\n",
    "# from rpy2.robjects import pandas2ri# Defining the R script and loading the instance in Python\n",
    "# r = robjects.r\n",
    "# r['source']('preprocess.R')# Loading the function we have defined in R.\n",
    "# filter_country_function_r = robjects.globalenv['filter_country']# Reading and processing data\n",
    "# df = pd.read_csv(\"Country-Sales.csv\")#converting it into r object for passing into r function\n",
    "# df_r = pandas2ri.ri2py(df)\n",
    "# #Invoking the R function and getting the result\n",
    "# df_result_r = filter_country_function_r(df_r, 'USA')\n",
    "# #Converting it back to a pandas dataframe.\n",
    "# df_result = pandas2ri.py2ri(df_result_r)"
   ]
  },
  {
   "cell_type": "code",
   "execution_count": null,
   "metadata": {},
   "outputs": [],
   "source": [
    "tools = list(tools_available.keys())\n",
    "\n",
    "SCHEMES = [\"reds\", \"accent\", \"redblue\", \"rainbow\"]\n",
    "\n",
    "def plot_chart(data, tool, condition, file, x, y, method, column_filter='', cutoff=0, greater=False, element='', column_element='', elem_color='', pass_color='', fail_color='', category_column = '', color_scheme='', reverse=''):\n",
    "    source = data[tool][condition][file].copy()\n",
    "    show_plot = True\n",
    "    if method == 'Cut-off':\n",
    "        if (source[column_filter].dtype in [np.float64, np.int64]):\n",
    "            if not greater:\n",
    "                pass_value = \"%s < %s\" % (column_filter,cutoff)\n",
    "                fail_value = \"%s >= %s\" % (column_filter,cutoff)\n",
    "                source.loc[source[column_filter] < cutoff, 'filter'] = pass_value\n",
    "                source.loc[source[column_filter] >= cutoff, 'filter'] = fail_value\n",
    "                source.loc[source[column_element] == element, 'filter'] = element\n",
    "            else:\n",
    "                pass_value = \"%s >= %s\" % (column_filter,cutoff)\n",
    "                fail_value = \"%s < %s\" % (column_filter,cutoff)\n",
    "                source.loc[source[column_filter] >= cutoff, 'filter'] = pass_value\n",
    "                source.loc[source[column_filter] < cutoff, 'filter'] = fail_value\n",
    "                source.loc[source[column_element] == element, 'filter'] = element                \n",
    "            domain = [pass_value, fail_value, element]\n",
    "            range_ = [pass_color, fail_color, elem_color]\n",
    "        else:\n",
    "            source['filter'] = 'pass'\n",
    "            show_plot = False\n",
    "            print('Choose a column of integer or float type.')\n",
    "    if show_plot:\n",
    "        if method == 'Cut-off':\n",
    "            chart = alt.Chart(source).transform_calculate(\n",
    "                order=\"{'%s': 0, '%s': 1, '%s': 2}[datum.%s]\" % (element, pass_value, fail_value, column_element)\n",
    "            ).mark_circle().encode(\n",
    "                x=x,\n",
    "                y=y,\n",
    "                tooltip = list(source.columns),\n",
    "                color=alt.Color('filter', scale=alt.Scale(domain=domain, range=range_), legend=alt.Legend(title=\"Pass filter:\")),\n",
    "                order='order:Q'\n",
    "            ).interactive()\n",
    "            display(chart)\n",
    "        else:\n",
    "            chart = alt.Chart(source).mark_circle().encode(\n",
    "                x=x,\n",
    "                y=y,\n",
    "                tooltip = list(source.columns),\n",
    "                color=alt.Color(category_column, legend=alt.Legend(title=\"%s:\" % category_column), scale=alt.Scale(scheme=color_scheme, reverse=reverse))\n",
    "            ).interactive()\n",
    "            display(chart)\n",
    "\n",
    "\n",
    "def call_form():\n",
    "    display(widgets.HTML(value=\"First, choose a <b>tool</b> to browse results:\"))\n",
    "    @interact(\n",
    "        tool = widgets.Dropdown(options=tools,value=tools[0],description='Tool:',disabled=False))\n",
    "    def form(tool):\n",
    "        display(widgets.HTML(value=\"Choose a <b>condition</b> available for this tool:\"))\n",
    "        conditions = list(tools_available[tool].keys())\n",
    "        @interact(\n",
    "            condition = widgets.Dropdown(options=conditions,value=conditions[0],description='Condition:',disabled=False))\n",
    "        def form(condition):\n",
    "            display(widgets.HTML(value=\"Choose a <b>file</b>:\"))\n",
    "            files = list(tools_available[tool][condition].keys())\n",
    "            @interact(file = widgets.Dropdown(options=files,value=files[0],description='File:',disabled=False))\n",
    "            def form(file):\n",
    "                display(widgets.HTML(value=\"Choose which columns to use as <b>x</b> and <b>y</b> axis:\"))\n",
    "                columns = tools_available[tool][condition][file].columns\n",
    "                @interact(x = widgets.Dropdown(options=columns,value=columns[0],description='x:',disabled=False),\n",
    "                          y = widgets.Dropdown(options=columns,value=columns[1],description='y:',disabled=False))\n",
    "                def form(x , y):\n",
    "                    display(widgets.HTML(value=\"Results can be colored using two <b>methods</b>.</br> <ul><li>Cut-off: Choose a <b>column</b> with numerical values on which you want to apply a <b>cut-off</b></li><li>Category: choose a column and a color scheme.</li></ul>\"))\n",
    "                    @interact(method = widgets.ToggleButtons(options=['Cut-off', 'Category'],value='Cut-off', description='Method:'))\n",
    "                    def form(method):\n",
    "                        if method == 'Cut-off':\n",
    "                            display(widgets.HTML(value=\"Now choose a column with numerical data and a set a <b>cut-off</b> value.\"))\n",
    "                            @interact(column_filter = widgets.Dropdown(options=columns,value=columns[0],description='Column:',disabled=False),\n",
    "                                      cutoff = widgets.FloatText(value=0.0,description='Cut-off:'),\n",
    "                                      greater = widgets.Checkbox(value=False,description='Greater?',disabled=False,indent=True),\n",
    "                                      pass_color = widgets.ColorPicker(concise=False,description='Pass color:',value='red',disabled=False),\n",
    "                                      fail_color = widgets.ColorPicker(concise=False,description='Fail color:',value='gray',disabled=False),\n",
    "                                      column_element = widgets.Dropdown(options=columns,value=columns[0],description='Column:',disabled=False))\n",
    "                            def form(column_filter, cutoff, greater, pass_color, fail_color, column_element):\n",
    "                                display(widgets.HTML(value=\"It is possible to highlight an <b>element</b> based on a column and value from that column.\"))\n",
    "                                first_element = str(tools_available[tool][condition][file][column_element][0])\n",
    "                                @interact(element = widgets.Text(value=first_element,placeholder='Element:',description='Element:',disabled=False),\n",
    "                                          elem_color = widgets.ColorPicker(concise=False,description='Element color:',value='blue',disabled=False))\n",
    "                                def form(element, elem_color):\n",
    "                                    plot_chart(tools_available, tool, condition, file, x, y, method, column_filter, cutoff, greater, element, column_element, elem_color, pass_color, fail_color)\n",
    "                        elif method == 'Category':\n",
    "                            @interact(category_column = widgets.Dropdown(options=columns,value=columns[0],description='Category:',disabled=False),\n",
    "                                      reverse = widgets.Checkbox(value=False,description='Reverse?',disabled=False,indent=True),\n",
    "                                      color_scheme = widgets.Dropdown(options=SCHEMES,value=SCHEMES[0],description='Scheme:',disabled=False))\n",
    "                            def form(category_column, reverse, color_scheme):\n",
    "                                plot_chart(tools_available, tool, condition, file, x, y, method, category_column=category_column, color_scheme=color_scheme, reverse=reverse)"
   ]
  },
  {
   "cell_type": "code",
   "execution_count": null,
   "metadata": {},
   "outputs": [],
   "source": [
    "call_form()"
   ]
  },
  {
   "cell_type": "code",
   "execution_count": null,
   "metadata": {},
   "outputs": [],
   "source": [
    "import numpy as np\n",
    "import pandas as pd\n",
    "from clustergrammer2 import net, Network, CGM2\n",
    "import warnings\n",
    "# warnings.filterwarnings('ignore')"
   ]
  },
  {
   "cell_type": "code",
   "execution_count": null,
   "metadata": {},
   "outputs": [],
   "source": [
    "df = pd.DataFrame(np.random.randint(0,10,size=(10, 4)), columns=['BRCA2','TP53','SPNS2','MYC'])\n",
    "\n",
    "print(df)\n",
    "\n",
    "# load matrix file\n",
    "net.load_df(df)\n",
    "\n",
    "# cluster using default parameters\n",
    "# net.cluster(enrichrgram=True)\n",
    "\n",
    "# make interactive widget\n",
    "net.widget()"
   ]
  },
  {
   "cell_type": "code",
   "execution_count": null,
   "metadata": {},
   "outputs": [],
   "source": [
    "from ipywidgets import Button, HBox, VBox\n",
    "\n",
    "TOOLS = [tool for tool in tools_available.keys() if tool != \"DESeq2\"]\n",
    "\n",
    "# Define widgets's options\n",
    "conditions_options = tools_available[TOOLS[0]].keys()\n",
    "tools_options = TOOLS\n",
    "\n",
    "# Define widgets\n",
    "conditions_widget = widgets.Dropdown(options=conditions_options)\n",
    "tools_widget = widgets.SelectMultiple(options=tools_options)\n",
    "\n",
    "params = {'MAGeCK_MLE': {'on': False,\n",
    "                         'fdr': 0.05,\n",
    "                         'score': 0,\n",
    "                         'greater': True},\n",
    "          'MAGeCK_RRA': {'on': False,\n",
    "                         'fdr': 0.05,\n",
    "                         'score': 0,\n",
    "                         'greater': True},\n",
    "          'BAGEL': {'on': False,\n",
    "                         'score': 0,\n",
    "                         'greater': True},\n",
    "          'CRISPhieRmix': {'on': False,\n",
    "                         'fdr': 0.05,\n",
    "                         'score': 0,\n",
    "                         'greater': True},\n",
    "          'in_house_method': {'on': False,\n",
    "                         'direction': None,\n",
    "                         'score': 0,\n",
    "                         'greater': True},\n",
    "          'GSEA_like': {'on': False,\n",
    "                         'fdr': 0.05,\n",
    "                         'score': 0,\n",
    "                         'greater': True}}\n",
    "\n",
    "\n",
    "# Show form selection\n",
    "def show_tools(condition_selected, tools_selected):\n",
    "    \n",
    "    def mle_order_update(change):\n",
    "        with output:\n",
    "            if change['new'] == 'Greater than score':\n",
    "                params['MAGeCK_MLE']['greater'] = True\n",
    "            else:\n",
    "                params['MAGeCK_MLE']['greater'] = False\n",
    "    def mle_fdr_update(change):\n",
    "        with output:\n",
    "            params['MAGeCK_MLE']['fdr'] = change['new']\n",
    "    def mle_score_update(change):\n",
    "        with output:\n",
    "            params['MAGeCK_MLE']['score'] = change['new']\n",
    "            \n",
    "    def rra_order_update(change):\n",
    "        with output:\n",
    "            if change['new'] == 'Greater than score':\n",
    "                params['MAGeCK_RRA']['greater'] = True\n",
    "            else:\n",
    "                params['MAGeCK_RRA']['greater'] = False\n",
    "    def rra_fdr_update(change):\n",
    "        with output:\n",
    "            params['MAGeCK_RRA']['fdr'] = change['new']\n",
    "    def rra_score_update(change):\n",
    "        with output:\n",
    "            params['MAGeCK_RRA']['score'] = change['new']\n",
    "\n",
    "    def bagel_order_update(change):\n",
    "        with output:\n",
    "            if change['new'] == 'Greater than score':\n",
    "                params['BAGEL']['greater'] = True\n",
    "            else:\n",
    "                params['BAGEL']['greater'] = False\n",
    "    def bagel_fdr_update(change):\n",
    "        with output:\n",
    "            params['BAGEL']['fdr'] = change['new']\n",
    "    def bagel_score_update(change):\n",
    "        with output:\n",
    "            params['BAGEL']['score'] = change['new']\n",
    "\n",
    "    def CRISPhieRmix_order_update(change):\n",
    "        with output:\n",
    "            if change['new'] == 'Greater than score':\n",
    "                params['CRISPhieRmix']['greater'] = True\n",
    "            else:\n",
    "                params['CRISPhieRmix']['greater'] = False\n",
    "    def CRISPhieRmix_fdr_update(change):\n",
    "        with output:\n",
    "            params['CRISPhieRmix']['fdr'] = change['new']\n",
    "    def CRISPhieRmix_score_update(change):\n",
    "        with output:\n",
    "            params['CRISPhieRmix']['score'] = change['new']\n",
    "            \n",
    "    def in_house_method_order_update(change):\n",
    "        with output:\n",
    "            if change['new'] == 'Greater than score':\n",
    "                params['in_house_method']['greater'] = True\n",
    "            else:\n",
    "                params['in_house_method']['greater'] = False\n",
    "    def in_house_method_direction_update(change):\n",
    "        with output:\n",
    "            params['in_house_method']['direction'] = change['new']\n",
    "    def in_house_method_score_update(change):\n",
    "        with output:\n",
    "            params['in_house_method']['score'] = change['new']\n",
    "            \n",
    "            \n",
    "    def GSEA_like_order_update(change):\n",
    "        with output:\n",
    "            if change['new'] == 'Greater than score':\n",
    "                params['GSEA_like']['greater'] = True\n",
    "            else:\n",
    "                params['GSEA_like']['greater'] = False\n",
    "    def GSEA_like_fdr_update(change):\n",
    "        with output:\n",
    "            params['GSEA_like']['fdr'] = change['new']\n",
    "    def GSEA_like_score_update(change):\n",
    "        with output:\n",
    "            params['GSEA_like']['score'] = change['new']\n",
    "            \n",
    "    def on_button_clicked(b):\n",
    "        with output:\n",
    "            print(params)\n",
    "            print(condition_selected)\n",
    "            treatment, control = condition_selected.split(\"_vs_\")\n",
    "            ranking(treatment, control, token, tools_available, params)\n",
    "            \n",
    "    # Output\n",
    "    output = widgets.Output()\n",
    "    button = widgets.Button(description=\"Click Me!\")\n",
    "    if 'MAGeCK_MLE' in tools_selected:\n",
    "        params['MAGeCK_MLE']['on'] = True\n",
    "        mle_fdr = widgets.FloatSlider(min=0.0, max=1.0, step=0.01, value=0.05, description='FDR:')\n",
    "        mle_score=widgets.FloatText(value=0, description='Score cut-off:')\n",
    "        mle_text=widgets.HTML(value=\"MAGeCK MLE:\")\n",
    "        mle_order=widgets.ToggleButtons(options=['Greater than score', 'Lower than score'], description='Selection:', name=\"test\")\n",
    "        display(mle_text)\n",
    "        mle_box = HBox([mle_fdr, mle_score, mle_order])\n",
    "        display(mle_box)\n",
    "        mle_order.observe(mle_order_update, 'value')\n",
    "        mle_score.observe(mle_score_update, 'value')\n",
    "        mle_fdr.observe(mle_fdr_update, 'value')\n",
    "    if 'MAGeCK_RRA' in tools_selected:\n",
    "        params['MAGeCK_RRA']['on'] = True\n",
    "        rra_fdr = widgets.FloatSlider(min=0.0, max=1.0, step=0.01, value=0.05, description='FDR:')\n",
    "        rra_score=widgets.FloatText(value=0, description='Score cut-off:')\n",
    "        rra_text=widgets.HTML(value=\"MAGeCK RRA:\")\n",
    "        rra_order=widgets.ToggleButtons(options=['Greater than score', 'Lower than score'], description='Selection:')\n",
    "        display(rra_text)\n",
    "        rra_box = HBox([rra_fdr, rra_score, rra_order])\n",
    "        display(rra_box)\n",
    "        rra_order.observe(rra_order_update, 'value')\n",
    "        rra_score.observe(rra_score_update, 'value')\n",
    "        rra_fdr.observe(rra_fdr_update, 'value')\n",
    "    if 'BAGEL' in tools_selected:\n",
    "        params['BAGEL']['on'] = True\n",
    "        bagel_score=widgets.FloatText(value=0, description='Score cut-off:')\n",
    "        bagel_text=widgets.HTML(value=\"BAGEL:\")\n",
    "        bagel_order=widgets.ToggleButtons(options=['Greater than score', 'Lower than score'], description='Selection:')\n",
    "        display(bagel_text)\n",
    "        bagel_box = HBox([bagel_score, bagel_order])\n",
    "        display(bagel_box)\n",
    "        bagel_order.observe(bagel_order_update, 'value')\n",
    "        bagel_score.observe(bagel_score_update, 'value')\n",
    "    if 'CRISPhieRmix' in tools_selected:\n",
    "        params['CRISPhieRmix']['on'] = True\n",
    "        CRISPhieRmix_fdr = widgets.FloatSlider(min=0.0, max=1.0, step=0.01, value=0.05, description='FDR:')\n",
    "        CRISPhieRmix_score=widgets.FloatText(value=0, description='Score cut-off:')\n",
    "        CRISPhieRmix_text=widgets.HTML(value=\"CRISPhieRmix:\")\n",
    "        CRISPhieRmix_order=widgets.ToggleButtons(options=['Greater than score', 'Lower than score'], description='Selection:')\n",
    "        display(CRISPhieRmix_text)\n",
    "        CRISPhieRmix_box = HBox([CRISPhieRmix_fdr, CRISPhieRmix_score, CRISPhieRmix_order])\n",
    "        display(CRISPhieRmix_box)\n",
    "        CRISPhieRmix_order.observe(CRISPhieRmix_order_update, 'value')\n",
    "        CRISPhieRmix_score.observe(CRISPhieRmix_score_update, 'value')\n",
    "        CRISPhieRmix_fdr.observe(CRISPhieRmix_fdr_update, 'value')\n",
    "    if 'in_house_method' in tools_selected:\n",
    "        params['in_house_method']['on'] = True\n",
    "        in_house_method_direction=widgets.ToggleButtons(options=['Positive', 'Negative'], description='Direction:')\n",
    "        in_house_method_score=widgets.FloatText(value=0, description='Score cut-off:')\n",
    "        in_house_method_text=widgets.HTML(value=\"in_house_method:\")\n",
    "        in_house_method_order=widgets.ToggleButtons(options=['Greater than score', 'Lower than score'], description='Selection:')\n",
    "        display(in_house_method_text)\n",
    "        in_house_method_box = HBox([in_house_method_direction, in_house_method_score, in_house_method_order])\n",
    "        display(in_house_method_box)\n",
    "        in_house_method_order.observe(in_house_method_order_update, 'value')\n",
    "        in_house_method_score.observe(in_house_method_score_update, 'value')\n",
    "        in_house_method_direction.observe(in_house_method_direction_update, 'value')\n",
    "    if 'GSEA-like' in tools_selected:\n",
    "        params['GSEA_like']['on'] = True\n",
    "        GSEA_like_fdr = widgets.FloatSlider(min=0.0, max=1.0, step=0.01, value=0.05, description='FDR:')\n",
    "        GSEA_like_score=widgets.FloatText(value=0, description='Score cut-off:')\n",
    "        GSEA_like_text=widgets.HTML(value=\"GSEA-like:\")\n",
    "        GSEA_like_order=widgets.ToggleButtons(options=['Greater than score', 'Lower than score'], description='Selection:')\n",
    "        display(GSEA_like_text)\n",
    "        GSEA_like_box = HBox([GSEA_like_fdr, GSEA_like_score, GSEA_like_order])\n",
    "        display(GSEA_like_box)\n",
    "        GSEA_like_order.observe(GSEA_like_order_update, 'value')\n",
    "        GSEA_like_score.observe(GSEA_like_score_update, 'value')\n",
    "        GSEA_like_fdr.observe(GSEA_like_fdr_update, 'value')\n",
    "    display(button, output)\n",
    "    button.on_click(on_button_clicked)\n",
    "    \n",
    "        \n",
    "_ = interact(show_tools, condition_selected=conditions_widget, tools_selected=tools_widget)"
   ]
  }
 ],
 "metadata": {
  "celltoolbar": "Tags",
  "kernelspec": {
   "display_name": "Python 3",
   "language": "python",
   "name": "python3"
  },
  "language_info": {
   "codemirror_mode": {
    "name": "ipython",
    "version": 3
   },
   "file_extension": ".py",
   "mimetype": "text/x-python",
   "name": "python",
   "nbconvert_exporter": "python",
   "pygments_lexer": "ipython3",
   "version": "3.8.12"
  },
  "toc": {
   "base_numbering": 1,
   "nav_menu": {},
   "number_sections": false,
   "sideBar": false,
   "skip_h1_title": false,
   "title_cell": "Table of Contents",
   "title_sidebar": "Contents",
   "toc_cell": false,
   "toc_position": {},
   "toc_section_display": false,
   "toc_window_display": false
  }
 },
 "nbformat": 4,
 "nbformat_minor": 4
}
