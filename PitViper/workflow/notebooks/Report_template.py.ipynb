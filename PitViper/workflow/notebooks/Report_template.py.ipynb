{
 "cells": [
  {
   "cell_type": "code",
   "execution_count": 2,
   "metadata": {},
   "outputs": [],
   "source": [
    "# start coding here\n",
    "token = snakemake.params"
   ]
  },
  {
   "cell_type": "markdown",
   "metadata": {},
   "outputs": [],
   "source": [
    "# PitViper Notebook Report"
   ]
  },
  {
   "cell_type": "markdown",
   "metadata": {},
   "outputs": [],
   "source": [
    "This notebook was generated automatically by PitViper.\n",
    "\n",
    "It can be used in two ways:\n",
    "\n",
    "1. By using the functions already created and present in the following cells.\n",
    "\n",
    "2. By creating new cells and writing python3 code in them.\n",
    "\n",
    "The graphs are generated using the python library [Altair](https://altair-viz.github.io/index.html). It is possible to download each graph in SVG format from the drop-down menu at the top right of each graph.\n",
    "\n",
    "The next cell allows to call the functions already created for the visualization of the results."
   ]
  },
  {
   "cell_type": "code",
   "execution_count": 3,
   "metadata": {},
   "outputs": [],
   "source": [
    "import sys\n",
    "import os\n",
    "import pandas as pd\n",
    "import IPython\n",
    "from functools import reduce\n",
    "\n",
    "modules_path = ['workflow/notebooks/', \"../../../workflow/notebooks/\"]\n",
    "for module in modules_path:\n",
    "    module_path = os.path.abspath(os.path.join(module))\n",
    "    if module_path not in sys.path:\n",
    "        sys.path.append(module_path)\n",
    "\n",
    "\n",
    "from functions import * \n",
    "\n",
    "import time\n",
    "\n",
    "alt.renderers.enable('html')\n",
    "\n",
    "# For Snakemake\n",
    "switch = True\n",
    "while os.path.basename(os.getcwd()) != \"PitViper\":\n",
    "    if switch:\n",
    "        switch = False\n",
    "        %cd ../../\n",
    "    else:\n",
    "        %cd ../\n",
    "\n",
    "print('Working directory: ', os.getcwd())\n",
    "\n",
    "with open(snakemake.output[0], \"w\") as out:\n",
    "    print(\"Notebook was runned.\", file=out)\n",
    "    \n",
    "#os.environ['R_HOME'] = '/home/paularthur/miniconda3/envs/pitviper_env/bin/R'"
   ]
  },
  {
   "cell_type": "markdown",
   "metadata": {},
   "outputs": [],
   "source": [
    "## Process data\n",
    "\n",
    "Next function scan `results/` directory to retrieve all results.\n",
    "\n",
    "`tools_available` is python dictionnary in which all data are stored in a comprehensive manner."
   ]
  },
  {
   "cell_type": "code",
   "execution_count": 4,
   "metadata": {},
   "outputs": [],
   "source": [
    "results_directory, tools_available = setup_step_1(token)"
   ]
  },
  {
   "cell_type": "markdown",
   "metadata": {},
   "outputs": [],
   "source": [
    "## Mapping Quality Control\n",
    "\n",
    "If available, mapping quality control metrics will be shown by next function (`show_mapping_qc`)."
   ]
  },
  {
   "cell_type": "code",
   "execution_count": 5,
   "metadata": {},
   "outputs": [],
   "source": [
    "show_mapping_qc(token)"
   ]
  },
  {
   "cell_type": "markdown",
   "metadata": {},
   "outputs": [],
   "source": [
    "## Read count distribution\n",
    "\n",
    "Normalized read count distribution for all replicates will be shown by calling `show_read_count_distribution` function."
   ]
  },
  {
   "cell_type": "code",
   "execution_count": 6,
   "metadata": {},
   "outputs": [],
   "source": [
    "alt.data_transformers.disable_max_rows()\n",
    "\n",
    "show_read_count_distribution(token)"
   ]
  },
  {
   "cell_type": "markdown",
   "metadata": {},
   "outputs": [],
   "source": [
    "## Principal component analysis"
   ]
  },
  {
   "cell_type": "code",
   "execution_count": 7,
   "metadata": {},
   "outputs": [],
   "source": [
    "pca_counts(token)"
   ]
  },
  {
   "cell_type": "markdown",
   "metadata": {},
   "outputs": [],
   "source": [
    "## Tools global results"
   ]
  },
  {
   "cell_type": "code",
   "execution_count": 8,
   "metadata": {},
   "outputs": [],
   "source": [
    "snake_plot(results_directory, tools_available)"
   ]
  },
  {
   "cell_type": "markdown",
   "metadata": {},
   "outputs": [],
   "source": [
    "## sgRNA read counts by element"
   ]
  },
  {
   "cell_type": "code",
   "execution_count": 9,
   "metadata": {},
   "outputs": [],
   "source": [
    "show_sgRNA_counts(token) "
   ]
  },
  {
   "cell_type": "code",
   "execution_count": 10,
   "metadata": {},
   "outputs": [],
   "source": [
    "CRISPhieRmix_results(results_directory, tools_available)"
   ]
  },
  {
   "cell_type": "code",
   "execution_count": 11,
   "metadata": {},
   "outputs": [],
   "source": [
    "GSEA_like_results(results_directory, tools_available)"
   ]
  },
  {
   "cell_type": "code",
   "execution_count": 12,
   "metadata": {},
   "outputs": [],
   "source": [
    "in_house_method_results(results_directory, tools_available)"
   ]
  },
  {
   "cell_type": "code",
   "execution_count": 13,
   "metadata": {},
   "outputs": [],
   "source": [
    "MAGeCK_RRA_results(results_directory, tools_available)"
   ]
  },
  {
   "cell_type": "code",
   "execution_count": 14,
   "metadata": {},
   "outputs": [],
   "source": [
    "MAGeCK_MLE_results(results_directory, tools_available)"
   ]
  },
  {
   "cell_type": "code",
   "execution_count": 15,
   "metadata": {},
   "outputs": [],
   "source": [
    "BAGEL_results(results_directory, tools_available)"
   ]
  },
  {
   "cell_type": "code",
   "execution_count": 16,
   "metadata": {},
   "outputs": [],
   "source": [
    "enrichr_plots(tools_available)"
   ]
  },
  {
   "cell_type": "markdown",
   "metadata": {},
   "outputs": [],
   "source": [
    "### Under development"
   ]
  },
  {
   "cell_type": "code",
   "execution_count": 17,
   "metadata": {
    "scrolled": false
   },
   "outputs": [],
   "source": [
    "elements = [\"BRCA2\",\"MYC\",\"MYB\",\"TP53\"]\n",
    "\n",
    "link = \"http://genemania.org/search/homo-sapiens/\" + \"/\".join(elements)\n",
    "\n",
    "html = '<iframe src=\"%s\" width=\"1000\" height=\"800\"></iframe>' % link\n",
    "\n",
    "print(html)\n",
    "\n",
    "IPython.display.HTML(html)"
   ]
  },
  {
   "cell_type": "code",
   "execution_count": 81,
   "metadata": {},
   "outputs": [],
   "source": [
    "treatment = \"J25\"\n",
    "n = 200\n",
    "\n",
    "mle = tools_available[\"MAGeCK_MLE\"][\"J25_vs_J4\"][\"J25_vs_J4.gene_summary.txt\"]\n",
    "mle['default_rank'] = mle[treatment + '|beta'].rank(method=\"dense\")\n",
    "mle = mle[(mle[\"J25|beta\"] < 0) & (mle[\"J25|fdr\"] < 0.05)]\n",
    "mle = mle[[\"Gene\", \"default_rank\"]].rename(columns={\"Gene\": \"id\", \"default_rank\": \"mle_rank\"})\n",
    "# mle\n",
    "\n",
    "mle_genes = list(mle.id)\n",
    "\n",
    "\n",
    "rra = tools_available[\"MAGeCK_RRA\"][\"J25_vs_J4\"][\"J25_vs_J4.gene_summary.txt\"]\n",
    "rra = rra[(rra[\"neg|lfc\"] < 0) & (rra[\"neg|fdr\"] < 0.05)]\n",
    "rra = rra[[\"id\", \"neg|rank\"]].rename(columns={\"neg|rank\": \"rra_rank\"})\n",
    "# rra\n",
    "\n",
    "rra_genes = list(rra.id)\n",
    "\n",
    "bagel = tools_available[\"BAGEL\"][\"J25_vs_J4\"][\"J25_vs_J4_BAGEL_output.bf\"]\n",
    "bagel['default_rank'] = bagel['BF'].rank(method=\"dense\", ascending=False)\n",
    "bagel = bagel[(bagel[\"BF\"] > 0)]\n",
    "bagel = bagel[[\"GENE\", \"default_rank\"]].rename(columns={\"GENE\": \"id\", \"default_rank\": \"bagel_rank\"})\n",
    "# bagel\n",
    "\n",
    "bagel_genes = list(bagel.id)\n",
    "\n",
    "in_house = tools_available[\"in_house_method\"][\"J25_vs_J4\"][\"J25_vs_J4_all-elements_in-house.txt\"]\n",
    "in_house['default_rank'] = in_house['score'].rank(method=\"dense\")\n",
    "in_house = in_house[(in_house[\"down\"] > 1) & (in_house[\"up\"] < 2) & (in_house[\"score\"] < 0)]\n",
    "in_house = in_house[[\"Gene\", \"default_rank\"]].rename(columns={\"Gene\": \"id\", \"default_rank\": \"in_house_rank\"})\n",
    "# in_house\n",
    "\n",
    "in_house_genes = list(in_house.id)\n",
    "\n",
    "gsea = tools_available[\"GSEA-like\"][\"J25_vs_J4\"][\"J25_vs_J4_all-elements_GSEA-like.txt\"]\n",
    "gsea['default_rank'] = gsea['NES'].rank(method=\"dense\")\n",
    "gsea = gsea[(gsea[\"NES\"] < 0) & (gsea[\"pval\"] < 0.05)]\n",
    "gsea = gsea[[\"pathway\", \"default_rank\"]].rename(columns={\"pathway\": \"id\", \"default_rank\": \"gsea_rank\"})\n",
    "# gsea\n",
    "\n",
    "gsea_genes = list(gsea.id)\n",
    "\n",
    "gsea_genes\n",
    "\n",
    "tool_genes = [mle_genes, rra_genes, bagel_genes, in_house_genes, gsea_genes]\n",
    "\n",
    "l = []\n",
    "for genes in tool_genes:\n",
    "    for gene in genes:\n",
    "        l.append(gene)\n",
    "\n",
    "mle = tools_available[\"MAGeCK_MLE\"][\"J25_vs_J4\"][\"J25_vs_J4.gene_summary.txt\"]\n",
    "mle['default_rank'] = mle[treatment + '|beta'].rank(method=\"dense\")\n",
    "mle = mle[[\"Gene\", \"default_rank\"]].rename(columns={\"Gene\": \"id\", \"default_rank\": \"mle_rank\"})\n",
    "\n",
    "rra = tools_available[\"MAGeCK_RRA\"][\"J25_vs_J4\"][\"J25_vs_J4.gene_summary.txt\"]\n",
    "rra = rra[[\"id\", \"neg|rank\"]].rename(columns={\"neg|rank\": \"rra_rank\"})\n",
    "\n",
    "bagel = tools_available[\"BAGEL\"][\"J25_vs_J4\"][\"J25_vs_J4_BAGEL_output.bf\"]\n",
    "bagel['default_rank'] = bagel['BF'].rank(method=\"dense\", ascending=False)\n",
    "bagel = bagel[[\"GENE\", \"default_rank\"]].rename(columns={\"GENE\": \"id\", \"default_rank\": \"bagel_rank\"})\n",
    "\n",
    "in_house = tools_available[\"in_house_method\"][\"J25_vs_J4\"][\"J25_vs_J4_all-elements_in-house.txt\"]\n",
    "in_house['default_rank'] = in_house['score'].rank(method=\"dense\")\n",
    "in_house = in_house[[\"Gene\", \"default_rank\"]].rename(columns={\"Gene\": \"id\", \"default_rank\": \"in_house_rank\"})\n",
    "\n",
    "gsea = tools_available[\"GSEA-like\"][\"J25_vs_J4\"][\"J25_vs_J4_all-elements_GSEA-like.txt\"]\n",
    "gsea['default_rank'] = gsea['NES'].rank(method=\"dense\")\n",
    "gsea = gsea[[\"pathway\", \"default_rank\"]].rename(columns={\"pathway\": \"id\", \"default_rank\": \"gsea_rank\"})\n",
    "\n",
    "pdList = [mle, rra, bagel, in_house, gsea]\n",
    "\n",
    "df_merged_reduced = reduce(lambda  left,right: pd.merge(left,right,on=['id'],\n",
    "                                            how='outer'), pdList)\n",
    "\n",
    "df_merged_reduced = df_merged_reduced[df_merged_reduced['id'].isin(l)]\n",
    "\n",
    "df_merged_reduced"
   ]
  },
  {
   "cell_type": "code",
   "execution_count": 19,
   "metadata": {},
   "outputs": [],
   "source": [
    "%load_ext rpy2.ipython"
   ]
  },
  {
   "cell_type": "code",
   "execution_count": 20,
   "metadata": {
    "scrolled": false
   },
   "outputs": [],
   "source": [
    "%%R -i df_merged_reduced\n",
    "\n",
    "source(\"workflow/notebooks/functions_R.R\")\n",
    "\n",
    "res <- RobustRankAggregate(df_merged_reduced)\n",
    "\n",
    "res"
   ]
  },
  {
   "cell_type": "code",
   "execution_count": 30,
   "metadata": {},
   "outputs": [],
   "source": [
    "%%R\n",
    "\n",
    "library(depmap)\n",
    "library(\"ExperimentHub\")\n",
    "\n",
    "## create ExperimentHub query object\n",
    "eh <- ExperimentHub()\n",
    "\n",
    "# query(eh, \"depmap\")\n",
    "\n",
    "rnai <- eh[[\"EH2260\"]]\n",
    "\n",
    "rnai"
   ]
  },
  {
   "cell_type": "code",
   "execution_count": 42,
   "metadata": {},
   "outputs": [],
   "source": [
    "%%R\n",
    "\n",
    "rnai %>%\n",
    "    filter(grepl(\"HAEMATOPOIETIC_AND_LYMPHOID_TISSUE\",cell_line)) %>%\n",
    "#     filter(str_detect(cell_line, \"HAEMATOPOIETIC_AND_LYMPHOID_TISSUE\")) %>%\n",
    "    pull(cell_line) %>%\n",
    "    unique()"
   ]
  },
  {
   "cell_type": "code",
   "execution_count": 89,
   "metadata": {},
   "outputs": [],
   "source": [
    "%%R\n",
    "\n",
    "library(ggplot2)\n",
    "\n",
    "essential.genes <- res %>%\n",
    "    filter(Score < 0.05) %>%\n",
    "    pull(Name)\n",
    "\n",
    "\n",
    "rnai %>%\n",
    "    filter(cell_line == \"KASUMI1_HAEMATOPOIETIC_AND_LYMPHOID_TISSUE\") %>%\n",
    "    mutate(essential = ifelse(gene_name %in% essential.genes, \"essential\", \"non-essential\")) %>%\n",
    "    filter(!is.na(dependency)) %>%\n",
    "    ggplot(aes(x=dependency, fill=essential)) + \n",
    "    geom_density(alpha=0.4) + \n",
    "    theme_classic() +\n",
    "    scale_fill_manual(values=c(\"#E69F00\", \"#999999\"))"
   ]
  }
 ],
 "metadata": {
  "kernelspec": {
   "display_name": "Python 3",
   "language": "python",
   "name": "python3"
  },
  "language_info": {
   "codemirror_mode": {
    "name": "ipython",
    "version": 3
   },
   "file_extension": ".py",
   "mimetype": "text/x-python",
   "name": "python",
   "nbconvert_exporter": "python",
   "pygments_lexer": "ipython3",
   "version": "3.9.7"
  },
  "toc": {
   "base_numbering": 1,
   "nav_menu": {},
   "number_sections": false,
   "sideBar": false,
   "skip_h1_title": false,
   "title_cell": "Table of Contents",
   "title_sidebar": "Contents",
   "toc_cell": false,
   "toc_position": {},
   "toc_section_display": false,
   "toc_window_display": false
  }
 },
 "nbformat": 4,
 "nbformat_minor": 4
}
