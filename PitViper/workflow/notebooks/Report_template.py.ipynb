{
 "cells": [
  {
   "cell_type": "code",
   "execution_count": 2,
   "metadata": {},
   "outputs": [],
   "source": [
    "# start coding here\n",
    "token = snakemake.params"
   ]
  },
  {
   "cell_type": "markdown",
   "metadata": {},
   "outputs": [],
   "source": [
    "# PitViper Notebook Report"
   ]
  },
  {
   "cell_type": "markdown",
   "metadata": {},
   "outputs": [],
   "source": [
    "This notebook was generated automatically by PitViper.\n",
    "\n",
    "It can be used in two ways:\n",
    "\n",
    "1. By using the functions already created and present in the following cells.\n",
    "\n",
    "2. By creating new cells and writing python3 code in them.\n",
    "\n",
    "The graphs are generated using the python library [Altair](https://altair-viz.github.io/index.html). It is possible to download each graph in SVG format from the drop-down menu at the top right of each graph.\n",
    "\n",
    "The next cell allows to call the functions already created for the visualization of the results."
   ]
  },
  {
   "cell_type": "code",
   "execution_count": 3,
   "metadata": {},
   "outputs": [],
   "source": [
    "import sys\n",
    "import os\n",
    "import pandas as pd\n",
    "# import IPython\n",
    "from IPython.display import display, clear_output\n",
    "\n",
    "modules_path = ['workflow/notebooks/', \"../../../workflow/notebooks/\"]\n",
    "for module in modules_path:\n",
    "    module_path = os.path.abspath(os.path.join(module))\n",
    "    if module_path not in sys.path:\n",
    "        sys.path.append(module_path)\n",
    "\n",
    "\n",
    "from functions import * \n",
    "\n",
    "import time\n",
    "\n",
    "alt.renderers.enable('html')\n",
    "\n",
    "# For Snakemake\n",
    "switch = True\n",
    "while os.path.basename(os.getcwd()) != \"PitViper\":\n",
    "    if switch:\n",
    "        switch = False\n",
    "        %cd ../../\n",
    "    else:\n",
    "        %cd ../\n",
    "\n",
    "print('Working directory: ', os.getcwd())\n",
    "\n",
    "with open(snakemake.output[0], \"w\") as out:\n",
    "    print(\"Notebook was runned.\", file=out)"
   ]
  },
  {
   "cell_type": "markdown",
   "metadata": {},
   "outputs": [],
   "source": [
    "### rpy2\n",
    "\n",
    "Next cell load rpy2 which allow to define cells running R code by adding `%%R` at the first line of the cell. \n",
    "\n",
    "Note: it's possible to forward some python-specific objects (such as list or pandas dataframe) to R cells using `-i` parameters followed by objects name (`%%R -i token`, token string is then available as an R object)."
   ]
  },
  {
   "cell_type": "code",
   "execution_count": 4,
   "metadata": {},
   "outputs": [],
   "source": [
    "%load_ext rpy2.ipython"
   ]
  },
  {
   "cell_type": "code",
   "execution_count": 5,
   "metadata": {},
   "outputs": [],
   "source": [
    "%%R\n",
    "\n",
    "source(\"workflow/notebooks/functions_R.R\")"
   ]
  },
  {
   "cell_type": "markdown",
   "metadata": {},
   "outputs": [],
   "source": [
    "## Process data\n",
    "\n",
    "Next function scan `results/` directory to retrieve all results.\n",
    "\n",
    "`tools_available` is python dictionnary in which all data are stored in a comprehensive manner."
   ]
  },
  {
   "cell_type": "code",
   "execution_count": 6,
   "metadata": {},
   "outputs": [],
   "source": [
    "results_directory, tools_available = setup_step_1(token)"
   ]
  },
  {
   "cell_type": "markdown",
   "metadata": {},
   "outputs": [],
   "source": [
    "## Mapping Quality Control\n",
    "\n",
    "If available, mapping quality control metrics will be shown by next function (`show_mapping_qc`)."
   ]
  },
  {
   "cell_type": "code",
   "execution_count": 7,
   "metadata": {},
   "outputs": [],
   "source": [
    "show_mapping_qc(token)"
   ]
  },
  {
   "cell_type": "markdown",
   "metadata": {},
   "outputs": [],
   "source": [
    "## Read count distribution\n",
    "\n",
    "Normalized read count distribution for all replicates will be shown by calling `show_read_count_distribution` function."
   ]
  },
  {
   "cell_type": "code",
   "execution_count": 8,
   "metadata": {},
   "outputs": [],
   "source": [
    "alt.data_transformers.disable_max_rows()\n",
    "\n",
    "show_read_count_distribution(token)"
   ]
  },
  {
   "cell_type": "markdown",
   "metadata": {},
   "outputs": [],
   "source": [
    "## Principal component analysis"
   ]
  },
  {
   "cell_type": "code",
   "execution_count": 9,
   "metadata": {},
   "outputs": [],
   "source": [
    "pca_counts(token)"
   ]
  },
  {
   "cell_type": "markdown",
   "metadata": {},
   "outputs": [],
   "source": [
    "## Tools global results"
   ]
  },
  {
   "cell_type": "code",
   "execution_count": 10,
   "metadata": {},
   "outputs": [],
   "source": [
    "snake_plot(results_directory, tools_available)"
   ]
  },
  {
   "cell_type": "markdown",
   "metadata": {},
   "outputs": [],
   "source": [
    "## sgRNA read counts by element"
   ]
  },
  {
   "cell_type": "code",
   "execution_count": 11,
   "metadata": {},
   "outputs": [],
   "source": [
    "show_sgRNA_counts(token) "
   ]
  },
  {
   "cell_type": "code",
   "execution_count": 12,
   "metadata": {},
   "outputs": [],
   "source": [
    "%%R -i token\n",
    "\n",
    "config_data <- get_data(token)\n",
    "\n",
    "tsv_file <- config_data$tsv\n",
    "cts_file <- config_data$cts\n",
    "\n",
    "mean_counts_by_condition(conditions = \"J4,J11,J18,J25\",\n",
    "                         gene = \"MYC\")"
   ]
  },
  {
   "cell_type": "markdown",
   "metadata": {},
   "outputs": [],
   "source": [
    "## results by tool and by element"
   ]
  },
  {
   "cell_type": "code",
   "execution_count": 13,
   "metadata": {},
   "outputs": [],
   "source": [
    "CRISPhieRmix_results(results_directory, tools_available)"
   ]
  },
  {
   "cell_type": "code",
   "execution_count": 14,
   "metadata": {},
   "outputs": [],
   "source": [
    "GSEA_like_results(results_directory, tools_available)"
   ]
  },
  {
   "cell_type": "code",
   "execution_count": 15,
   "metadata": {},
   "outputs": [],
   "source": [
    "in_house_method_results(results_directory, tools_available)"
   ]
  },
  {
   "cell_type": "code",
   "execution_count": 16,
   "metadata": {},
   "outputs": [],
   "source": [
    "MAGeCK_RRA_results(results_directory, tools_available)"
   ]
  },
  {
   "cell_type": "code",
   "execution_count": 17,
   "metadata": {},
   "outputs": [],
   "source": [
    "MAGeCK_MLE_results(results_directory, tools_available)"
   ]
  },
  {
   "cell_type": "code",
   "execution_count": 18,
   "metadata": {},
   "outputs": [],
   "source": [
    "BAGEL_results(results_directory, tools_available)"
   ]
  },
  {
   "cell_type": "code",
   "execution_count": 19,
   "metadata": {},
   "outputs": [],
   "source": [
    "enrichr_plots(tools_available)"
   ]
  },
  {
   "cell_type": "markdown",
   "metadata": {},
   "outputs": [],
   "source": [
    "## GeneMania"
   ]
  },
  {
   "cell_type": "code",
   "execution_count": 20,
   "metadata": {},
   "outputs": [],
   "source": [
    "genemania_link_results(tools_available)"
   ]
  },
  {
   "cell_type": "markdown",
   "metadata": {},
   "outputs": [],
   "source": [
    "## Definition of ranks and occurrences\n",
    "\n",
    "In next cell, choose which conditions to compare."
   ]
  },
  {
   "cell_type": "code",
   "execution_count": 21,
   "metadata": {},
   "outputs": [],
   "source": [
    "TREATMENT = \"J25\"\n",
    "CONTROL = \"J4\""
   ]
  },
  {
   "cell_type": "code",
   "execution_count": 22,
   "metadata": {},
   "outputs": [],
   "source": [
    "ranks, occurences = ranking(TREATMENT, CONTROL, token, tools_available)"
   ]
  },
  {
   "cell_type": "markdown",
   "metadata": {},
   "outputs": [],
   "source": [
    "## Venn diagram"
   ]
  },
  {
   "cell_type": "code",
   "execution_count": 23,
   "metadata": {},
   "outputs": [],
   "source": [
    "%%R -i occurences,CONTROL,TREATMENT\n",
    "\n",
    "venn_diagram(occurences, TREATMENT, CONTROL)"
   ]
  },
  {
   "cell_type": "markdown",
   "metadata": {},
   "outputs": [],
   "source": [
    "## Essentiality prioritisation using RobustRankAggregation\n",
    "\n",
    "In this section, the `RobustRankAggreg` (RRA) method is used to integrate ranks derived from the results calculated by each selected method."
   ]
  },
  {
   "cell_type": "code",
   "execution_count": 24,
   "metadata": {},
   "outputs": [],
   "source": [
    "%%R -i ranks\n",
    "\n",
    "res <- RobustRankAggregate(ranks)\n",
    "\n",
    "res %>% filter(Score < 0.05)"
   ]
  },
  {
   "cell_type": "markdown",
   "metadata": {},
   "outputs": [],
   "source": [
    "## depmap integration with \"Essentiality prioritisation\" results"
   ]
  },
  {
   "cell_type": "code",
   "execution_count": 25,
   "metadata": {},
   "outputs": [],
   "source": [
    "# %%R\n",
    "\n",
    "# library(depmap)\n",
    "# library(\"ExperimentHub\")\n",
    "# library(ggplot2)\n",
    "\n",
    "# ## create ExperimentHub query object\n",
    "# eh <- ExperimentHub()\n",
    "\n",
    "# rnai <- eh[[\"EH2260\"]]\n",
    "\n",
    "# rnai"
   ]
  },
  {
   "cell_type": "code",
   "execution_count": 26,
   "metadata": {},
   "outputs": [],
   "source": [
    "# %%R\n",
    "\n",
    "# query.gene <- \"MYC\"\n",
    "# query.cell_line <- \"KASUMI2_HAEMATOPOIETIC_AND_LYMPHOID_TISSUE\"\n",
    "# query.cell_line_name <- \"KASUMI2\"\n",
    "\n",
    "# essential.genes <- res %>%\n",
    "#     filter(Score < 0.05) %>%\n",
    "#     pull(Name)\n",
    "\n",
    "\n",
    "# rnai.filtered <- rnai %>%\n",
    "#     filter(cell_line == query.cell_line) %>%\n",
    "#     mutate(essential = ifelse(gene_name %in% essential.genes, \"essential\", \"non-essential\")) %>%\n",
    "#     filter(!is.na(dependency))\n",
    "\n",
    "\n",
    "# gene.dependency <- rnai.filtered %>%\n",
    "#     filter(gene_name == query.gene) %>%\n",
    "#     pull(dependency)\n",
    "\n",
    "\n",
    "# rnai.filtered %>%\n",
    "#     ggplot(aes(x=dependency, fill=essential)) + \n",
    "#     geom_density(alpha=0.4) + \n",
    "#     theme_classic() +\n",
    "#     scale_fill_manual(values=c(\"#E69F00\", \"#999999\")) +\n",
    "#     geom_vline(xintercept = 0) +\n",
    "#     geom_rug(data = subset(rnai.filtered, essential == \"essential\"), col=\"#E69F00\", alpha=0.5, sides = \"t\") +\n",
    "#     geom_rug(data = subset(rnai.filtered, essential == \"non-essential\"), col=\"#999999\", alpha=0.5, outside = TRUE, sides = \"t\") +\n",
    "#     coord_cartesian(clip = \"off\") +\n",
    "#     geom_vline(xintercept = gene.dependency, linetype=\"dashed\", color = \"red\", size=1) +\n",
    "#     ggtitle(paste0(query.cell_line_name, \"dependencies (\", query.gene,\" highlighted)\")) +\n",
    "#     theme(plot.title = element_text(vjust = 4),\n",
    "#           plot.margin = margin(10, 10, 10, 10))\n"
   ]
  },
  {
   "cell_type": "code",
   "execution_count": 27,
   "metadata": {},
   "outputs": [],
   "source": [
    "# %%R\n",
    "\n",
    "# library(ggridges)\n",
    "# library(tidyr)\n",
    "# library(forcats)\n",
    "\n",
    "# rnai.filtered <- rnai %>%\n",
    "#     filter(grepl(\"HAEMATOPOIETIC_AND_LYMPHOID_TISSUE\", cell_line)) %>%\n",
    "#     mutate(essential = ifelse(gene_name %in% essential.genes, \"essential\", \"non-essential\")) %>%\n",
    "#     filter(!is.na(dependency))\n",
    "\n",
    "\n",
    "# rnai.filtered %>%\n",
    "#     mutate(cell_line = fct_reorder(.f = cell_line, .x = -dependency, .fun = median)) %>%\n",
    "#     filter(essential == \"essential\") %>%\n",
    "#     ggplot(aes(x = `dependency`, y = cell_line, fill = stat(x))) +\n",
    "#         geom_density_ridges_gradient(scale = 3, rel_min_height = 0.01, quantile_lines = TRUE, quantiles = 2) +\n",
    "#         scale_fill_viridis_c() +\n",
    "#         geom_vline(xintercept=-0.5, color = \"red\", size=1) +\n",
    "#         geom_vline(xintercept=0, color = \"black\", size=1, linetype=\"dashed\") +\n",
    "#         theme_classic()\n"
   ]
  },
  {
   "cell_type": "code",
   "execution_count": 28,
   "metadata": {},
   "outputs": [],
   "source": [
    "tools = list(tools_available.keys())\n",
    "\n",
    "SCHEMES = [\"reds\", \"accent\", \"redblue\", \"rainbow\"]\n",
    "\n",
    "def plot_chart(data, tool, condition, file, x, y, method, column_filter='', cutoff=0, greater=False, element='', column_element='', elem_color='', pass_color='', fail_color='', category_column = '', color_scheme='', reverse=''):\n",
    "    source = data[tool][condition][file].copy()\n",
    "    show_plot = True\n",
    "    if method == 'Cut-off':\n",
    "        if (source[column_filter].dtype in [np.float64, np.int64]):\n",
    "            if not greater:\n",
    "                pass_value = \"%s < %s\" % (column_filter,cutoff)\n",
    "                fail_value = \"%s >= %s\" % (column_filter,cutoff)\n",
    "                source.loc[source[column_filter] < cutoff, 'filter'] = pass_value\n",
    "                source.loc[source[column_filter] >= cutoff, 'filter'] = fail_value\n",
    "                source.loc[source[column_element] == element, 'filter'] = element\n",
    "            else:\n",
    "                pass_value = \"%s >= %s\" % (column_filter,cutoff)\n",
    "                fail_value = \"%s < %s\" % (column_filter,cutoff)\n",
    "                source.loc[source[column_filter] >= cutoff, 'filter'] = pass_value\n",
    "                source.loc[source[column_filter] < cutoff, 'filter'] = fail_value\n",
    "                source.loc[source[column_element] == element, 'filter'] = element                \n",
    "            domain = [pass_value, fail_value, element]\n",
    "            range_ = [pass_color, fail_color, elem_color]\n",
    "        else:\n",
    "            source['filter'] = 'pass'\n",
    "            show_plot = False\n",
    "            print('Choose a column of integer or float type.')\n",
    "    if show_plot:\n",
    "        if method == 'Cut-off':\n",
    "            chart = alt.Chart(source).transform_calculate(\n",
    "                order=\"{'%s': 0, '%s': 1, '%s': 2}[datum.%s]\" % (element, pass_value, fail_value, column_element)\n",
    "            ).mark_circle().encode(\n",
    "                x=x,\n",
    "                y=y,\n",
    "                tooltip = list(source.columns),\n",
    "                color=alt.Color('filter', scale=alt.Scale(domain=domain, range=range_), legend=alt.Legend(title=\"Pass filter:\")),\n",
    "                order='order:Q'\n",
    "            ).interactive()\n",
    "            display(chart)\n",
    "        else:\n",
    "            chart = alt.Chart(source).mark_circle().encode(\n",
    "                x=x,\n",
    "                y=y,\n",
    "                tooltip = list(source.columns),\n",
    "                color=alt.Color(category_column, legend=alt.Legend(title=\"%s:\" % category_column), scale=alt.Scale(scheme=color_scheme, reverse=reverse))\n",
    "            ).interactive()\n",
    "            display(chart)\n",
    "\n",
    "\n",
    "def call_form():\n",
    "    display(widgets.HTML(value=\"First, choose a <b>tool</b> to browse results:\"))\n",
    "    @interact(\n",
    "        tool = widgets.Dropdown(options=tools,value=tools[0],description='Tool:',disabled=False))\n",
    "    def form(tool):\n",
    "        display(widgets.HTML(value=\"Choose a <b>condition</b> available for this tool:\"))\n",
    "        conditions = list(tools_available[tool].keys())\n",
    "        @interact(\n",
    "            condition = widgets.Dropdown(options=conditions,value=conditions[0],description='Condition:',disabled=False))\n",
    "        def form(condition):\n",
    "            display(widgets.HTML(value=\"Choose a <b>file</b>:\"))\n",
    "            files = list(tools_available[tool][condition].keys())\n",
    "            @interact(file = widgets.Dropdown(options=files,value=files[0],description='File:',disabled=False))\n",
    "            def form(file):\n",
    "                display(widgets.HTML(value=\"Choose which columns to use as <b>x</b> and <b>y</b> axis:\"))\n",
    "                columns = tools_available[tool][condition][file].columns\n",
    "                @interact(x = widgets.Dropdown(options=columns,value=columns[0],description='x:',disabled=False),\n",
    "                          y = widgets.Dropdown(options=columns,value=columns[1],description='y:',disabled=False))\n",
    "                def form(x , y):\n",
    "                    display(widgets.HTML(value=\"Results can be colored using two <b>methods</b>.</br> <ul><li>Cut-off: Choose a <b>column</b> with numerical values on which you want to apply a <b>cut-off</b></li><li>Category: choose a column and a color scheme.</li></ul>\"))\n",
    "                    @interact(method = widgets.ToggleButtons(options=['Cut-off', 'Category'],value='Cut-off', description='Method:'))\n",
    "                    def form(method):\n",
    "                        if method == 'Cut-off':\n",
    "                            display(widgets.HTML(value=\"Now choose a column with numerical data and a set a <b>cut-off</b> value.\"))\n",
    "                            @interact(column_filter = widgets.Dropdown(options=columns,value=columns[0],description='Column:',disabled=False),\n",
    "                                      cutoff = widgets.FloatText(value=0.0,description='Cut-off:'),\n",
    "                                      greater = widgets.Checkbox(value=False,description='Greater?',disabled=False,indent=True),\n",
    "                                      pass_color = widgets.ColorPicker(concise=False,description='Pass color:',value='red',disabled=False),\n",
    "                                      fail_color = widgets.ColorPicker(concise=False,description='Fail color:',value='gray',disabled=False),\n",
    "                                      column_element = widgets.Dropdown(options=columns,value=columns[0],description='Column:',disabled=False))\n",
    "                            def form(column_filter, cutoff, greater, pass_color, fail_color, column_element):\n",
    "                                display(widgets.HTML(value=\"It is possible to highlight an <b>element</b> based on a column and value from that column.\"))\n",
    "                                first_element = str(tools_available[tool][condition][file][column_element][0])\n",
    "                                @interact(element = widgets.Text(value=first_element,placeholder='Element:',description='Element:',disabled=False),\n",
    "                                          elem_color = widgets.ColorPicker(concise=False,description='Element color:',value='blue',disabled=False))\n",
    "                                def form(element, elem_color):\n",
    "                                    plot_chart(tools_available, tool, condition, file, x, y, method, column_filter, cutoff, greater, element, column_element, elem_color, pass_color, fail_color)\n",
    "                        elif method == 'Category':\n",
    "                            @interact(category_column = widgets.Dropdown(options=columns,value=columns[0],description='Category:',disabled=False),\n",
    "                                      reverse = widgets.Checkbox(value=False,description='Reverse?',disabled=False,indent=True),\n",
    "                                      color_scheme = widgets.Dropdown(options=SCHEMES,value=SCHEMES[0],description='Scheme:',disabled=False))\n",
    "                            def form(category_column, reverse, color_scheme):\n",
    "                                plot_chart(tools_available, tool, condition, file, x, y, method, category_column=category_column, color_scheme=color_scheme, reverse=reverse)"
   ]
  },
  {
   "cell_type": "code",
   "execution_count": 29,
   "metadata": {},
   "outputs": [],
   "source": [
    "call_form()"
   ]
  }
 ],
 "metadata": {
  "celltoolbar": "Tags",
  "kernelspec": {
   "display_name": "Python 3",
   "language": "python",
   "name": "python3"
  },
  "language_info": {
   "codemirror_mode": {
    "name": "ipython",
    "version": 3
   },
   "file_extension": ".py",
   "mimetype": "text/x-python",
   "name": "python",
   "nbconvert_exporter": "python",
   "pygments_lexer": "ipython3",
   "version": "3.8.12"
  },
  "toc": {
   "base_numbering": 1,
   "nav_menu": {},
   "number_sections": false,
   "sideBar": false,
   "skip_h1_title": false,
   "title_cell": "Table of Contents",
   "title_sidebar": "Contents",
   "toc_cell": false,
   "toc_position": {},
   "toc_section_display": false,
   "toc_window_display": false
  }
 },
 "nbformat": 4,
 "nbformat_minor": 4
}
