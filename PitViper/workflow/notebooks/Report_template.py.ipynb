{
 "cells": [
  {
   "cell_type": "code",
   "execution_count": 2,
   "metadata": {},
   "outputs": [],
   "source": [
    "# start coding here\n",
    "token = snakemake.params"
   ]
  },
  {
   "cell_type": "markdown",
   "metadata": {},
   "outputs": [],
   "source": [
    "# PitViper Notebook Report"
   ]
  },
  {
   "cell_type": "markdown",
   "metadata": {},
   "outputs": [],
   "source": [
    "This notebook was generated automatically by PitViper.\n",
    "\n",
    "It can be used in two ways:\n",
    "\n",
    "1. By using the functions already created and present in the following cells.\n",
    "\n",
    "2. By creating new cells and writing python3 code in them.\n",
    "\n",
    "The graphs are generated using the python library [Altair](https://altair-viz.github.io/index.html). It is possible to download each graph in SVG format from the drop-down menu at the top right of each graph.\n",
    "\n",
    "The next cell allows to call the functions already created for the visualization of the results."
   ]
  },
  {
   "cell_type": "code",
   "execution_count": 3,
   "metadata": {},
   "outputs": [],
   "source": [
    "import sys\n",
    "import os\n",
    "\n",
    "modules_path = ['workflow/notebooks/', \"../../../workflow/notebooks/\"]\n",
    "for module in modules_path:\n",
    "    module_path = os.path.abspath(os.path.join(module))\n",
    "    if module_path not in sys.path:\n",
    "        sys.path.append(module_path)\n",
    "\n",
    "from functions import * \n",
    "\n",
    "working_directory_update(snakemake.output[0])"
   ]
  },
  {
   "cell_type": "markdown",
   "metadata": {},
   "outputs": [],
   "source": [
    "### rpy2\n",
    "\n",
    "Next cell load rpy2 which allow to define cells running R code by adding `%%R` at the first line of the cell. \n",
    "\n",
    "Note: it's possible to forward some python-specific objects (such as list or pandas dataframe) to R cells using `-i` parameters followed by objects name (`%%R -i token`, token string is then available as an R object)."
   ]
  },
  {
   "cell_type": "code",
   "execution_count": 4,
   "metadata": {},
   "outputs": [],
   "source": [
    "%load_ext rpy2.ipython"
   ]
  },
  {
   "cell_type": "code",
   "execution_count": 5,
   "metadata": {},
   "outputs": [],
   "source": [
    "%%R\n",
    "\n",
    "source(\"workflow/notebooks/functions_R.R\")"
   ]
  },
  {
   "cell_type": "markdown",
   "metadata": {},
   "outputs": [],
   "source": [
    "## Process data\n",
    "\n",
    "Next function scan `results/` directory to retrieve all results.\n",
    "\n",
    "`tools_available` is python dictionnary in which all data are stored in a comprehensive manner."
   ]
  },
  {
   "cell_type": "code",
   "execution_count": 6,
   "metadata": {},
   "outputs": [],
   "source": [
    "results_directory, tools_available = setup_step_1(token)"
   ]
  },
  {
   "cell_type": "markdown",
   "metadata": {},
   "outputs": [],
   "source": [
    "## Mapping Quality Control\n",
    "\n",
    "If available, mapping quality control metrics will be shown by next function (`show_mapping_qc`)."
   ]
  },
  {
   "cell_type": "code",
   "execution_count": 7,
   "metadata": {},
   "outputs": [],
   "source": [
    "show_mapping_qc(token)"
   ]
  },
  {
   "cell_type": "markdown",
   "metadata": {},
   "outputs": [],
   "source": [
    "## Read count distribution\n",
    "\n",
    "Normalized read count distribution for all replicates will be shown by calling `show_read_count_distribution` function."
   ]
  },
  {
   "cell_type": "code",
   "execution_count": 8,
   "metadata": {},
   "outputs": [],
   "source": [
    "alt.data_transformers.disable_max_rows()\n",
    "\n",
    "show_read_count_distribution(token)"
   ]
  },
  {
   "cell_type": "markdown",
   "metadata": {},
   "outputs": [],
   "source": [
    "## Principal component analysis"
   ]
  },
  {
   "cell_type": "code",
   "execution_count": 9,
   "metadata": {},
   "outputs": [],
   "source": [
    "pca_counts(token)"
   ]
  },
  {
   "cell_type": "markdown",
   "metadata": {},
   "outputs": [],
   "source": [
    "## Tools global results"
   ]
  },
  {
   "cell_type": "code",
   "execution_count": 10,
   "metadata": {},
   "outputs": [],
   "source": [
    "snake_plot(results_directory, tools_available)"
   ]
  },
  {
   "cell_type": "markdown",
   "metadata": {},
   "outputs": [],
   "source": [
    "## sgRNA read counts by element"
   ]
  },
  {
   "cell_type": "code",
   "execution_count": 11,
   "metadata": {},
   "outputs": [],
   "source": [
    "show_sgRNA_counts(token) "
   ]
  },
  {
   "cell_type": "markdown",
   "metadata": {},
   "outputs": [],
   "source": [
    "## results by tool and by element"
   ]
  },
  {
   "cell_type": "code",
   "execution_count": 12,
   "metadata": {},
   "outputs": [],
   "source": [
    "CRISPhieRmix_results(results_directory, tools_available)"
   ]
  },
  {
   "cell_type": "code",
   "execution_count": 13,
   "metadata": {},
   "outputs": [],
   "source": [
    "GSEA_like_results(results_directory, tools_available)"
   ]
  },
  {
   "cell_type": "code",
   "execution_count": 14,
   "metadata": {},
   "outputs": [],
   "source": [
    "in_house_method_results(results_directory, tools_available)"
   ]
  },
  {
   "cell_type": "code",
   "execution_count": 15,
   "metadata": {},
   "outputs": [],
   "source": [
    "MAGeCK_RRA_results(results_directory, tools_available)"
   ]
  },
  {
   "cell_type": "code",
   "execution_count": 16,
   "metadata": {},
   "outputs": [],
   "source": [
    "MAGeCK_MLE_results(results_directory, tools_available)"
   ]
  },
  {
   "cell_type": "code",
   "execution_count": 17,
   "metadata": {},
   "outputs": [],
   "source": [
    "BAGEL_results(results_directory, tools_available)"
   ]
  },
  {
   "cell_type": "markdown",
   "metadata": {},
   "outputs": [],
   "source": [
    "## EnrichR"
   ]
  },
  {
   "cell_type": "code",
   "execution_count": 18,
   "metadata": {},
   "outputs": [],
   "source": [
    "enrichr_plots(tools_available)"
   ]
  },
  {
   "cell_type": "markdown",
   "metadata": {},
   "outputs": [],
   "source": [
    "## GeneMania"
   ]
  },
  {
   "cell_type": "code",
   "execution_count": 19,
   "metadata": {},
   "outputs": [],
   "source": [
    "genemania_link_results(tools_available)"
   ]
  },
  {
   "cell_type": "markdown",
   "metadata": {},
   "outputs": [],
   "source": [
    "## Data exploration charts"
   ]
  },
  {
   "cell_type": "code",
   "execution_count": 20,
   "metadata": {
    "scrolled": false
   },
   "outputs": [],
   "source": [
    "intersection(tools_available, token)"
   ]
  },
  {
   "cell_type": "code",
   "execution_count": 21,
   "metadata": {},
   "outputs": [],
   "source": [
    "l = [0,1,2,3,4,5]\n",
    "l[2:]"
   ]
  },
  {
   "cell_type": "code",
   "execution_count": 22,
   "metadata": {},
   "outputs": [],
   "source": [
    "call_form(tools_available)"
   ]
  },
  {
   "cell_type": "markdown",
   "metadata": {},
   "outputs": [],
   "source": [
    "## depmap integration with \"Essentiality prioritisation\" results"
   ]
  },
  {
   "cell_type": "code",
   "execution_count": null,
   "metadata": {},
   "outputs": [],
   "source": [
    "# dplyr = importr(\"dplyr\")\n",
    "# tibble = importr(\"tibble\")\n",
    "# stringr = importr(\"stringr\")\n",
    "# depmap = importr(\"depmap\")\n",
    "# experimentHub = importr(\"ExperimentHub\")\n",
    "\n",
    "# from rpy2.robjects.lib.dplyr import DataFrame\n",
    "# from rpy2.robjects import rl\n",
    "\n",
    "# import rpy2.ipython.html\n",
    "# rpy2.ipython.html.init_printing()"
   ]
  },
  {
   "cell_type": "code",
   "execution_count": null,
   "metadata": {},
   "outputs": [],
   "source": [
    "# eh = experimentHub.ExperimentHub()\n",
    "# rnai = depmap.depmap_rnai()\n",
    "\n",
    "# rnai"
   ]
  },
  {
   "cell_type": "code",
   "execution_count": null,
   "metadata": {},
   "outputs": [],
   "source": [
    "# dataf = (\n",
    "#     DataFrame(rnai)\n",
    "#     .filter(rl('grepl(\"HAEMATOPOIETIC_AND_LYMPHOID_TISSUE\", cell_line)'))\n",
    "# )\n",
    "\n",
    "# dataf.head()"
   ]
  },
  {
   "cell_type": "code",
   "execution_count": null,
   "metadata": {},
   "outputs": [],
   "source": [
    "# with localconverter(ro.default_converter + pandas2ri.converter):\n",
    "#     py_rnai = ro.conversion.rpy2py(dataf)\n",
    "\n",
    "# py_rnai"
   ]
  },
  {
   "cell_type": "code",
   "execution_count": null,
   "metadata": {
    "scrolled": false
   },
   "outputs": [],
   "source": [
    "# genes = ['ADNP', 'SMARCA5', 'FTSJ3', 'TRRAP', 'ASH2L', 'NPM1', 'TRIM28',\n",
    "#        'SUPT16H', 'USP7', 'PRPF31', 'CHAF1A', 'KANSL1', 'EP400', 'TAF6',\n",
    "#        'RPA2', 'RRM1', 'NIPBL', 'RUNX1', 'SMARCB1', 'DDX21', 'PAF1', 'PSMB1',\n",
    "#        'DDB1', 'NOC2L', 'MCM6', 'GLIS2', 'BRCA1', 'RUVBL1', 'POLA1', 'RPA1',\n",
    "#        'NAA10', 'PHF5A', 'MYC', 'SMNDC1', 'FBL', 'CHD2', 'CHD1', 'KDM1A',\n",
    "#        'DNMT1', 'TAF1', 'CHD4', 'WDR82', 'TAF10', 'UBA1', 'ACTL6A', 'ARID1A',\n",
    "#        'HCFC1', 'SUPT6H', 'SSRP1', 'BPTF', 'TAF2', 'CTCF', 'HUWE1', 'WDR61',\n",
    "#        'SMN1', 'PHIP', 'BRD4', 'DMAP1', 'DNTTIP2', 'NAT10', 'RAD51', 'LMO2',\n",
    "#        'SAFB', 'ATR', 'BOP1', 'MLL2', 'MIS18A', 'YY1', 'WDR5', 'NCL', 'POLR2A',\n",
    "#        'SAP130', 'POLR2B', 'SFPQ', 'SF3B1', 'BRCA2', 'AURKB', 'BCL2']\n",
    "\n",
    "# essential_genes = py_rnai.loc[py_rnai.gene_name.isin(genes)][[\"gene_name\", \"cell_line\", \"dependency\"]].pivot(index='gene_name', columns='cell_line', values='dependency').dropna()\n",
    "# net.load_df(essential_genes)\n",
    "# net.cluster()\n",
    "# net.widget()"
   ]
  },
  {
   "cell_type": "code",
   "execution_count": null,
   "metadata": {},
   "outputs": [],
   "source": [
    "# for gene in [ 'ACTL6A', 'ASH2L', 'ATR', 'AURKB', 'BOP1', 'BPTF', 'BRD4', 'CHAF1A', 'CHD4', 'CTCF', 'DDB1', 'DDX21', 'DMAP1', 'DNMT1', 'EP400', 'HCFC1', 'HUWE1', 'KDM1A', 'MCM6', 'MYC', 'NAA10', 'NAT10', 'NCL', 'NPM1', 'PAF1', 'PHF5A', 'POLA1', 'POLR2A', 'POLR2B', 'PRPF31', 'RAD51', 'RPA1', 'RPA2', 'RRM1', 'RUVBL1', 'SAFB', 'SF3B1', 'SFPQ', 'SMARCA5', 'SMARCB1', 'SMNDC1', 'SSRP1', 'SUPT16H', 'SUPT6H', 'TAF1', 'TRIM28', 'TRRAP', 'UBA1', 'YY1']:\n",
    "#     print(gene)"
   ]
  },
  {
   "cell_type": "code",
   "execution_count": null,
   "metadata": {},
   "outputs": [],
   "source": [
    "# for gene in [ 'ADNP', 'ARID1A', 'AURKB', 'BCL2', 'BPTF', 'BRCA1', 'BRCA2', 'CHD1', 'CHD2', 'CTCF', 'DMAP1', 'DNMT1', 'GLIS2', 'HUWE1', 'KDM1A', 'LMO2', 'MCM6', 'NAT10', 'NCL', 'NOC2L', 'NPM1', 'PHIP', 'RUNX1', 'SAFB', 'SAP130', 'SMARCB1', 'TAF2', 'TAF6', 'TRIM28', 'USP7', 'YY1']:\n",
    "#     print(gene)"
   ]
  },
  {
   "cell_type": "code",
   "execution_count": null,
   "metadata": {},
   "outputs": [],
   "source": [
    "# %%R\n",
    "\n",
    "# library(depmap)\n",
    "# library(\"ExperimentHub\")\n",
    "# library(ggplot2)\n",
    "\n",
    "# ## create ExperimentHub query object\n",
    "# eh <- ExperimentHub()\n",
    "\n",
    "# # rnai <- eh[[\"EH2260\"]]\n",
    "\n",
    "# # rnai"
   ]
  },
  {
   "cell_type": "code",
   "execution_count": null,
   "metadata": {},
   "outputs": [],
   "source": [
    "# %%R\n",
    "\n",
    "# eh"
   ]
  },
  {
   "cell_type": "code",
   "execution_count": null,
   "metadata": {},
   "outputs": [],
   "source": [
    "# %%R -i\n",
    "\n",
    "# query.gene <- \"MYC\"\n",
    "# query.cell_line <- \"KASUMI2_HAEMATOPOIETIC_AND_LYMPHOID_TISSUE\"\n",
    "# query.cell_line_name <- \"KASUMI2\"\n",
    "\n",
    "# essential.genes <- res %>%\n",
    "#     filter(Score < 0.05) %>%\n",
    "#     pull(Name)\n",
    "\n",
    "\n",
    "# rnai.filtered <- rnai %>%\n",
    "#     filter(cell_line == query.cell_line) %>%\n",
    "#     mutate(essential = ifelse(gene_name %in% essential.genes, \"essential\", \"non-essential\")) %>%\n",
    "#     filter(!is.na(dependency))\n",
    "\n",
    "\n",
    "# gene.dependency <- rnai.filtered %>%\n",
    "#     filter(gene_name == query.gene) %>%\n",
    "#     pull(dependency)\n",
    "\n",
    "\n",
    "# rnai.filtered %>%\n",
    "#     ggplot(aes(x=dependency, fill=essential)) + \n",
    "#     geom_density(alpha=0.4) + \n",
    "#     theme_classic() +\n",
    "#     scale_fill_manual(values=c(\"#E69F00\", \"#999999\")) +\n",
    "#     geom_vline(xintercept = 0) +\n",
    "#     geom_rug(data = subset(rnai.filtered, essential == \"essential\"), col=\"#E69F00\", alpha=0.5, sides = \"t\") +\n",
    "#     geom_rug(data = subset(rnai.filtered, essential == \"non-essential\"), col=\"#999999\", alpha=0.5, outside = TRUE, sides = \"t\") +\n",
    "#     coord_cartesian(clip = \"off\") +\n",
    "#     geom_vline(xintercept = gene.dependency, linetype=\"dashed\", color = \"red\", size=1) +\n",
    "#     ggtitle(paste0(query.cell_line_name, \"dependencies (\", query.gene,\" highlighted)\")) +\n",
    "#     theme(plot.title = element_text(vjust = 4),\n",
    "#           plot.margin = margin(10, 10, 10, 10))\n"
   ]
  },
  {
   "cell_type": "code",
   "execution_count": null,
   "metadata": {},
   "outputs": [],
   "source": [
    "# %%R\n",
    "\n",
    "# library(ggridges)\n",
    "# library(tidyr)\n",
    "# library(forcats)\n",
    "\n",
    "# rnai.filtered <- rnai %>%\n",
    "#     filter(grepl(\"HAEMATOPOIETIC_AND_LYMPHOID_TISSUE\", cell_line)) %>%\n",
    "#     mutate(essential = ifelse(gene_name %in% essential.genes, \"essential\", \"non-essential\")) %>%\n",
    "#     filter(!is.na(dependency))\n",
    "\n",
    "\n",
    "# rnai.filtered %>%\n",
    "#     mutate(cell_line = fct_reorder(.f = cell_line, .x = -dependency, .fun = median)) %>%\n",
    "#     filter(essential == \"essential\") %>%\n",
    "#     ggplot(aes(x = `dependency`, y = cell_line, fill = stat(x))) +\n",
    "#         geom_density_ridges_gradient(scale = 3, rel_min_height = 0.01, quantile_lines = TRUE, quantiles = 2) +\n",
    "#         scale_fill_viridis_c() +\n",
    "#         geom_vline(xintercept=-0.5, color = \"red\", size=1) +\n",
    "#         geom_vline(xintercept=0, color = \"black\", size=1, linetype=\"dashed\") +\n",
    "#         theme_classic()\n"
   ]
  },
  {
   "cell_type": "code",
   "execution_count": null,
   "metadata": {},
   "outputs": [],
   "source": [
    "# import pandas as pd\n",
    "# import rpy2.robjects as robjects\n",
    "# from rpy2.robjects import pandas2ri# Defining the R script and loading the instance in Python\n",
    "# r = robjects.r\n",
    "# r['source']('preprocess.R')# Loading the function we have defined in R.\n",
    "# filter_country_function_r = robjects.globalenv['filter_country']# Reading and processing data\n",
    "# df = pd.read_csv(\"Country-Sales.csv\")#converting it into r object for passing into r function\n",
    "# df_r = pandas2ri.ri2py(df)\n",
    "# #Invoking the R function and getting the result\n",
    "# df_result_r = filter_country_function_r(df_r, 'USA')\n",
    "# #Converting it back to a pandas dataframe.\n",
    "# df_result = pandas2ri.py2ri(df_result_r)"
   ]
  },
  {
   "cell_type": "code",
   "execution_count": null,
   "metadata": {},
   "outputs": [],
   "source": [
    "# import numpy as np\n",
    "# import pandas as pd\n",
    "# from clustergrammer2 import net, Network, CGM2\n",
    "# import warnings\n",
    "# # warnings.filterwarnings('ignore')"
   ]
  },
  {
   "cell_type": "code",
   "execution_count": null,
   "metadata": {},
   "outputs": [],
   "source": [
    "# df = pd.DataFrame(np.random.randint(0,10,size=(10, 4)), columns=['BRCA2','TP53','SPNS2','MYC'])\n",
    "\n",
    "# print(df)\n",
    "\n",
    "# # load matrix file\n",
    "# net.load_df(df)\n",
    "\n",
    "# # cluster using default parameters\n",
    "# # net.cluster(enrichrgram=True)\n",
    "\n",
    "# # make interactive widget\n",
    "# net.widget()"
   ]
  }
 ],
 "metadata": {
  "celltoolbar": "Tags",
  "kernelspec": {
   "display_name": "Python 3",
   "language": "python",
   "name": "python3"
  },
  "language_info": {
   "codemirror_mode": {
    "name": "ipython",
    "version": 3
   },
   "file_extension": ".py",
   "mimetype": "text/x-python",
   "name": "python",
   "nbconvert_exporter": "python",
   "pygments_lexer": "ipython3",
   "version": "3.8.5"
  },
  "toc": {
   "base_numbering": 1,
   "nav_menu": {},
   "number_sections": false,
   "sideBar": false,
   "skip_h1_title": false,
   "title_cell": "Table of Contents",
   "title_sidebar": "Contents",
   "toc_cell": false,
   "toc_position": {},
   "toc_section_display": false,
   "toc_window_display": false
  }
 },
 "nbformat": 4,
 "nbformat_minor": 4
}
