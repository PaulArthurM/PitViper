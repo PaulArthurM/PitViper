{
 "cells": [
  {
   "cell_type": "code",
   "execution_count": 1,
   "id": "intellectual-intention",
   "metadata": {
    "tags": []
   },
   "outputs": [
    {
     "name": "stdout",
     "output_type": "stream",
     "text": [
      "/media/paularthur/data/Projets/Screens/PitViper/PitViper\n"
     ]
    }
   ],
   "source": [
    "import re\n",
    "import pprint as pp\n",
    "import pandas as pd\n",
    "import time\n",
    "import altair as alt\n",
    "from functools import reduce\n",
    "import sys\n",
    "\n",
    "from IPython.display import display, HTML\n",
    "import os\n",
    "\n",
    "from __future__ import print_function\n",
    "from ipywidgets import interact, interactive, fixed, interact_manual\n",
    "import ipywidgets as widgets\n",
    "\n",
    "modules_path = ['workflow/scripts', \"../../../workflow/scripts\"]\n",
    "for module in modules_path:\n",
    "    module_path = os.path.abspath(os.path.join(module))\n",
    "    if module_path not in sys.path:\n",
    "        sys.path.append(module_path)\n",
    "    \n",
    "from functions import *\n",
    "\n",
    "alt.renderers.enable('default')\n",
    "pd.set_option('display.max_rows', None)\n",
    "\n",
    "# For Snakemake\n",
    "switch = True\n",
    "while os.path.basename(os.getcwd()) != \"PitViper\":\n",
    "    if switch:\n",
    "        switch = False\n",
    "        %cd ../../\n",
    "    else:\n",
    "        %cd ../"
   ]
  },
  {
   "cell_type": "code",
   "execution_count": 2,
   "id": "japanese-production",
   "metadata": {
    "tags": [
     "parameters"
    ]
   },
   "outputs": [],
   "source": [
    "# Parameters\n",
    "mageck_mle_outputs = \"results/CRISPRi_countFrom_bam/MAGeCK_MLE/\"\n",
    "mageck_rra_outputs = \"results/CRISPRi_countFrom_bam/MAGeCK_RRA/\""
   ]
  },
  {
   "cell_type": "code",
   "execution_count": 3,
   "id": "chubby-label",
   "metadata": {},
   "outputs": [
    {
     "data": {
      "text/plain": [
       "'./PitViper/results/'"
      ]
     },
     "execution_count": 3,
     "metadata": {},
     "output_type": "execute_result"
    }
   ],
   "source": [
    "\"./PitViper/results/\""
   ]
  },
  {
   "cell_type": "markdown",
   "id": "european-carnival",
   "metadata": {},
   "source": [
    "## MAGeCK-MLE"
   ]
  },
  {
   "cell_type": "markdown",
   "id": "unique-supervision",
   "metadata": {},
   "source": [
    "The `mageck_mle_viz` function allow to visualize MAGeCK MLE output.\n",
    "\n",
    "Graphical results can be downloaded in SVG or PNG format from the button at the top-rigth corner of the chart.\n",
    "\n",
    "Maximum number of rows to display can be changed with the `pd.set_option('display.max_rows', n_rows)` function."
   ]
  },
  {
   "cell_type": "code",
   "execution_count": 4,
   "id": "divided-cancer",
   "metadata": {},
   "outputs": [
    {
     "name": "stdout",
     "output_type": "stream",
     "text": [
      "Chart parameters :\n"
     ]
    },
    {
     "data": {
      "application/vnd.jupyter.widget-view+json": {
       "model_id": "9292243127d74d748f1ed04525b9ad03",
       "version_major": 2,
       "version_minor": 0
      },
      "text/plain": [
       "interactive(children=(Text(value='SE_42', description='feature'), FloatSlider(value=0.05, description='fdr', m…"
      ]
     },
     "metadata": {},
     "output_type": "display_data"
    }
   ],
   "source": [
    "pd.set_option('display.max_rows', 10)\n",
    "mageck_mle_viz(mageck_mle_outputs)"
   ]
  },
  {
   "cell_type": "markdown",
   "id": "hearing-potato",
   "metadata": {},
   "source": [
    "## MAGeCK-RRA"
   ]
  },
  {
   "cell_type": "code",
   "execution_count": 5,
   "id": "charming-drilling",
   "metadata": {},
   "outputs": [
    {
     "name": "stdout",
     "output_type": "stream",
     "text": [
      "Chart parameters :\n"
     ]
    },
    {
     "data": {
      "application/vnd.jupyter.widget-view+json": {
       "model_id": "4aaf200cdfdb47d185bfb09f2734d170",
       "version_major": 2,
       "version_minor": 0
      },
      "text/plain": [
       "interactive(children=(Text(value='SE_4', description='feature'), FloatSlider(value=0.05, description='fdr', ma…"
      ]
     },
     "metadata": {},
     "output_type": "display_data"
    }
   ],
   "source": [
    "mageck_rra_viz(mageck_rra_outputs)"
   ]
  },
  {
   "cell_type": "markdown",
   "id": "japanese-functionality",
   "metadata": {},
   "source": [
    "## BAGEL"
   ]
  },
  {
   "cell_type": "code",
   "execution_count": 7,
   "id": "binding-default",
   "metadata": {},
   "outputs": [],
   "source": [
    "bagel_outputs = \"results/shRNA_full_essentials_genes_BAGEL/BAGEL/\""
   ]
  },
  {
   "cell_type": "code",
   "execution_count": 14,
   "id": "ecological-secret",
   "metadata": {},
   "outputs": [
    {
     "data": {
      "text/html": [
       "<div>\n",
       "<style scoped>\n",
       "    .dataframe tbody tr th:only-of-type {\n",
       "        vertical-align: middle;\n",
       "    }\n",
       "\n",
       "    .dataframe tbody tr th {\n",
       "        vertical-align: top;\n",
       "    }\n",
       "\n",
       "    .dataframe thead th {\n",
       "        text-align: right;\n",
       "    }\n",
       "</style>\n",
       "<table border=\"1\" class=\"dataframe\">\n",
       "  <thead>\n",
       "    <tr style=\"text-align: right;\">\n",
       "      <th></th>\n",
       "      <th>GENE</th>\n",
       "      <th>BF</th>\n",
       "      <th>STD</th>\n",
       "      <th>NumObs</th>\n",
       "    </tr>\n",
       "  </thead>\n",
       "  <tbody>\n",
       "    <tr>\n",
       "      <th>0</th>\n",
       "      <td>A1CF</td>\n",
       "      <td>-47.865</td>\n",
       "      <td>7.037</td>\n",
       "      <td>367</td>\n",
       "    </tr>\n",
       "    <tr>\n",
       "      <th>1</th>\n",
       "      <td>ACTB</td>\n",
       "      <td>50.616</td>\n",
       "      <td>17.854</td>\n",
       "      <td>378</td>\n",
       "    </tr>\n",
       "    <tr>\n",
       "      <th>2</th>\n",
       "      <td>ACTL6A</td>\n",
       "      <td>137.561</td>\n",
       "      <td>53.181</td>\n",
       "      <td>391</td>\n",
       "    </tr>\n",
       "    <tr>\n",
       "      <th>3</th>\n",
       "      <td>ACTL6B</td>\n",
       "      <td>-30.412</td>\n",
       "      <td>5.788</td>\n",
       "      <td>386</td>\n",
       "    </tr>\n",
       "    <tr>\n",
       "      <th>4</th>\n",
       "      <td>ACTR3B</td>\n",
       "      <td>-49.154</td>\n",
       "      <td>7.452</td>\n",
       "      <td>366</td>\n",
       "    </tr>\n",
       "    <tr>\n",
       "      <th>...</th>\n",
       "      <td>...</td>\n",
       "      <td>...</td>\n",
       "      <td>...</td>\n",
       "      <td>...</td>\n",
       "    </tr>\n",
       "    <tr>\n",
       "      <th>951</th>\n",
       "      <td>ZNF711</td>\n",
       "      <td>-47.270</td>\n",
       "      <td>6.752</td>\n",
       "      <td>353</td>\n",
       "    </tr>\n",
       "    <tr>\n",
       "      <th>952</th>\n",
       "      <td>ZNHIT1</td>\n",
       "      <td>-51.867</td>\n",
       "      <td>7.802</td>\n",
       "      <td>334</td>\n",
       "    </tr>\n",
       "    <tr>\n",
       "      <th>953</th>\n",
       "      <td>ZRANB3</td>\n",
       "      <td>-37.541</td>\n",
       "      <td>6.245</td>\n",
       "      <td>393</td>\n",
       "    </tr>\n",
       "    <tr>\n",
       "      <th>954</th>\n",
       "      <td>ZSCAN21</td>\n",
       "      <td>-41.101</td>\n",
       "      <td>6.060</td>\n",
       "      <td>385</td>\n",
       "    </tr>\n",
       "    <tr>\n",
       "      <th>955</th>\n",
       "      <td>ZZZ3</td>\n",
       "      <td>-6.119</td>\n",
       "      <td>5.378</td>\n",
       "      <td>350</td>\n",
       "    </tr>\n",
       "  </tbody>\n",
       "</table>\n",
       "<p>956 rows × 4 columns</p>\n",
       "</div>"
      ],
      "text/plain": [
       "        GENE       BF     STD  NumObs\n",
       "0       A1CF  -47.865   7.037     367\n",
       "1       ACTB   50.616  17.854     378\n",
       "2     ACTL6A  137.561  53.181     391\n",
       "3     ACTL6B  -30.412   5.788     386\n",
       "4     ACTR3B  -49.154   7.452     366\n",
       "..       ...      ...     ...     ...\n",
       "951   ZNF711  -47.270   6.752     353\n",
       "952   ZNHIT1  -51.867   7.802     334\n",
       "953   ZRANB3  -37.541   6.245     393\n",
       "954  ZSCAN21  -41.101   6.060     385\n",
       "955     ZZZ3   -6.119   5.378     350\n",
       "\n",
       "[956 rows x 4 columns]"
      ]
     },
     "execution_count": 14,
     "metadata": {},
     "output_type": "execute_result"
    }
   ],
   "source": [
    "def bagel_inputs(bagel_outputs):\n",
    "    bagel = {}\n",
    "    for directory in os.listdir(bagel_outputs):\n",
    "        table_file = bagel_outputs+directory+'/'+directory+'_BAGEL_output.bf'\n",
    "        bagel[directory] = {'file': table_file, 'table': pd.read_csv(table_file, sep=\"\\t\")}\n",
    "    return bagel\n",
    "\n",
    "bagel = bagel_inputs(bagel_outputs)\n",
    "bagel['M07e-J25_vs_M07e-J4']['table']"
   ]
  },
  {
   "cell_type": "code",
   "execution_count": 30,
   "id": "temporal-lambda",
   "metadata": {},
   "outputs": [
    {
     "data": {
      "text/html": [
       "<div>\n",
       "<style scoped>\n",
       "    .dataframe tbody tr th:only-of-type {\n",
       "        vertical-align: middle;\n",
       "    }\n",
       "\n",
       "    .dataframe tbody tr th {\n",
       "        vertical-align: top;\n",
       "    }\n",
       "\n",
       "    .dataframe thead th {\n",
       "        text-align: right;\n",
       "    }\n",
       "</style>\n",
       "<table border=\"1\" class=\"dataframe\">\n",
       "  <thead>\n",
       "    <tr style=\"text-align: right;\">\n",
       "      <th></th>\n",
       "      <th>GENE</th>\n",
       "      <th>M07e-J18_BF</th>\n",
       "      <th>M07e-J18_STD</th>\n",
       "      <th>M07e-J18_NumObs</th>\n",
       "      <th>M07e-J11_BF</th>\n",
       "      <th>M07e-J11_STD</th>\n",
       "      <th>M07e-J11_NumObs</th>\n",
       "      <th>M07e-J25_BF</th>\n",
       "      <th>M07e-J25_STD</th>\n",
       "      <th>M07e-J25_NumObs</th>\n",
       "    </tr>\n",
       "  </thead>\n",
       "  <tbody>\n",
       "    <tr>\n",
       "      <th>0</th>\n",
       "      <td>A1CF</td>\n",
       "      <td>-46.880</td>\n",
       "      <td>24.347</td>\n",
       "      <td>367</td>\n",
       "      <td>-23.540</td>\n",
       "      <td>4.749</td>\n",
       "      <td>385</td>\n",
       "      <td>-47.865</td>\n",
       "      <td>7.037</td>\n",
       "      <td>367</td>\n",
       "    </tr>\n",
       "    <tr>\n",
       "      <th>1</th>\n",
       "      <td>ACTB</td>\n",
       "      <td>15.772</td>\n",
       "      <td>39.971</td>\n",
       "      <td>374</td>\n",
       "      <td>24.194</td>\n",
       "      <td>5.611</td>\n",
       "      <td>365</td>\n",
       "      <td>50.616</td>\n",
       "      <td>17.854</td>\n",
       "      <td>378</td>\n",
       "    </tr>\n",
       "    <tr>\n",
       "      <th>2</th>\n",
       "      <td>ACTL6A</td>\n",
       "      <td>80.346</td>\n",
       "      <td>82.747</td>\n",
       "      <td>361</td>\n",
       "      <td>71.147</td>\n",
       "      <td>10.828</td>\n",
       "      <td>359</td>\n",
       "      <td>137.561</td>\n",
       "      <td>53.181</td>\n",
       "      <td>391</td>\n",
       "    </tr>\n",
       "    <tr>\n",
       "      <th>3</th>\n",
       "      <td>ACTL6B</td>\n",
       "      <td>-37.416</td>\n",
       "      <td>24.268</td>\n",
       "      <td>367</td>\n",
       "      <td>-22.325</td>\n",
       "      <td>4.761</td>\n",
       "      <td>367</td>\n",
       "      <td>-30.412</td>\n",
       "      <td>5.788</td>\n",
       "      <td>386</td>\n",
       "    </tr>\n",
       "    <tr>\n",
       "      <th>4</th>\n",
       "      <td>ACTR3B</td>\n",
       "      <td>-44.485</td>\n",
       "      <td>23.645</td>\n",
       "      <td>348</td>\n",
       "      <td>-32.073</td>\n",
       "      <td>5.588</td>\n",
       "      <td>365</td>\n",
       "      <td>-49.154</td>\n",
       "      <td>7.452</td>\n",
       "      <td>366</td>\n",
       "    </tr>\n",
       "    <tr>\n",
       "      <th>...</th>\n",
       "      <td>...</td>\n",
       "      <td>...</td>\n",
       "      <td>...</td>\n",
       "      <td>...</td>\n",
       "      <td>...</td>\n",
       "      <td>...</td>\n",
       "      <td>...</td>\n",
       "      <td>...</td>\n",
       "      <td>...</td>\n",
       "      <td>...</td>\n",
       "    </tr>\n",
       "    <tr>\n",
       "      <th>951</th>\n",
       "      <td>ZNF711</td>\n",
       "      <td>-34.809</td>\n",
       "      <td>27.054</td>\n",
       "      <td>375</td>\n",
       "      <td>-24.808</td>\n",
       "      <td>5.405</td>\n",
       "      <td>392</td>\n",
       "      <td>-47.270</td>\n",
       "      <td>6.752</td>\n",
       "      <td>353</td>\n",
       "    </tr>\n",
       "    <tr>\n",
       "      <th>952</th>\n",
       "      <td>ZNHIT1</td>\n",
       "      <td>-37.779</td>\n",
       "      <td>23.609</td>\n",
       "      <td>370</td>\n",
       "      <td>-34.192</td>\n",
       "      <td>6.228</td>\n",
       "      <td>364</td>\n",
       "      <td>-51.867</td>\n",
       "      <td>7.802</td>\n",
       "      <td>334</td>\n",
       "    </tr>\n",
       "    <tr>\n",
       "      <th>953</th>\n",
       "      <td>ZRANB3</td>\n",
       "      <td>-39.759</td>\n",
       "      <td>28.001</td>\n",
       "      <td>370</td>\n",
       "      <td>-31.960</td>\n",
       "      <td>5.972</td>\n",
       "      <td>373</td>\n",
       "      <td>-37.541</td>\n",
       "      <td>6.245</td>\n",
       "      <td>393</td>\n",
       "    </tr>\n",
       "    <tr>\n",
       "      <th>954</th>\n",
       "      <td>ZSCAN21</td>\n",
       "      <td>-42.761</td>\n",
       "      <td>26.780</td>\n",
       "      <td>355</td>\n",
       "      <td>-29.694</td>\n",
       "      <td>5.157</td>\n",
       "      <td>376</td>\n",
       "      <td>-41.101</td>\n",
       "      <td>6.060</td>\n",
       "      <td>385</td>\n",
       "    </tr>\n",
       "    <tr>\n",
       "      <th>955</th>\n",
       "      <td>ZZZ3</td>\n",
       "      <td>-18.158</td>\n",
       "      <td>25.342</td>\n",
       "      <td>402</td>\n",
       "      <td>-17.014</td>\n",
       "      <td>4.303</td>\n",
       "      <td>347</td>\n",
       "      <td>-6.119</td>\n",
       "      <td>5.378</td>\n",
       "      <td>350</td>\n",
       "    </tr>\n",
       "  </tbody>\n",
       "</table>\n",
       "<p>956 rows × 10 columns</p>\n",
       "</div>"
      ],
      "text/plain": [
       "        GENE  M07e-J18_BF  M07e-J18_STD  M07e-J18_NumObs  M07e-J11_BF  \\\n",
       "0       A1CF      -46.880        24.347              367      -23.540   \n",
       "1       ACTB       15.772        39.971              374       24.194   \n",
       "2     ACTL6A       80.346        82.747              361       71.147   \n",
       "3     ACTL6B      -37.416        24.268              367      -22.325   \n",
       "4     ACTR3B      -44.485        23.645              348      -32.073   \n",
       "..       ...          ...           ...              ...          ...   \n",
       "951   ZNF711      -34.809        27.054              375      -24.808   \n",
       "952   ZNHIT1      -37.779        23.609              370      -34.192   \n",
       "953   ZRANB3      -39.759        28.001              370      -31.960   \n",
       "954  ZSCAN21      -42.761        26.780              355      -29.694   \n",
       "955     ZZZ3      -18.158        25.342              402      -17.014   \n",
       "\n",
       "     M07e-J11_STD  M07e-J11_NumObs  M07e-J25_BF  M07e-J25_STD  M07e-J25_NumObs  \n",
       "0           4.749              385      -47.865         7.037              367  \n",
       "1           5.611              365       50.616        17.854              378  \n",
       "2          10.828              359      137.561        53.181              391  \n",
       "3           4.761              367      -30.412         5.788              386  \n",
       "4           5.588              365      -49.154         7.452              366  \n",
       "..            ...              ...          ...           ...              ...  \n",
       "951         5.405              392      -47.270         6.752              353  \n",
       "952         6.228              364      -51.867         7.802              334  \n",
       "953         5.972              373      -37.541         6.245              393  \n",
       "954         5.157              376      -41.101         6.060              385  \n",
       "955         4.303              347       -6.119         5.378              350  \n",
       "\n",
       "[956 rows x 10 columns]"
      ]
     },
     "execution_count": 30,
     "metadata": {},
     "output_type": "execute_result"
    }
   ],
   "source": [
    "control = 'M07e-J4'\n",
    "\n",
    "def bagel_results(bagel, control):\n",
    "    tables = []\n",
    "    conditions_plot = []\n",
    "    for condition in bagel.keys():\n",
    "        trt, con = condition.split(\"_vs_\")\n",
    "        if con == control:\n",
    "            conditions_plot.append(trt)\n",
    "            table = bagel_inputs(bagel_outputs)[condition]['table']\n",
    "            new_names = [(i,trt + \"_\" + i) for i in table.iloc[:, 1:].columns.values]\n",
    "            table.rename(columns = dict(new_names), inplace=True)\n",
    "            tables.append(table)\n",
    "\n",
    "    big_table = reduce(lambda  left,right: pd.merge(left,right,on=['GENE'],\n",
    "                                                how='outer'), tables)\n",
    "\n",
    "    return (big_table, conditions_plot)\n",
    "\n",
    "table, conditions = bagel_results(bagel, control)\n",
    "table"
   ]
  },
  {
   "cell_type": "code",
   "execution_count": 56,
   "id": "spread-cleaners",
   "metadata": {
    "tags": []
   },
   "outputs": [
    {
     "data": {
      "text/html": [
       "\n",
       "<div id=\"altair-viz-c10f11391e124f64af467230a4c06aaa\"></div>\n",
       "<script type=\"text/javascript\">\n",
       "  (function(spec, embedOpt){\n",
       "    let outputDiv = document.currentScript.previousElementSibling;\n",
       "    if (outputDiv.id !== \"altair-viz-c10f11391e124f64af467230a4c06aaa\") {\n",
       "      outputDiv = document.getElementById(\"altair-viz-c10f11391e124f64af467230a4c06aaa\");\n",
       "    }\n",
       "    const paths = {\n",
       "      \"vega\": \"https://cdn.jsdelivr.net/npm//vega@5?noext\",\n",
       "      \"vega-lib\": \"https://cdn.jsdelivr.net/npm//vega-lib?noext\",\n",
       "      \"vega-lite\": \"https://cdn.jsdelivr.net/npm//vega-lite@4.8.1?noext\",\n",
       "      \"vega-embed\": \"https://cdn.jsdelivr.net/npm//vega-embed@6?noext\",\n",
       "    };\n",
       "\n",
       "    function loadScript(lib) {\n",
       "      return new Promise(function(resolve, reject) {\n",
       "        var s = document.createElement('script');\n",
       "        s.src = paths[lib];\n",
       "        s.async = true;\n",
       "        s.onload = () => resolve(paths[lib]);\n",
       "        s.onerror = () => reject(`Error loading script: ${paths[lib]}`);\n",
       "        document.getElementsByTagName(\"head\")[0].appendChild(s);\n",
       "      });\n",
       "    }\n",
       "\n",
       "    function showError(err) {\n",
       "      outputDiv.innerHTML = `<div class=\"error\" style=\"color:red;\">${err}</div>`;\n",
       "      throw err;\n",
       "    }\n",
       "\n",
       "    function displayChart(vegaEmbed) {\n",
       "      vegaEmbed(outputDiv, spec, embedOpt)\n",
       "        .catch(err => showError(`Javascript Error: ${err.message}<br>This usually means there's a typo in your chart specification. See the javascript console for the full traceback.`));\n",
       "    }\n",
       "\n",
       "    if(typeof define === \"function\" && define.amd) {\n",
       "      requirejs.config({paths});\n",
       "      require([\"vega-embed\"], displayChart, err => showError(`Error loading script: ${err.message}`));\n",
       "    } else if (typeof vegaEmbed === \"function\") {\n",
       "      displayChart(vegaEmbed);\n",
       "    } else {\n",
       "      loadScript(\"vega\")\n",
       "        .then(() => loadScript(\"vega-lite\"))\n",
       "        .then(() => loadScript(\"vega-embed\"))\n",
       "        .catch(showError)\n",
       "        .then(() => displayChart(vegaEmbed));\n",
       "    }\n",
       "  })({\"config\": {\"view\": {\"continuousWidth\": 400, \"continuousHeight\": 300}}, \"data\": {\"name\": \"data-94048478f87850374e8ac12f46355038\"}, \"mark\": {\"type\": \"point\", \"filled\": true, \"size\": 100}, \"encoding\": {\"color\": {\"type\": \"nominal\", \"field\": \"essential\", \"legend\": {\"title\": \"Essentiality:\"}, \"scale\": {\"domain\": [\"True\", \"False\", \"Baseline\"], \"range\": [\"red\", \"grey\", \"black\"]}}, \"tooltip\": [{\"type\": \"nominal\", \"field\": \"Gene\"}, {\"type\": \"quantitative\", \"field\": \"BF\"}, {\"type\": \"quantitative\", \"field\": \"Std\"}, {\"type\": \"nominal\", \"field\": \"essential\"}, {\"type\": \"nominal\", \"field\": \"condition\"}], \"x\": {\"type\": \"nominal\", \"field\": \"condition\", \"sort\": [\"M07e-J4\", \"M07e-J11\", \"M07e-J18\", \"M07e-J25\"]}, \"y\": {\"type\": \"quantitative\", \"field\": \"BF\"}}, \"title\": \"MYC beta versus baseline (MAGeCK RRA)\", \"width\": 100, \"$schema\": \"https://vega.github.io/schema/vega-lite/v4.8.1.json\", \"datasets\": {\"data-94048478f87850374e8ac12f46355038\": [{\"Gene\": \"MYC\", \"BF\": 56.776, \"Std\": 63.852, \"NumObs\": 409, \"condition\": \"M07e-J18\", \"essential\": \"True\"}, {\"Gene\": \"MYC\", \"BF\": 63.449, \"Std\": 11.552, \"NumObs\": 367, \"condition\": \"M07e-J11\", \"essential\": \"True\"}, {\"Gene\": \"MYC\", \"BF\": 120.069, \"Std\": 41.891, \"NumObs\": 352, \"condition\": \"M07e-J25\", \"essential\": \"True\"}, {\"Gene\": \"MYC\", \"BF\": 0.0, \"Std\": 0.0, \"NumObs\": 0, \"condition\": \"M07e-J4\", \"essential\": \"Baseline\"}]}}, {\"mode\": \"vega-lite\"});\n",
       "</script>"
      ],
      "text/plain": [
       "alt.Chart(...)"
      ]
     },
     "execution_count": 56,
     "metadata": {},
     "output_type": "execute_result"
    }
   ],
   "source": [
    "gene = 'MYC'\n",
    "baseline = 'M07e-J4'\n",
    "genes_summary = table.loc[table['GENE'] == gene]\n",
    "\n",
    "rows = []\n",
    "for condition in conditions:\n",
    "    if condition != baseline:\n",
    "        info = genes_summary.loc[(genes_summary['GENE'] == gene)]\n",
    "        bf = '{trt}_BF'.format(trt=condition, con=baseline)\n",
    "        std = '{trt}_STD'.format(trt=condition, con=baseline)\n",
    "        nobs = '{trt}_NumObs'.format(trt=condition, con=baseline)\n",
    "        info = info[[\"GENE\", bf, std, nobs]]\n",
    "        info['condition'] = condition\n",
    "        info.columns = ['Gene', 'BF', 'Std', 'NumObs','condition']\n",
    "        rows.append(info)\n",
    "\n",
    "result = pd.concat(rows)\n",
    "new_row = {'Gene':gene, 'BF':0, 'Std':0, 'NumObs':0,'condition':baseline}\n",
    "result = result.append(new_row, ignore_index=True)\n",
    "\n",
    "result.loc[result['BF'] > 0, 'essential'] = 'True' \n",
    "result.loc[result['BF'] <= 0, 'essential'] = 'False'\n",
    "result.loc[result['condition'] == baseline, 'essential'] = 'Baseline'\n",
    "\n",
    "chart = alt.Chart(result)\n",
    "\n",
    "cond = [cond.split(\"_vs_\")[0] for cond in conditions]\n",
    "\n",
    "cond.append(baseline)\n",
    "\n",
    "sort_cols = natural_sort(cond)\n",
    "\n",
    "domain = ['True', 'False', 'Baseline']\n",
    "range_ = ['red', 'grey', 'black']\n",
    "\n",
    "plot = alt.Chart(result).mark_circle(size=60).mark_point(\n",
    "    filled=True,\n",
    "    size=100,\n",
    "    ).encode(\n",
    "            y='BF',\n",
    "            x=alt.X('condition:N', sort=sort_cols),\n",
    "            color=alt.Color('essential', scale=alt.Scale(domain=domain, range=range_), legend=alt.Legend(title=\"Essentiality:\")),\n",
    "            tooltip=['Gene', 'BF', 'Std', 'essential', 'condition'],\n",
    "    ).properties(\n",
    "            title=gene + \" beta versus baseline (MAGeCK RRA)\",\n",
    "            width=100\n",
    "    )\n",
    "\n",
    "plot"
   ]
  }
 ],
 "metadata": {
  "kernelspec": {
   "display_name": "Python 3",
   "language": "python",
   "name": "python3"
  },
  "language_info": {
   "codemirror_mode": {
    "name": "ipython",
    "version": 3
   },
   "file_extension": ".py",
   "mimetype": "text/x-python",
   "name": "python",
   "nbconvert_exporter": "python",
   "pygments_lexer": "ipython3",
   "version": "3.9.2"
  },
  "widgets": {
   "application/vnd.jupyter.widget-state+json": {
    "state": {
     "00a30f953752400e9b4e7cce02d4a3f5": {
      "model_module": "@jupyter-widgets/base",
      "model_module_version": "1.2.0",
      "model_name": "LayoutModel",
      "state": {}
     },
     "00bc80c962ee4e6ab790e216eec1dc69": {
      "model_module": "@jupyter-widgets/output",
      "model_module_version": "1.0.0",
      "model_name": "OutputModel",
      "state": {
       "layout": "IPY_MODEL_e48379347a1d48e795d956099827556b",
       "outputs": [
        {
         "name": "stdout",
         "output_type": "stream",
         "text": "\nTable's fdr cutoff for given condition:\n"
        },
        {
         "data": {
          "application/vnd.jupyter.widget-view+json": {
           "model_id": "7e50172ed49a420bb9481a986dc736b0",
           "version_major": 2,
           "version_minor": 0
          },
          "text/plain": "interactive(children=(FloatSlider(value=0.05, description='fdr', max=1.0, step=0.01), Dropdown(description='co…"
         },
         "metadata": {},
         "output_type": "display_data"
        },
        {
         "data": {
          "text/html": "\n<div id=\"altair-viz-36eeb4f2e9684de9aeda4849a833cee5\"></div>\n<script type=\"text/javascript\">\n  (function(spec, embedOpt){\n    let outputDiv = document.currentScript.previousElementSibling;\n    if (outputDiv.id !== \"altair-viz-36eeb4f2e9684de9aeda4849a833cee5\") {\n      outputDiv = document.getElementById(\"altair-viz-36eeb4f2e9684de9aeda4849a833cee5\");\n    }\n    const paths = {\n      \"vega\": \"https://cdn.jsdelivr.net/npm//vega@5?noext\",\n      \"vega-lib\": \"https://cdn.jsdelivr.net/npm//vega-lib?noext\",\n      \"vega-lite\": \"https://cdn.jsdelivr.net/npm//vega-lite@4.8.1?noext\",\n      \"vega-embed\": \"https://cdn.jsdelivr.net/npm//vega-embed@6?noext\",\n    };\n\n    function loadScript(lib) {\n      return new Promise(function(resolve, reject) {\n        var s = document.createElement('script');\n        s.src = paths[lib];\n        s.async = true;\n        s.onload = () => resolve(paths[lib]);\n        s.onerror = () => reject(`Error loading script: ${paths[lib]}`);\n        document.getElementsByTagName(\"head\")[0].appendChild(s);\n      });\n    }\n\n    function showError(err) {\n      outputDiv.innerHTML = `<div class=\"error\" style=\"color:red;\">${err}</div>`;\n      throw err;\n    }\n\n    function displayChart(vegaEmbed) {\n      vegaEmbed(outputDiv, spec, embedOpt)\n        .catch(err => showError(`Javascript Error: ${err.message}<br>This usually means there's a typo in your chart specification. See the javascript console for the full traceback.`));\n    }\n\n    if(typeof define === \"function\" && define.amd) {\n      requirejs.config({paths});\n      require([\"vega-embed\"], displayChart, err => showError(`Error loading script: ${err.message}`));\n    } else if (typeof vegaEmbed === \"function\") {\n      displayChart(vegaEmbed);\n    } else {\n      loadScript(\"vega\")\n        .then(() => loadScript(\"vega-lite\"))\n        .then(() => loadScript(\"vega-embed\"))\n        .catch(showError)\n        .then(() => displayChart(vegaEmbed));\n    }\n  })({\"config\": {\"view\": {\"continuousWidth\": 400, \"continuousHeight\": 300}}, \"data\": {\"name\": \"data-763b0ba34a3f2106a9e08edd943f3ee8\"}, \"mark\": {\"type\": \"point\", \"filled\": true, \"size\": 100}, \"encoding\": {\"color\": {\"type\": \"nominal\", \"field\": \"significant\", \"legend\": {\"title\": \"Significativity:\"}, \"scale\": {\"domain\": [\"Yes\", \"No\", \"Baseline\"], \"range\": [\"red\", \"grey\", \"black\"]}}, \"tooltip\": [{\"type\": \"nominal\", \"field\": \"Gene\"}, {\"type\": \"quantitative\", \"field\": \"beta\"}, {\"type\": \"quantitative\", \"field\": \"fdr\"}, {\"type\": \"nominal\", \"field\": \"significant\"}], \"x\": {\"type\": \"nominal\", \"field\": \"condition\", \"sort\": [\"J4\", \"J11\"]}, \"y\": {\"type\": \"quantitative\", \"field\": \"beta\"}}, \"title\": \"SE_42 beta versus baseline\", \"width\": 100, \"$schema\": \"https://vega.github.io/schema/vega-lite/v4.8.1.json\", \"datasets\": {\"data-763b0ba34a3f2106a9e08edd943f3ee8\": [{\"Gene\": \"SE_42\", \"fdr\": 0.0, \"beta\": 0.0, \"condition\": \"J4\", \"significant\": \"Baseline\"}, {\"Gene\": \"SE_42\", \"fdr\": 0.9867, \"beta\": 0.038271, \"condition\": \"J11\", \"significant\": \"No\"}]}}, {\"mode\": \"vega-lite\"});\n</script>",
          "text/plain": "alt.Chart(...)"
         },
         "metadata": {},
         "output_type": "display_data"
        }
       ]
      }
     },
     "036df583a91047f5a09130965922aa50": {
      "model_module": "@jupyter-widgets/controls",
      "model_module_version": "1.5.0",
      "model_name": "SliderStyleModel",
      "state": {
       "description_width": ""
      }
     },
     "038f1cc508c84040b08dfa6712d28831": {
      "model_module": "@jupyter-widgets/controls",
      "model_module_version": "1.5.0",
      "model_name": "FloatSliderModel",
      "state": {
       "description": "fdr",
       "layout": "IPY_MODEL_52187051229b44fd9a82245cbeb825c0",
       "max": 1,
       "step": 0.01,
       "style": "IPY_MODEL_c99190937b374637a4d7d6fd20e55078",
       "value": 0.05
      }
     },
     "067aa7feb7d647f4b502d855150dfaba": {
      "model_module": "@jupyter-widgets/base",
      "model_module_version": "1.2.0",
      "model_name": "LayoutModel",
      "state": {}
     },
     "06bd72d12dba43a79c87ee8821513628": {
      "model_module": "@jupyter-widgets/controls",
      "model_module_version": "1.5.0",
      "model_name": "DropdownModel",
      "state": {
       "_options_labels": [
        "J4"
       ],
       "description": "control",
       "index": 0,
       "layout": "IPY_MODEL_97cbd55aa74d4a3e95a7553a7660a1fe",
       "style": "IPY_MODEL_6394b725dab44398827d707ce6b6680c"
      }
     },
     "0a2cb2126be24e3bbb566ba84962459e": {
      "model_module": "@jupyter-widgets/controls",
      "model_module_version": "1.5.0",
      "model_name": "DropdownModel",
      "state": {
       "_options_labels": [
        "J4",
        "J11"
       ],
       "description": "conditions",
       "index": 0,
       "layout": "IPY_MODEL_99b9c4cdd05b45f3b69d5a3f22bd972a",
       "style": "IPY_MODEL_f2528d64efe440b195c923b8f7b2a3f5"
      }
     },
     "105f12c165d0480fb6184acb5b77852a": {
      "model_module": "@jupyter-widgets/base",
      "model_module_version": "1.2.0",
      "model_name": "LayoutModel",
      "state": {}
     },
     "11edb94871cd46cdbe6380020e471eea": {
      "model_module": "@jupyter-widgets/controls",
      "model_module_version": "1.5.0",
      "model_name": "TextModel",
      "state": {
       "description": "gene",
       "layout": "IPY_MODEL_8c3951ca164f41548f522d1a3ec9a103",
       "style": "IPY_MODEL_bf42fee0b2bf4705b5e13b967dd6d355",
       "value": "SE_42"
      }
     },
     "15bd87a75c7545ab9e0eb515a33c60ce": {
      "model_module": "@jupyter-widgets/controls",
      "model_module_version": "1.5.0",
      "model_name": "DescriptionStyleModel",
      "state": {
       "description_width": ""
      }
     },
     "1616cf5dc0554aacafffe3d251f94546": {
      "model_module": "@jupyter-widgets/controls",
      "model_module_version": "1.5.0",
      "model_name": "DescriptionStyleModel",
      "state": {
       "description_width": ""
      }
     },
     "19b920427c644632ac3960f04f0317cd": {
      "model_module": "@jupyter-widgets/base",
      "model_module_version": "1.2.0",
      "model_name": "LayoutModel",
      "state": {}
     },
     "1ac3d7b6df7b400e910aa851c9a4f8f5": {
      "model_module": "@jupyter-widgets/controls",
      "model_module_version": "1.5.0",
      "model_name": "SliderStyleModel",
      "state": {
       "description_width": ""
      }
     },
     "1bb12f5a5e8d44fa8e97553e664c5ca8": {
      "model_module": "@jupyter-widgets/base",
      "model_module_version": "1.2.0",
      "model_name": "LayoutModel",
      "state": {}
     },
     "1e4806631ac344a49ea8bc2d9f79999b": {
      "model_module": "@jupyter-widgets/base",
      "model_module_version": "1.2.0",
      "model_name": "LayoutModel",
      "state": {}
     },
     "221fd17bad7d49a08b3a91b6801c411f": {
      "model_module": "@jupyter-widgets/controls",
      "model_module_version": "1.5.0",
      "model_name": "FloatSliderModel",
      "state": {
       "description": "fdr",
       "layout": "IPY_MODEL_cc267865d0d741b8bb4f16b801d62b6f",
       "max": 1,
       "step": 0.01,
       "style": "IPY_MODEL_036df583a91047f5a09130965922aa50",
       "value": 0.05
      }
     },
     "2313e974098546f19832518445b70be7": {
      "model_module": "@jupyter-widgets/output",
      "model_module_version": "1.0.0",
      "model_name": "OutputModel",
      "state": {
       "layout": "IPY_MODEL_4372c4b3bc284d2bbc6a03fbf4fa5a13",
       "outputs": [
        {
         "data": {
          "text/html": "<div>\n<style scoped>\n    .dataframe tbody tr th:only-of-type {\n        vertical-align: middle;\n    }\n\n    .dataframe tbody tr th {\n        vertical-align: top;\n    }\n\n    .dataframe thead th {\n        text-align: right;\n    }\n</style>\n<table border=\"1\" class=\"dataframe\">\n  <thead>\n    <tr style=\"text-align: right;\">\n      <th></th>\n      <th>Gene</th>\n      <th>sgRNA</th>\n      <th>J4|beta</th>\n      <th>J4|fdr</th>\n      <th>J11|beta</th>\n      <th>J11|z</th>\n      <th>J11|p-value</th>\n      <th>J11|fdr</th>\n      <th>J11|wald-p-value</th>\n      <th>J11|wald-fdr</th>\n    </tr>\n  </thead>\n  <tbody>\n    <tr>\n      <th>0</th>\n      <td>SE_42</td>\n      <td>25</td>\n      <td>0</td>\n      <td>0</td>\n      <td>0.038271</td>\n      <td>0.63749</td>\n      <td>0.34945</td>\n      <td>0.98670</td>\n      <td>0.52381</td>\n      <td>0.99912</td>\n    </tr>\n    <tr>\n      <th>1</th>\n      <td>SE_444</td>\n      <td>15</td>\n      <td>0</td>\n      <td>0</td>\n      <td>-0.008261</td>\n      <td>-0.26299</td>\n      <td>0.73407</td>\n      <td>0.98670</td>\n      <td>0.79256</td>\n      <td>0.99912</td>\n    </tr>\n    <tr>\n      <th>2</th>\n      <td>SE_98</td>\n      <td>40</td>\n      <td>0</td>\n      <td>0</td>\n      <td>0.044283</td>\n      <td>1.17600</td>\n      <td>0.14066</td>\n      <td>0.87671</td>\n      <td>0.23959</td>\n      <td>0.99912</td>\n    </tr>\n    <tr>\n      <th>3</th>\n      <td>SE_119</td>\n      <td>10</td>\n      <td>0</td>\n      <td>0</td>\n      <td>-0.001180</td>\n      <td>-0.01271</td>\n      <td>0.82857</td>\n      <td>0.98670</td>\n      <td>0.98986</td>\n      <td>0.99912</td>\n    </tr>\n    <tr>\n      <th>4</th>\n      <td>SE_27</td>\n      <td>25</td>\n      <td>0</td>\n      <td>0</td>\n      <td>-0.011796</td>\n      <td>-0.26087</td>\n      <td>0.53846</td>\n      <td>0.98670</td>\n      <td>0.79419</td>\n      <td>0.99912</td>\n    </tr>\n    <tr>\n      <th>...</th>\n      <td>...</td>\n      <td>...</td>\n      <td>...</td>\n      <td>...</td>\n      <td>...</td>\n      <td>...</td>\n      <td>...</td>\n      <td>...</td>\n      <td>...</td>\n      <td>...</td>\n    </tr>\n    <tr>\n      <th>450</th>\n      <td>Ren</td>\n      <td>1</td>\n      <td>0</td>\n      <td>0</td>\n      <td>0.124160</td>\n      <td>0.53281</td>\n      <td>0.36923</td>\n      <td>0.98670</td>\n      <td>0.59417</td>\n      <td>0.99912</td>\n    </tr>\n    <tr>\n      <th>451</th>\n      <td>Luc</td>\n      <td>1</td>\n      <td>0</td>\n      <td>0</td>\n      <td>0.126300</td>\n      <td>0.93761</td>\n      <td>0.36703</td>\n      <td>0.98670</td>\n      <td>0.34845</td>\n      <td>0.99912</td>\n    </tr>\n    <tr>\n      <th>452</th>\n      <td>POLR2B</td>\n      <td>9</td>\n      <td>0</td>\n      <td>0</td>\n      <td>-0.037595</td>\n      <td>-1.16040</td>\n      <td>0.36484</td>\n      <td>0.98670</td>\n      <td>0.24590</td>\n      <td>0.99912</td>\n    </tr>\n    <tr>\n      <th>453</th>\n      <td>TCONS_00187041</td>\n      <td>5</td>\n      <td>0</td>\n      <td>0</td>\n      <td>-0.040296</td>\n      <td>-0.57195</td>\n      <td>0.50989</td>\n      <td>0.98670</td>\n      <td>0.56735</td>\n      <td>0.99912</td>\n    </tr>\n    <tr>\n      <th>454</th>\n      <td>GFP</td>\n      <td>1</td>\n      <td>0</td>\n      <td>0</td>\n      <td>0.023723</td>\n      <td>0.19969</td>\n      <td>0.83736</td>\n      <td>0.98670</td>\n      <td>0.84172</td>\n      <td>0.99912</td>\n    </tr>\n  </tbody>\n</table>\n<p>455 rows × 10 columns</p>\n</div>",
          "text/plain": "               Gene  sgRNA  J4|beta  J4|fdr  J11|beta    J11|z  J11|p-value  \\\n0             SE_42     25        0       0  0.038271  0.63749      0.34945   \n1            SE_444     15        0       0 -0.008261 -0.26299      0.73407   \n2             SE_98     40        0       0  0.044283  1.17600      0.14066   \n3            SE_119     10        0       0 -0.001180 -0.01271      0.82857   \n4             SE_27     25        0       0 -0.011796 -0.26087      0.53846   \n..              ...    ...      ...     ...       ...      ...          ...   \n450             Ren      1        0       0  0.124160  0.53281      0.36923   \n451             Luc      1        0       0  0.126300  0.93761      0.36703   \n452          POLR2B      9        0       0 -0.037595 -1.16040      0.36484   \n453  TCONS_00187041      5        0       0 -0.040296 -0.57195      0.50989   \n454             GFP      1        0       0  0.023723  0.19969      0.83736   \n\n     J11|fdr  J11|wald-p-value  J11|wald-fdr  \n0    0.98670           0.52381       0.99912  \n1    0.98670           0.79256       0.99912  \n2    0.87671           0.23959       0.99912  \n3    0.98670           0.98986       0.99912  \n4    0.98670           0.79419       0.99912  \n..       ...               ...           ...  \n450  0.98670           0.59417       0.99912  \n451  0.98670           0.34845       0.99912  \n452  0.98670           0.24590       0.99912  \n453  0.98670           0.56735       0.99912  \n454  0.98670           0.84172       0.99912  \n\n[455 rows x 10 columns]"
         },
         "metadata": {},
         "output_type": "display_data"
        }
       ]
      }
     },
     "271ecf86ddba4706a89766411487e561": {
      "model_module": "@jupyter-widgets/base",
      "model_module_version": "1.2.0",
      "model_name": "LayoutModel",
      "state": {}
     },
     "29ef505451da43b28dfb4275126061c5": {
      "model_module": "@jupyter-widgets/base",
      "model_module_version": "1.2.0",
      "model_name": "LayoutModel",
      "state": {}
     },
     "3061ae4b7897452581ff4806b10d7015": {
      "model_module": "@jupyter-widgets/controls",
      "model_module_version": "1.5.0",
      "model_name": "DropdownModel",
      "state": {
       "_options_labels": [
        "J4",
        "J11"
       ],
       "description": "conditions",
       "index": 0,
       "layout": "IPY_MODEL_560bad4fc9684025b9c8a70aafd62c0e",
       "style": "IPY_MODEL_ecc5a72667d443028466feb6e3c99179"
      }
     },
     "3186972701744ac39d11979f222fe041": {
      "model_module": "@jupyter-widgets/controls",
      "model_module_version": "1.5.0",
      "model_name": "DescriptionStyleModel",
      "state": {
       "description_width": ""
      }
     },
     "3a24321dae79466bb121d6e095ac0005": {
      "model_module": "@jupyter-widgets/base",
      "model_module_version": "1.2.0",
      "model_name": "LayoutModel",
      "state": {}
     },
     "3ad250f0bee04de6bfbdb854ea827fc8": {
      "model_module": "@jupyter-widgets/controls",
      "model_module_version": "1.5.0",
      "model_name": "DescriptionStyleModel",
      "state": {
       "description_width": ""
      }
     },
     "415d35f1257e461688e6a38753e0ae39": {
      "model_module": "@jupyter-widgets/controls",
      "model_module_version": "1.5.0",
      "model_name": "DropdownModel",
      "state": {
       "_options_labels": [
        "J4"
       ],
       "description": "control",
       "index": 0,
       "layout": "IPY_MODEL_ffda3971205e404981185353dd4648fb",
       "style": "IPY_MODEL_dad06e25a4cc47ceb7ff99ddbf03cfee"
      }
     },
     "41ee3523fe484046beee62422b72fc0d": {
      "model_module": "@jupyter-widgets/controls",
      "model_module_version": "1.5.0",
      "model_name": "SliderStyleModel",
      "state": {
       "description_width": ""
      }
     },
     "4372c4b3bc284d2bbc6a03fbf4fa5a13": {
      "model_module": "@jupyter-widgets/base",
      "model_module_version": "1.2.0",
      "model_name": "LayoutModel",
      "state": {}
     },
     "4721c780a62e4ffa90384fed9a67ebe1": {
      "model_module": "@jupyter-widgets/base",
      "model_module_version": "1.2.0",
      "model_name": "LayoutModel",
      "state": {}
     },
     "4a9bc3d5328b4b96a45d62464512de0b": {
      "model_module": "@jupyter-widgets/controls",
      "model_module_version": "1.5.0",
      "model_name": "DropdownModel",
      "state": {
       "_options_labels": [
        "J4",
        "J11"
       ],
       "description": "conditions",
       "index": 0,
       "layout": "IPY_MODEL_c95dfc1dcaf8406287a92b6f68f07ff1",
       "style": "IPY_MODEL_b24aefc1a4964ffc941c3c671f7a6f56"
      }
     },
     "4b661806db0d46ea83254d9eda1b4c76": {
      "model_module": "@jupyter-widgets/output",
      "model_module_version": "1.0.0",
      "model_name": "OutputModel",
      "state": {
       "layout": "IPY_MODEL_00a30f953752400e9b4e7cce02d4a3f5",
       "outputs": [
        {
         "data": {
          "text/html": "<div>\n<style scoped>\n    .dataframe tbody tr th:only-of-type {\n        vertical-align: middle;\n    }\n\n    .dataframe tbody tr th {\n        vertical-align: top;\n    }\n\n    .dataframe thead th {\n        text-align: right;\n    }\n</style>\n<table border=\"1\" class=\"dataframe\">\n  <thead>\n    <tr style=\"text-align: right;\">\n      <th></th>\n      <th>Gene</th>\n      <th>sgRNA</th>\n      <th>J4|beta</th>\n      <th>J4|fdr</th>\n      <th>J11|beta</th>\n      <th>J11|z</th>\n      <th>J11|p-value</th>\n      <th>J11|fdr</th>\n      <th>J11|wald-p-value</th>\n      <th>J11|wald-fdr</th>\n    </tr>\n  </thead>\n  <tbody>\n    <tr>\n      <th>0</th>\n      <td>SE_42</td>\n      <td>25</td>\n      <td>0</td>\n      <td>0</td>\n      <td>0.038271</td>\n      <td>0.63749</td>\n      <td>0.34945</td>\n      <td>0.98670</td>\n      <td>0.52381</td>\n      <td>0.99912</td>\n    </tr>\n    <tr>\n      <th>1</th>\n      <td>SE_444</td>\n      <td>15</td>\n      <td>0</td>\n      <td>0</td>\n      <td>-0.008261</td>\n      <td>-0.26299</td>\n      <td>0.73407</td>\n      <td>0.98670</td>\n      <td>0.79256</td>\n      <td>0.99912</td>\n    </tr>\n    <tr>\n      <th>2</th>\n      <td>SE_98</td>\n      <td>40</td>\n      <td>0</td>\n      <td>0</td>\n      <td>0.044283</td>\n      <td>1.17600</td>\n      <td>0.14066</td>\n      <td>0.87671</td>\n      <td>0.23959</td>\n      <td>0.99912</td>\n    </tr>\n    <tr>\n      <th>3</th>\n      <td>SE_119</td>\n      <td>10</td>\n      <td>0</td>\n      <td>0</td>\n      <td>-0.001180</td>\n      <td>-0.01271</td>\n      <td>0.82857</td>\n      <td>0.98670</td>\n      <td>0.98986</td>\n      <td>0.99912</td>\n    </tr>\n    <tr>\n      <th>4</th>\n      <td>SE_27</td>\n      <td>25</td>\n      <td>0</td>\n      <td>0</td>\n      <td>-0.011796</td>\n      <td>-0.26087</td>\n      <td>0.53846</td>\n      <td>0.98670</td>\n      <td>0.79419</td>\n      <td>0.99912</td>\n    </tr>\n    <tr>\n      <th>...</th>\n      <td>...</td>\n      <td>...</td>\n      <td>...</td>\n      <td>...</td>\n      <td>...</td>\n      <td>...</td>\n      <td>...</td>\n      <td>...</td>\n      <td>...</td>\n      <td>...</td>\n    </tr>\n    <tr>\n      <th>450</th>\n      <td>Ren</td>\n      <td>1</td>\n      <td>0</td>\n      <td>0</td>\n      <td>0.124160</td>\n      <td>0.53281</td>\n      <td>0.36923</td>\n      <td>0.98670</td>\n      <td>0.59417</td>\n      <td>0.99912</td>\n    </tr>\n    <tr>\n      <th>451</th>\n      <td>Luc</td>\n      <td>1</td>\n      <td>0</td>\n      <td>0</td>\n      <td>0.126300</td>\n      <td>0.93761</td>\n      <td>0.36703</td>\n      <td>0.98670</td>\n      <td>0.34845</td>\n      <td>0.99912</td>\n    </tr>\n    <tr>\n      <th>452</th>\n      <td>POLR2B</td>\n      <td>9</td>\n      <td>0</td>\n      <td>0</td>\n      <td>-0.037595</td>\n      <td>-1.16040</td>\n      <td>0.36484</td>\n      <td>0.98670</td>\n      <td>0.24590</td>\n      <td>0.99912</td>\n    </tr>\n    <tr>\n      <th>453</th>\n      <td>TCONS_00187041</td>\n      <td>5</td>\n      <td>0</td>\n      <td>0</td>\n      <td>-0.040296</td>\n      <td>-0.57195</td>\n      <td>0.50989</td>\n      <td>0.98670</td>\n      <td>0.56735</td>\n      <td>0.99912</td>\n    </tr>\n    <tr>\n      <th>454</th>\n      <td>GFP</td>\n      <td>1</td>\n      <td>0</td>\n      <td>0</td>\n      <td>0.023723</td>\n      <td>0.19969</td>\n      <td>0.83736</td>\n      <td>0.98670</td>\n      <td>0.84172</td>\n      <td>0.99912</td>\n    </tr>\n  </tbody>\n</table>\n<p>455 rows × 10 columns</p>\n</div>",
          "text/plain": "               Gene  sgRNA  J4|beta  J4|fdr  J11|beta    J11|z  J11|p-value  \\\n0             SE_42     25        0       0  0.038271  0.63749      0.34945   \n1            SE_444     15        0       0 -0.008261 -0.26299      0.73407   \n2             SE_98     40        0       0  0.044283  1.17600      0.14066   \n3            SE_119     10        0       0 -0.001180 -0.01271      0.82857   \n4             SE_27     25        0       0 -0.011796 -0.26087      0.53846   \n..              ...    ...      ...     ...       ...      ...          ...   \n450             Ren      1        0       0  0.124160  0.53281      0.36923   \n451             Luc      1        0       0  0.126300  0.93761      0.36703   \n452          POLR2B      9        0       0 -0.037595 -1.16040      0.36484   \n453  TCONS_00187041      5        0       0 -0.040296 -0.57195      0.50989   \n454             GFP      1        0       0  0.023723  0.19969      0.83736   \n\n     J11|fdr  J11|wald-p-value  J11|wald-fdr  \n0    0.98670           0.52381       0.99912  \n1    0.98670           0.79256       0.99912  \n2    0.87671           0.23959       0.99912  \n3    0.98670           0.98986       0.99912  \n4    0.98670           0.79419       0.99912  \n..       ...               ...           ...  \n450  0.98670           0.59417       0.99912  \n451  0.98670           0.34845       0.99912  \n452  0.98670           0.24590       0.99912  \n453  0.98670           0.56735       0.99912  \n454  0.98670           0.84172       0.99912  \n\n[455 rows x 10 columns]"
         },
         "metadata": {},
         "output_type": "display_data"
        }
       ]
      }
     },
     "4eb73a1d68e642d0b9d6532542d1f3cd": {
      "model_module": "@jupyter-widgets/base",
      "model_module_version": "1.2.0",
      "model_name": "LayoutModel",
      "state": {}
     },
     "4efb6cb81ef948ac843601962bc09ab9": {
      "model_module": "@jupyter-widgets/base",
      "model_module_version": "1.2.0",
      "model_name": "LayoutModel",
      "state": {}
     },
     "52187051229b44fd9a82245cbeb825c0": {
      "model_module": "@jupyter-widgets/base",
      "model_module_version": "1.2.0",
      "model_name": "LayoutModel",
      "state": {}
     },
     "54521cefd3b74fea928ecf85a107dc63": {
      "model_module": "@jupyter-widgets/controls",
      "model_module_version": "1.5.0",
      "model_name": "FloatSliderModel",
      "state": {
       "description": "fdr",
       "layout": "IPY_MODEL_8a417d21e58c4b088dda51113be57710",
       "max": 1,
       "step": 0.01,
       "style": "IPY_MODEL_80be4f7e4bdd45e5897b78206e35709a",
       "value": 0.05
      }
     },
     "560bad4fc9684025b9c8a70aafd62c0e": {
      "model_module": "@jupyter-widgets/base",
      "model_module_version": "1.2.0",
      "model_name": "LayoutModel",
      "state": {}
     },
     "58093deebb9643e2849820a5a5c145e5": {
      "model_module": "@jupyter-widgets/base",
      "model_module_version": "1.2.0",
      "model_name": "LayoutModel",
      "state": {}
     },
     "5b0f2e9200614df3830c1d508a5299bd": {
      "model_module": "@jupyter-widgets/base",
      "model_module_version": "1.2.0",
      "model_name": "LayoutModel",
      "state": {}
     },
     "5c5bb574137549f99d5a4a5ac64a46c5": {
      "model_module": "@jupyter-widgets/controls",
      "model_module_version": "1.5.0",
      "model_name": "TextModel",
      "state": {
       "description": "gene",
       "layout": "IPY_MODEL_abde330b16ee49919499b8be81d45f1f",
       "style": "IPY_MODEL_d745262e3b8d495a848c89853f245098",
       "value": "SE_42"
      }
     },
     "5c9212ca52a9433eb4cdb7b906c4c165": {
      "model_module": "@jupyter-widgets/base",
      "model_module_version": "1.2.0",
      "model_name": "LayoutModel",
      "state": {}
     },
     "5f188e30ef9b4045802dd31ed1b75b24": {
      "model_module": "@jupyter-widgets/output",
      "model_module_version": "1.0.0",
      "model_name": "OutputModel",
      "state": {
       "layout": "IPY_MODEL_4721c780a62e4ffa90384fed9a67ebe1",
       "outputs": [
        {
         "name": "stdout",
         "output_type": "stream",
         "text": "\nTable's fdr cutoff for given condition:\n"
        },
        {
         "data": {
          "application/vnd.jupyter.widget-view+json": {
           "model_id": "f1421f14e1cb42c592277350e433528c",
           "version_major": 2,
           "version_minor": 0
          },
          "text/plain": "interactive(children=(FloatSlider(value=0.05, description='fdr', max=1.0, step=0.01), Dropdown(description='co…"
         },
         "metadata": {},
         "output_type": "display_data"
        },
        {
         "data": {
          "text/html": "\n<div id=\"altair-viz-9662b70e7be145e1993ee9f92e908457\"></div>\n<script type=\"text/javascript\">\n  (function(spec, embedOpt){\n    let outputDiv = document.currentScript.previousElementSibling;\n    if (outputDiv.id !== \"altair-viz-9662b70e7be145e1993ee9f92e908457\") {\n      outputDiv = document.getElementById(\"altair-viz-9662b70e7be145e1993ee9f92e908457\");\n    }\n    const paths = {\n      \"vega\": \"https://cdn.jsdelivr.net/npm//vega@5?noext\",\n      \"vega-lib\": \"https://cdn.jsdelivr.net/npm//vega-lib?noext\",\n      \"vega-lite\": \"https://cdn.jsdelivr.net/npm//vega-lite@4.8.1?noext\",\n      \"vega-embed\": \"https://cdn.jsdelivr.net/npm//vega-embed@6?noext\",\n    };\n\n    function loadScript(lib) {\n      return new Promise(function(resolve, reject) {\n        var s = document.createElement('script');\n        s.src = paths[lib];\n        s.async = true;\n        s.onload = () => resolve(paths[lib]);\n        s.onerror = () => reject(`Error loading script: ${paths[lib]}`);\n        document.getElementsByTagName(\"head\")[0].appendChild(s);\n      });\n    }\n\n    function showError(err) {\n      outputDiv.innerHTML = `<div class=\"error\" style=\"color:red;\">${err}</div>`;\n      throw err;\n    }\n\n    function displayChart(vegaEmbed) {\n      vegaEmbed(outputDiv, spec, embedOpt)\n        .catch(err => showError(`Javascript Error: ${err.message}<br>This usually means there's a typo in your chart specification. See the javascript console for the full traceback.`));\n    }\n\n    if(typeof define === \"function\" && define.amd) {\n      requirejs.config({paths});\n      require([\"vega-embed\"], displayChart, err => showError(`Error loading script: ${err.message}`));\n    } else if (typeof vegaEmbed === \"function\") {\n      displayChart(vegaEmbed);\n    } else {\n      loadScript(\"vega\")\n        .then(() => loadScript(\"vega-lite\"))\n        .then(() => loadScript(\"vega-embed\"))\n        .catch(showError)\n        .then(() => displayChart(vegaEmbed));\n    }\n  })({\"config\": {\"view\": {\"continuousWidth\": 400, \"continuousHeight\": 300}}, \"data\": {\"name\": \"data-763b0ba34a3f2106a9e08edd943f3ee8\"}, \"mark\": {\"type\": \"point\", \"filled\": true, \"size\": 100}, \"encoding\": {\"color\": {\"type\": \"nominal\", \"field\": \"significant\", \"legend\": {\"title\": \"Significativity:\"}, \"scale\": {\"domain\": [\"Yes\", \"No\", \"Baseline\"], \"range\": [\"red\", \"grey\", \"black\"]}}, \"tooltip\": [{\"type\": \"nominal\", \"field\": \"Gene\"}, {\"type\": \"quantitative\", \"field\": \"beta\"}, {\"type\": \"quantitative\", \"field\": \"fdr\"}, {\"type\": \"nominal\", \"field\": \"significant\"}], \"x\": {\"type\": \"nominal\", \"field\": \"condition\", \"sort\": [\"J4\", \"J11\"]}, \"y\": {\"type\": \"quantitative\", \"field\": \"beta\"}}, \"title\": \"SE_42 beta versus baseline\", \"width\": 100, \"$schema\": \"https://vega.github.io/schema/vega-lite/v4.8.1.json\", \"datasets\": {\"data-763b0ba34a3f2106a9e08edd943f3ee8\": [{\"Gene\": \"SE_42\", \"fdr\": 0.0, \"beta\": 0.0, \"condition\": \"J4\", \"significant\": \"Baseline\"}, {\"Gene\": \"SE_42\", \"fdr\": 0.9867, \"beta\": 0.038271, \"condition\": \"J11\", \"significant\": \"No\"}]}}, {\"mode\": \"vega-lite\"});\n</script>",
          "text/plain": "alt.Chart(...)"
         },
         "metadata": {},
         "output_type": "display_data"
        }
       ]
      }
     },
     "61ae0910ccd4444e9f6f102f6071c170": {
      "model_module": "@jupyter-widgets/output",
      "model_module_version": "1.0.0",
      "model_name": "OutputModel",
      "state": {
       "layout": "IPY_MODEL_5b0f2e9200614df3830c1d508a5299bd",
       "outputs": [
        {
         "data": {
          "text/html": "<div>\n<style scoped>\n    .dataframe tbody tr th:only-of-type {\n        vertical-align: middle;\n    }\n\n    .dataframe tbody tr th {\n        vertical-align: top;\n    }\n\n    .dataframe thead th {\n        text-align: right;\n    }\n</style>\n<table border=\"1\" class=\"dataframe\">\n  <thead>\n    <tr style=\"text-align: right;\">\n      <th></th>\n      <th>Gene</th>\n      <th>sgRNA</th>\n      <th>J4|beta</th>\n      <th>J4|fdr</th>\n      <th>J11|beta</th>\n      <th>J11|z</th>\n      <th>J11|p-value</th>\n      <th>J11|fdr</th>\n      <th>J11|wald-p-value</th>\n      <th>J11|wald-fdr</th>\n    </tr>\n  </thead>\n  <tbody>\n    <tr>\n      <th>0</th>\n      <td>SE_42</td>\n      <td>25</td>\n      <td>0</td>\n      <td>0</td>\n      <td>0.038271</td>\n      <td>0.63749</td>\n      <td>0.34945</td>\n      <td>0.98670</td>\n      <td>0.52381</td>\n      <td>0.99912</td>\n    </tr>\n    <tr>\n      <th>1</th>\n      <td>SE_444</td>\n      <td>15</td>\n      <td>0</td>\n      <td>0</td>\n      <td>-0.008261</td>\n      <td>-0.26299</td>\n      <td>0.73407</td>\n      <td>0.98670</td>\n      <td>0.79256</td>\n      <td>0.99912</td>\n    </tr>\n    <tr>\n      <th>2</th>\n      <td>SE_98</td>\n      <td>40</td>\n      <td>0</td>\n      <td>0</td>\n      <td>0.044283</td>\n      <td>1.17600</td>\n      <td>0.14066</td>\n      <td>0.87671</td>\n      <td>0.23959</td>\n      <td>0.99912</td>\n    </tr>\n    <tr>\n      <th>3</th>\n      <td>SE_119</td>\n      <td>10</td>\n      <td>0</td>\n      <td>0</td>\n      <td>-0.001180</td>\n      <td>-0.01271</td>\n      <td>0.82857</td>\n      <td>0.98670</td>\n      <td>0.98986</td>\n      <td>0.99912</td>\n    </tr>\n    <tr>\n      <th>4</th>\n      <td>SE_27</td>\n      <td>25</td>\n      <td>0</td>\n      <td>0</td>\n      <td>-0.011796</td>\n      <td>-0.26087</td>\n      <td>0.53846</td>\n      <td>0.98670</td>\n      <td>0.79419</td>\n      <td>0.99912</td>\n    </tr>\n    <tr>\n      <th>...</th>\n      <td>...</td>\n      <td>...</td>\n      <td>...</td>\n      <td>...</td>\n      <td>...</td>\n      <td>...</td>\n      <td>...</td>\n      <td>...</td>\n      <td>...</td>\n      <td>...</td>\n    </tr>\n    <tr>\n      <th>450</th>\n      <td>Ren</td>\n      <td>1</td>\n      <td>0</td>\n      <td>0</td>\n      <td>0.124160</td>\n      <td>0.53281</td>\n      <td>0.36923</td>\n      <td>0.98670</td>\n      <td>0.59417</td>\n      <td>0.99912</td>\n    </tr>\n    <tr>\n      <th>451</th>\n      <td>Luc</td>\n      <td>1</td>\n      <td>0</td>\n      <td>0</td>\n      <td>0.126300</td>\n      <td>0.93761</td>\n      <td>0.36703</td>\n      <td>0.98670</td>\n      <td>0.34845</td>\n      <td>0.99912</td>\n    </tr>\n    <tr>\n      <th>452</th>\n      <td>POLR2B</td>\n      <td>9</td>\n      <td>0</td>\n      <td>0</td>\n      <td>-0.037595</td>\n      <td>-1.16040</td>\n      <td>0.36484</td>\n      <td>0.98670</td>\n      <td>0.24590</td>\n      <td>0.99912</td>\n    </tr>\n    <tr>\n      <th>453</th>\n      <td>TCONS_00187041</td>\n      <td>5</td>\n      <td>0</td>\n      <td>0</td>\n      <td>-0.040296</td>\n      <td>-0.57195</td>\n      <td>0.50989</td>\n      <td>0.98670</td>\n      <td>0.56735</td>\n      <td>0.99912</td>\n    </tr>\n    <tr>\n      <th>454</th>\n      <td>GFP</td>\n      <td>1</td>\n      <td>0</td>\n      <td>0</td>\n      <td>0.023723</td>\n      <td>0.19969</td>\n      <td>0.83736</td>\n      <td>0.98670</td>\n      <td>0.84172</td>\n      <td>0.99912</td>\n    </tr>\n  </tbody>\n</table>\n<p>455 rows × 10 columns</p>\n</div>",
          "text/plain": "               Gene  sgRNA  J4|beta  J4|fdr  J11|beta    J11|z  J11|p-value  \\\n0             SE_42     25        0       0  0.038271  0.63749      0.34945   \n1            SE_444     15        0       0 -0.008261 -0.26299      0.73407   \n2             SE_98     40        0       0  0.044283  1.17600      0.14066   \n3            SE_119     10        0       0 -0.001180 -0.01271      0.82857   \n4             SE_27     25        0       0 -0.011796 -0.26087      0.53846   \n..              ...    ...      ...     ...       ...      ...          ...   \n450             Ren      1        0       0  0.124160  0.53281      0.36923   \n451             Luc      1        0       0  0.126300  0.93761      0.36703   \n452          POLR2B      9        0       0 -0.037595 -1.16040      0.36484   \n453  TCONS_00187041      5        0       0 -0.040296 -0.57195      0.50989   \n454             GFP      1        0       0  0.023723  0.19969      0.83736   \n\n     J11|fdr  J11|wald-p-value  J11|wald-fdr  \n0    0.98670           0.52381       0.99912  \n1    0.98670           0.79256       0.99912  \n2    0.87671           0.23959       0.99912  \n3    0.98670           0.98986       0.99912  \n4    0.98670           0.79419       0.99912  \n..       ...               ...           ...  \n450  0.98670           0.59417       0.99912  \n451  0.98670           0.34845       0.99912  \n452  0.98670           0.24590       0.99912  \n453  0.98670           0.56735       0.99912  \n454  0.98670           0.84172       0.99912  \n\n[455 rows x 10 columns]"
         },
         "metadata": {},
         "output_type": "display_data"
        }
       ]
      }
     },
     "62a2c28aeecb4c1899a3370aeee40a9e": {
      "model_module": "@jupyter-widgets/controls",
      "model_module_version": "1.5.0",
      "model_name": "VBoxModel",
      "state": {
       "_dom_classes": [
        "widget-interact"
       ],
       "children": [
        "IPY_MODEL_8de88933257846e0ac62db36236a6af3",
        "IPY_MODEL_54521cefd3b74fea928ecf85a107dc63",
        "IPY_MODEL_f16ba24716a64c1aa7ef2d769024d18a",
        "IPY_MODEL_b0f8d86f446c441283d1086c6c0c4ecf"
       ],
       "layout": "IPY_MODEL_1e4806631ac344a49ea8bc2d9f79999b"
      }
     },
     "62bbf3f7ee6345fe9c178978a0d0a289": {
      "model_module": "@jupyter-widgets/base",
      "model_module_version": "1.2.0",
      "model_name": "LayoutModel",
      "state": {}
     },
     "637aca77c679482fa3b9c102287bc220": {
      "model_module": "@jupyter-widgets/base",
      "model_module_version": "1.2.0",
      "model_name": "LayoutModel",
      "state": {}
     },
     "6394b725dab44398827d707ce6b6680c": {
      "model_module": "@jupyter-widgets/controls",
      "model_module_version": "1.5.0",
      "model_name": "DescriptionStyleModel",
      "state": {
       "description_width": ""
      }
     },
     "669f5148440143a0b02f6dbab9034363": {
      "model_module": "@jupyter-widgets/output",
      "model_module_version": "1.0.0",
      "model_name": "OutputModel",
      "state": {
       "layout": "IPY_MODEL_7a7f503ebf93481dab27ebb98a929943",
       "outputs": [
        {
         "data": {
          "text/html": "<div>\n<style scoped>\n    .dataframe tbody tr th:only-of-type {\n        vertical-align: middle;\n    }\n\n    .dataframe tbody tr th {\n        vertical-align: top;\n    }\n\n    .dataframe thead th {\n        text-align: right;\n    }\n</style>\n<table border=\"1\" class=\"dataframe\">\n  <thead>\n    <tr style=\"text-align: right;\">\n      <th></th>\n      <th>Gene</th>\n      <th>sgRNA</th>\n      <th>J4|beta</th>\n      <th>J4|fdr</th>\n      <th>J11|beta</th>\n      <th>J11|z</th>\n      <th>J11|p-value</th>\n      <th>J11|fdr</th>\n      <th>J11|wald-p-value</th>\n      <th>J11|wald-fdr</th>\n    </tr>\n  </thead>\n  <tbody>\n    <tr>\n      <th>0</th>\n      <td>SE_42</td>\n      <td>25</td>\n      <td>0</td>\n      <td>0</td>\n      <td>0.038271</td>\n      <td>0.63749</td>\n      <td>0.34945</td>\n      <td>0.98670</td>\n      <td>0.52381</td>\n      <td>0.99912</td>\n    </tr>\n    <tr>\n      <th>1</th>\n      <td>SE_444</td>\n      <td>15</td>\n      <td>0</td>\n      <td>0</td>\n      <td>-0.008261</td>\n      <td>-0.26299</td>\n      <td>0.73407</td>\n      <td>0.98670</td>\n      <td>0.79256</td>\n      <td>0.99912</td>\n    </tr>\n    <tr>\n      <th>2</th>\n      <td>SE_98</td>\n      <td>40</td>\n      <td>0</td>\n      <td>0</td>\n      <td>0.044283</td>\n      <td>1.17600</td>\n      <td>0.14066</td>\n      <td>0.87671</td>\n      <td>0.23959</td>\n      <td>0.99912</td>\n    </tr>\n    <tr>\n      <th>3</th>\n      <td>SE_119</td>\n      <td>10</td>\n      <td>0</td>\n      <td>0</td>\n      <td>-0.001180</td>\n      <td>-0.01271</td>\n      <td>0.82857</td>\n      <td>0.98670</td>\n      <td>0.98986</td>\n      <td>0.99912</td>\n    </tr>\n    <tr>\n      <th>4</th>\n      <td>SE_27</td>\n      <td>25</td>\n      <td>0</td>\n      <td>0</td>\n      <td>-0.011796</td>\n      <td>-0.26087</td>\n      <td>0.53846</td>\n      <td>0.98670</td>\n      <td>0.79419</td>\n      <td>0.99912</td>\n    </tr>\n    <tr>\n      <th>...</th>\n      <td>...</td>\n      <td>...</td>\n      <td>...</td>\n      <td>...</td>\n      <td>...</td>\n      <td>...</td>\n      <td>...</td>\n      <td>...</td>\n      <td>...</td>\n      <td>...</td>\n    </tr>\n    <tr>\n      <th>450</th>\n      <td>Ren</td>\n      <td>1</td>\n      <td>0</td>\n      <td>0</td>\n      <td>0.124160</td>\n      <td>0.53281</td>\n      <td>0.36923</td>\n      <td>0.98670</td>\n      <td>0.59417</td>\n      <td>0.99912</td>\n    </tr>\n    <tr>\n      <th>451</th>\n      <td>Luc</td>\n      <td>1</td>\n      <td>0</td>\n      <td>0</td>\n      <td>0.126300</td>\n      <td>0.93761</td>\n      <td>0.36703</td>\n      <td>0.98670</td>\n      <td>0.34845</td>\n      <td>0.99912</td>\n    </tr>\n    <tr>\n      <th>452</th>\n      <td>POLR2B</td>\n      <td>9</td>\n      <td>0</td>\n      <td>0</td>\n      <td>-0.037595</td>\n      <td>-1.16040</td>\n      <td>0.36484</td>\n      <td>0.98670</td>\n      <td>0.24590</td>\n      <td>0.99912</td>\n    </tr>\n    <tr>\n      <th>453</th>\n      <td>TCONS_00187041</td>\n      <td>5</td>\n      <td>0</td>\n      <td>0</td>\n      <td>-0.040296</td>\n      <td>-0.57195</td>\n      <td>0.50989</td>\n      <td>0.98670</td>\n      <td>0.56735</td>\n      <td>0.99912</td>\n    </tr>\n    <tr>\n      <th>454</th>\n      <td>GFP</td>\n      <td>1</td>\n      <td>0</td>\n      <td>0</td>\n      <td>0.023723</td>\n      <td>0.19969</td>\n      <td>0.83736</td>\n      <td>0.98670</td>\n      <td>0.84172</td>\n      <td>0.99912</td>\n    </tr>\n  </tbody>\n</table>\n<p>455 rows × 10 columns</p>\n</div>",
          "text/plain": "               Gene  sgRNA  J4|beta  J4|fdr  J11|beta    J11|z  J11|p-value  \\\n0             SE_42     25        0       0  0.038271  0.63749      0.34945   \n1            SE_444     15        0       0 -0.008261 -0.26299      0.73407   \n2             SE_98     40        0       0  0.044283  1.17600      0.14066   \n3            SE_119     10        0       0 -0.001180 -0.01271      0.82857   \n4             SE_27     25        0       0 -0.011796 -0.26087      0.53846   \n..              ...    ...      ...     ...       ...      ...          ...   \n450             Ren      1        0       0  0.124160  0.53281      0.36923   \n451             Luc      1        0       0  0.126300  0.93761      0.36703   \n452          POLR2B      9        0       0 -0.037595 -1.16040      0.36484   \n453  TCONS_00187041      5        0       0 -0.040296 -0.57195      0.50989   \n454             GFP      1        0       0  0.023723  0.19969      0.83736   \n\n     J11|fdr  J11|wald-p-value  J11|wald-fdr  \n0    0.98670           0.52381       0.99912  \n1    0.98670           0.79256       0.99912  \n2    0.87671           0.23959       0.99912  \n3    0.98670           0.98986       0.99912  \n4    0.98670           0.79419       0.99912  \n..       ...               ...           ...  \n450  0.98670           0.59417       0.99912  \n451  0.98670           0.34845       0.99912  \n452  0.98670           0.24590       0.99912  \n453  0.98670           0.56735       0.99912  \n454  0.98670           0.84172       0.99912  \n\n[455 rows x 10 columns]"
         },
         "metadata": {},
         "output_type": "display_data"
        }
       ]
      }
     },
     "6bb49030491a44cbab88631f88610abf": {
      "model_module": "@jupyter-widgets/base",
      "model_module_version": "1.2.0",
      "model_name": "LayoutModel",
      "state": {}
     },
     "7209cebe9f304b2b888adb7bc1822812": {
      "model_module": "@jupyter-widgets/controls",
      "model_module_version": "1.5.0",
      "model_name": "TextModel",
      "state": {
       "description": "gene",
       "layout": "IPY_MODEL_9ae9a71b2c044d1a9bac30f2cb08b006",
       "style": "IPY_MODEL_7406088d7b4f4de09c4941b15c0b5d89",
       "value": "SE_42"
      }
     },
     "724418ea778447f6bee49bcb1404f78f": {
      "model_module": "@jupyter-widgets/controls",
      "model_module_version": "1.5.0",
      "model_name": "VBoxModel",
      "state": {
       "_dom_classes": [
        "widget-interact"
       ],
       "children": [
        "IPY_MODEL_7209cebe9f304b2b888adb7bc1822812",
        "IPY_MODEL_d1bd09ab662d4aa2aeac8b10bb6d75bb",
        "IPY_MODEL_e054ead18228490380dfdaeba28b2bcc",
        "IPY_MODEL_00bc80c962ee4e6ab790e216eec1dc69"
       ],
       "layout": "IPY_MODEL_dfb4331b8a5c44888418edab8cf61499"
      }
     },
     "7406088d7b4f4de09c4941b15c0b5d89": {
      "model_module": "@jupyter-widgets/controls",
      "model_module_version": "1.5.0",
      "model_name": "DescriptionStyleModel",
      "state": {
       "description_width": ""
      }
     },
     "79b6d9ad5a9542b6ad3a510adf739df0": {
      "model_module": "@jupyter-widgets/base",
      "model_module_version": "1.2.0",
      "model_name": "LayoutModel",
      "state": {}
     },
     "7a7f503ebf93481dab27ebb98a929943": {
      "model_module": "@jupyter-widgets/base",
      "model_module_version": "1.2.0",
      "model_name": "LayoutModel",
      "state": {}
     },
     "7c2e7db65d19466fa8720fc9e7aabba4": {
      "model_module": "@jupyter-widgets/controls",
      "model_module_version": "1.5.0",
      "model_name": "TextModel",
      "state": {
       "description": "gene",
       "layout": "IPY_MODEL_8a02e276b6f64a1a887775a8d6801b94",
       "style": "IPY_MODEL_15bd87a75c7545ab9e0eb515a33c60ce",
       "value": "SE_42"
      }
     },
     "7c480406ee70464d8f3276c7d9d9f2bc": {
      "model_module": "@jupyter-widgets/controls",
      "model_module_version": "1.5.0",
      "model_name": "VBoxModel",
      "state": {
       "_dom_classes": [
        "widget-interact"
       ],
       "children": [
        "IPY_MODEL_5c5bb574137549f99d5a4a5ac64a46c5",
        "IPY_MODEL_be40f2668e014377a7fd0b7e2bf487ef",
        "IPY_MODEL_415d35f1257e461688e6a38753e0ae39",
        "IPY_MODEL_7cb425810fcf4f01b7187a2b0b22d855"
       ],
       "layout": "IPY_MODEL_105f12c165d0480fb6184acb5b77852a"
      }
     },
     "7cb425810fcf4f01b7187a2b0b22d855": {
      "model_module": "@jupyter-widgets/output",
      "model_module_version": "1.0.0",
      "model_name": "OutputModel",
      "state": {
       "layout": "IPY_MODEL_a83f16e54f0c467288efdfc2b49350eb",
       "outputs": [
        {
         "name": "stdout",
         "output_type": "stream",
         "text": "\nTable's fdr cutoff for given condition:\n"
        },
        {
         "data": {
          "application/vnd.jupyter.widget-view+json": {
           "model_id": "86578856b1dd407ab0010574e1efcd0a",
           "version_major": 2,
           "version_minor": 0
          },
          "text/plain": "interactive(children=(FloatSlider(value=0.05, description='fdr', max=1.0, step=0.01), Dropdown(description='co…"
         },
         "metadata": {},
         "output_type": "display_data"
        },
        {
         "data": {
          "text/html": "\n<div id=\"altair-viz-06bf5c223619442a8f7fd4e8a37893dc\"></div>\n<script type=\"text/javascript\">\n  (function(spec, embedOpt){\n    let outputDiv = document.currentScript.previousElementSibling;\n    if (outputDiv.id !== \"altair-viz-06bf5c223619442a8f7fd4e8a37893dc\") {\n      outputDiv = document.getElementById(\"altair-viz-06bf5c223619442a8f7fd4e8a37893dc\");\n    }\n    const paths = {\n      \"vega\": \"https://cdn.jsdelivr.net/npm//vega@5?noext\",\n      \"vega-lib\": \"https://cdn.jsdelivr.net/npm//vega-lib?noext\",\n      \"vega-lite\": \"https://cdn.jsdelivr.net/npm//vega-lite@4.8.1?noext\",\n      \"vega-embed\": \"https://cdn.jsdelivr.net/npm//vega-embed@6?noext\",\n    };\n\n    function loadScript(lib) {\n      return new Promise(function(resolve, reject) {\n        var s = document.createElement('script');\n        s.src = paths[lib];\n        s.async = true;\n        s.onload = () => resolve(paths[lib]);\n        s.onerror = () => reject(`Error loading script: ${paths[lib]}`);\n        document.getElementsByTagName(\"head\")[0].appendChild(s);\n      });\n    }\n\n    function showError(err) {\n      outputDiv.innerHTML = `<div class=\"error\" style=\"color:red;\">${err}</div>`;\n      throw err;\n    }\n\n    function displayChart(vegaEmbed) {\n      vegaEmbed(outputDiv, spec, embedOpt)\n        .catch(err => showError(`Javascript Error: ${err.message}<br>This usually means there's a typo in your chart specification. See the javascript console for the full traceback.`));\n    }\n\n    if(typeof define === \"function\" && define.amd) {\n      requirejs.config({paths});\n      require([\"vega-embed\"], displayChart, err => showError(`Error loading script: ${err.message}`));\n    } else if (typeof vegaEmbed === \"function\") {\n      displayChart(vegaEmbed);\n    } else {\n      loadScript(\"vega\")\n        .then(() => loadScript(\"vega-lite\"))\n        .then(() => loadScript(\"vega-embed\"))\n        .catch(showError)\n        .then(() => displayChart(vegaEmbed));\n    }\n  })({\"config\": {\"view\": {\"continuousWidth\": 400, \"continuousHeight\": 300}}, \"data\": {\"name\": \"data-763b0ba34a3f2106a9e08edd943f3ee8\"}, \"mark\": {\"type\": \"point\", \"filled\": true, \"size\": 100}, \"encoding\": {\"color\": {\"type\": \"nominal\", \"field\": \"significant\", \"legend\": {\"title\": \"Significativity:\"}, \"scale\": {\"domain\": [\"Yes\", \"No\", \"Baseline\"], \"range\": [\"red\", \"grey\", \"black\"]}}, \"tooltip\": [{\"type\": \"nominal\", \"field\": \"Gene\"}, {\"type\": \"quantitative\", \"field\": \"beta\"}, {\"type\": \"quantitative\", \"field\": \"fdr\"}, {\"type\": \"nominal\", \"field\": \"significant\"}], \"x\": {\"type\": \"nominal\", \"field\": \"condition\", \"sort\": [\"J4\", \"J11\"]}, \"y\": {\"type\": \"quantitative\", \"field\": \"beta\"}}, \"title\": \"SE_42 beta versus baseline\", \"width\": 100, \"$schema\": \"https://vega.github.io/schema/vega-lite/v4.8.1.json\", \"datasets\": {\"data-763b0ba34a3f2106a9e08edd943f3ee8\": [{\"Gene\": \"SE_42\", \"fdr\": 0.0, \"beta\": 0.0, \"condition\": \"J4\", \"significant\": \"Baseline\"}, {\"Gene\": \"SE_42\", \"fdr\": 0.9867, \"beta\": 0.038271, \"condition\": \"J11\", \"significant\": \"No\"}]}}, {\"mode\": \"vega-lite\"});\n</script>",
          "text/plain": "alt.Chart(...)"
         },
         "metadata": {},
         "output_type": "display_data"
        }
       ]
      }
     },
     "7e50172ed49a420bb9481a986dc736b0": {
      "model_module": "@jupyter-widgets/controls",
      "model_module_version": "1.5.0",
      "model_name": "VBoxModel",
      "state": {
       "_dom_classes": [
        "widget-interact"
       ],
       "children": [
        "IPY_MODEL_b95be6c8099a40d384be4049031f9a3a",
        "IPY_MODEL_3061ae4b7897452581ff4806b10d7015",
        "IPY_MODEL_61ae0910ccd4444e9f6f102f6071c170"
       ],
       "layout": "IPY_MODEL_b39db717c4144d958d0454624f86cf53"
      }
     },
     "80be4f7e4bdd45e5897b78206e35709a": {
      "model_module": "@jupyter-widgets/controls",
      "model_module_version": "1.5.0",
      "model_name": "SliderStyleModel",
      "state": {
       "description_width": ""
      }
     },
     "813af2042abe43919d9910dca1d687a4": {
      "model_module": "@jupyter-widgets/controls",
      "model_module_version": "1.5.0",
      "model_name": "DescriptionStyleModel",
      "state": {
       "description_width": ""
      }
     },
     "841cfa05ae6941da91ebedb247030295": {
      "model_module": "@jupyter-widgets/base",
      "model_module_version": "1.2.0",
      "model_name": "LayoutModel",
      "state": {}
     },
     "86578856b1dd407ab0010574e1efcd0a": {
      "model_module": "@jupyter-widgets/controls",
      "model_module_version": "1.5.0",
      "model_name": "VBoxModel",
      "state": {
       "_dom_classes": [
        "widget-interact"
       ],
       "children": [
        "IPY_MODEL_221fd17bad7d49a08b3a91b6801c411f",
        "IPY_MODEL_ec7e6f22811a4a4c836fe409033a87ea",
        "IPY_MODEL_669f5148440143a0b02f6dbab9034363"
       ],
       "layout": "IPY_MODEL_067aa7feb7d647f4b502d855150dfaba"
      }
     },
     "8a02e276b6f64a1a887775a8d6801b94": {
      "model_module": "@jupyter-widgets/base",
      "model_module_version": "1.2.0",
      "model_name": "LayoutModel",
      "state": {}
     },
     "8a417d21e58c4b088dda51113be57710": {
      "model_module": "@jupyter-widgets/base",
      "model_module_version": "1.2.0",
      "model_name": "LayoutModel",
      "state": {}
     },
     "8b5c88d647544296a086a2b3e12fa491": {
      "model_module": "@jupyter-widgets/controls",
      "model_module_version": "1.5.0",
      "model_name": "DescriptionStyleModel",
      "state": {
       "description_width": ""
      }
     },
     "8c3951ca164f41548f522d1a3ec9a103": {
      "model_module": "@jupyter-widgets/base",
      "model_module_version": "1.2.0",
      "model_name": "LayoutModel",
      "state": {}
     },
     "8da1861f01424455850f583ae591509a": {
      "model_module": "@jupyter-widgets/controls",
      "model_module_version": "1.5.0",
      "model_name": "VBoxModel",
      "state": {
       "_dom_classes": [
        "widget-interact"
       ],
       "children": [
        "IPY_MODEL_ef8e335508a84367963f33d00b364806",
        "IPY_MODEL_adcd3a74e874489cb8d3c1d8283dc9f2",
        "IPY_MODEL_f498bc381ed149829a296b86c6a445dd"
       ],
       "layout": "IPY_MODEL_79b6d9ad5a9542b6ad3a510adf739df0"
      }
     },
     "8de88933257846e0ac62db36236a6af3": {
      "model_module": "@jupyter-widgets/controls",
      "model_module_version": "1.5.0",
      "model_name": "TextModel",
      "state": {
       "description": "gene",
       "layout": "IPY_MODEL_4efb6cb81ef948ac843601962bc09ab9",
       "style": "IPY_MODEL_3186972701744ac39d11979f222fe041",
       "value": "SE_42"
      }
     },
     "9159723c01b84c74b1da59f1d8d58338": {
      "model_module": "@jupyter-widgets/base",
      "model_module_version": "1.2.0",
      "model_name": "LayoutModel",
      "state": {}
     },
     "96732426d02b4e708852ccd93dbc5d86": {
      "model_module": "@jupyter-widgets/base",
      "model_module_version": "1.2.0",
      "model_name": "LayoutModel",
      "state": {}
     },
     "9741ca742bd74d50b4a85e6ac70ae403": {
      "model_module": "@jupyter-widgets/controls",
      "model_module_version": "1.5.0",
      "model_name": "SliderStyleModel",
      "state": {
       "description_width": ""
      }
     },
     "97cbd55aa74d4a3e95a7553a7660a1fe": {
      "model_module": "@jupyter-widgets/base",
      "model_module_version": "1.2.0",
      "model_name": "LayoutModel",
      "state": {}
     },
     "99b9c4cdd05b45f3b69d5a3f22bd972a": {
      "model_module": "@jupyter-widgets/base",
      "model_module_version": "1.2.0",
      "model_name": "LayoutModel",
      "state": {}
     },
     "9ae9a71b2c044d1a9bac30f2cb08b006": {
      "model_module": "@jupyter-widgets/base",
      "model_module_version": "1.2.0",
      "model_name": "LayoutModel",
      "state": {}
     },
     "9f7abd193a6e498987df809c35c2741c": {
      "model_module": "@jupyter-widgets/controls",
      "model_module_version": "1.5.0",
      "model_name": "SliderStyleModel",
      "state": {
       "description_width": ""
      }
     },
     "a0aa135e917348319c63a83cbe797cb8": {
      "model_module": "@jupyter-widgets/base",
      "model_module_version": "1.2.0",
      "model_name": "LayoutModel",
      "state": {}
     },
     "a1825efecc374a4aa28d46ad2d220d3f": {
      "model_module": "@jupyter-widgets/controls",
      "model_module_version": "1.5.0",
      "model_name": "FloatSliderModel",
      "state": {
       "description": "fdr",
       "layout": "IPY_MODEL_4eb73a1d68e642d0b9d6532542d1f3cd",
       "max": 1,
       "step": 0.01,
       "style": "IPY_MODEL_e277fce06c7a4a02b1122faa53e82de8",
       "value": 0.05
      }
     },
     "a83f16e54f0c467288efdfc2b49350eb": {
      "model_module": "@jupyter-widgets/base",
      "model_module_version": "1.2.0",
      "model_name": "LayoutModel",
      "state": {}
     },
     "a9c9d17159534bc996aa6106e83b714b": {
      "model_module": "@jupyter-widgets/controls",
      "model_module_version": "1.5.0",
      "model_name": "DescriptionStyleModel",
      "state": {
       "description_width": ""
      }
     },
     "aa7be97c2c8e42b7a3a21fe278904fcd": {
      "model_module": "@jupyter-widgets/controls",
      "model_module_version": "1.5.0",
      "model_name": "SliderStyleModel",
      "state": {
       "description_width": ""
      }
     },
     "ab00f88985ad461ea78dd2bec3604d48": {
      "model_module": "@jupyter-widgets/output",
      "model_module_version": "1.0.0",
      "model_name": "OutputModel",
      "state": {
       "layout": "IPY_MODEL_62bbf3f7ee6345fe9c178978a0d0a289",
       "outputs": [
        {
         "name": "stdout",
         "output_type": "stream",
         "text": "\nTable's fdr cutoff for given condition:\n"
        },
        {
         "data": {
          "application/vnd.jupyter.widget-view+json": {
           "model_id": "8da1861f01424455850f583ae591509a",
           "version_major": 2,
           "version_minor": 0
          },
          "text/plain": "interactive(children=(FloatSlider(value=0.05, description='fdr', max=1.0, step=0.01), Dropdown(description='co…"
         },
         "metadata": {},
         "output_type": "display_data"
        },
        {
         "data": {
          "text/html": "\n<div id=\"altair-viz-319d03cdf05f400098657ccf9efbd2ce\"></div>\n<script type=\"text/javascript\">\n  (function(spec, embedOpt){\n    let outputDiv = document.currentScript.previousElementSibling;\n    if (outputDiv.id !== \"altair-viz-319d03cdf05f400098657ccf9efbd2ce\") {\n      outputDiv = document.getElementById(\"altair-viz-319d03cdf05f400098657ccf9efbd2ce\");\n    }\n    const paths = {\n      \"vega\": \"https://cdn.jsdelivr.net/npm//vega@5?noext\",\n      \"vega-lib\": \"https://cdn.jsdelivr.net/npm//vega-lib?noext\",\n      \"vega-lite\": \"https://cdn.jsdelivr.net/npm//vega-lite@4.8.1?noext\",\n      \"vega-embed\": \"https://cdn.jsdelivr.net/npm//vega-embed@6?noext\",\n    };\n\n    function loadScript(lib) {\n      return new Promise(function(resolve, reject) {\n        var s = document.createElement('script');\n        s.src = paths[lib];\n        s.async = true;\n        s.onload = () => resolve(paths[lib]);\n        s.onerror = () => reject(`Error loading script: ${paths[lib]}`);\n        document.getElementsByTagName(\"head\")[0].appendChild(s);\n      });\n    }\n\n    function showError(err) {\n      outputDiv.innerHTML = `<div class=\"error\" style=\"color:red;\">${err}</div>`;\n      throw err;\n    }\n\n    function displayChart(vegaEmbed) {\n      vegaEmbed(outputDiv, spec, embedOpt)\n        .catch(err => showError(`Javascript Error: ${err.message}<br>This usually means there's a typo in your chart specification. See the javascript console for the full traceback.`));\n    }\n\n    if(typeof define === \"function\" && define.amd) {\n      requirejs.config({paths});\n      require([\"vega-embed\"], displayChart, err => showError(`Error loading script: ${err.message}`));\n    } else if (typeof vegaEmbed === \"function\") {\n      displayChart(vegaEmbed);\n    } else {\n      loadScript(\"vega\")\n        .then(() => loadScript(\"vega-lite\"))\n        .then(() => loadScript(\"vega-embed\"))\n        .catch(showError)\n        .then(() => displayChart(vegaEmbed));\n    }\n  })({\"config\": {\"view\": {\"continuousWidth\": 400, \"continuousHeight\": 300}}, \"data\": {\"name\": \"data-763b0ba34a3f2106a9e08edd943f3ee8\"}, \"mark\": {\"type\": \"point\", \"filled\": true, \"size\": 100}, \"encoding\": {\"color\": {\"type\": \"nominal\", \"field\": \"significant\", \"legend\": {\"title\": \"Significativity:\"}, \"scale\": {\"domain\": [\"Yes\", \"No\", \"Baseline\"], \"range\": [\"red\", \"grey\", \"black\"]}}, \"tooltip\": [{\"type\": \"nominal\", \"field\": \"Gene\"}, {\"type\": \"quantitative\", \"field\": \"beta\"}, {\"type\": \"quantitative\", \"field\": \"fdr\"}, {\"type\": \"nominal\", \"field\": \"significant\"}], \"x\": {\"type\": \"nominal\", \"field\": \"condition\", \"sort\": [\"J4\", \"J11\"]}, \"y\": {\"type\": \"quantitative\", \"field\": \"beta\"}}, \"title\": \"SE_42 beta versus baseline\", \"width\": 100, \"$schema\": \"https://vega.github.io/schema/vega-lite/v4.8.1.json\", \"datasets\": {\"data-763b0ba34a3f2106a9e08edd943f3ee8\": [{\"Gene\": \"SE_42\", \"fdr\": 0.0, \"beta\": 0.0, \"condition\": \"J4\", \"significant\": \"Baseline\"}, {\"Gene\": \"SE_42\", \"fdr\": 0.9867, \"beta\": 0.038271, \"condition\": \"J11\", \"significant\": \"No\"}]}}, {\"mode\": \"vega-lite\"});\n</script>",
          "text/plain": "alt.Chart(...)"
         },
         "metadata": {},
         "output_type": "display_data"
        }
       ]
      }
     },
     "abde330b16ee49919499b8be81d45f1f": {
      "model_module": "@jupyter-widgets/base",
      "model_module_version": "1.2.0",
      "model_name": "LayoutModel",
      "state": {}
     },
     "adcd3a74e874489cb8d3c1d8283dc9f2": {
      "model_module": "@jupyter-widgets/controls",
      "model_module_version": "1.5.0",
      "model_name": "DropdownModel",
      "state": {
       "_options_labels": [
        "J4",
        "J11"
       ],
       "description": "conditions",
       "index": 0,
       "layout": "IPY_MODEL_96732426d02b4e708852ccd93dbc5d86",
       "style": "IPY_MODEL_a9c9d17159534bc996aa6106e83b714b"
      }
     },
     "b0f8d86f446c441283d1086c6c0c4ecf": {
      "model_module": "@jupyter-widgets/output",
      "model_module_version": "1.0.0",
      "model_name": "OutputModel",
      "state": {
       "layout": "IPY_MODEL_637aca77c679482fa3b9c102287bc220",
       "outputs": [
        {
         "name": "stdout",
         "output_type": "stream",
         "text": "\nTable's fdr cutoff for given condition:\n"
        },
        {
         "data": {
          "application/vnd.jupyter.widget-view+json": {
           "model_id": "e70434c85d584443bc5e51d98dc9b1f8",
           "version_major": 2,
           "version_minor": 0
          },
          "text/plain": "interactive(children=(FloatSlider(value=0.05, description='fdr', max=1.0, step=0.01), Dropdown(description='co…"
         },
         "metadata": {},
         "output_type": "display_data"
        },
        {
         "data": {
          "text/html": "\n<div id=\"altair-viz-8c61dc7f19504f62a9c8e2adb7246a87\"></div>\n<script type=\"text/javascript\">\n  (function(spec, embedOpt){\n    let outputDiv = document.currentScript.previousElementSibling;\n    if (outputDiv.id !== \"altair-viz-8c61dc7f19504f62a9c8e2adb7246a87\") {\n      outputDiv = document.getElementById(\"altair-viz-8c61dc7f19504f62a9c8e2adb7246a87\");\n    }\n    const paths = {\n      \"vega\": \"https://cdn.jsdelivr.net/npm//vega@5?noext\",\n      \"vega-lib\": \"https://cdn.jsdelivr.net/npm//vega-lib?noext\",\n      \"vega-lite\": \"https://cdn.jsdelivr.net/npm//vega-lite@4.8.1?noext\",\n      \"vega-embed\": \"https://cdn.jsdelivr.net/npm//vega-embed@6?noext\",\n    };\n\n    function loadScript(lib) {\n      return new Promise(function(resolve, reject) {\n        var s = document.createElement('script');\n        s.src = paths[lib];\n        s.async = true;\n        s.onload = () => resolve(paths[lib]);\n        s.onerror = () => reject(`Error loading script: ${paths[lib]}`);\n        document.getElementsByTagName(\"head\")[0].appendChild(s);\n      });\n    }\n\n    function showError(err) {\n      outputDiv.innerHTML = `<div class=\"error\" style=\"color:red;\">${err}</div>`;\n      throw err;\n    }\n\n    function displayChart(vegaEmbed) {\n      vegaEmbed(outputDiv, spec, embedOpt)\n        .catch(err => showError(`Javascript Error: ${err.message}<br>This usually means there's a typo in your chart specification. See the javascript console for the full traceback.`));\n    }\n\n    if(typeof define === \"function\" && define.amd) {\n      requirejs.config({paths});\n      require([\"vega-embed\"], displayChart, err => showError(`Error loading script: ${err.message}`));\n    } else if (typeof vegaEmbed === \"function\") {\n      displayChart(vegaEmbed);\n    } else {\n      loadScript(\"vega\")\n        .then(() => loadScript(\"vega-lite\"))\n        .then(() => loadScript(\"vega-embed\"))\n        .catch(showError)\n        .then(() => displayChart(vegaEmbed));\n    }\n  })({\"config\": {\"view\": {\"continuousWidth\": 400, \"continuousHeight\": 300}}, \"data\": {\"name\": \"data-763b0ba34a3f2106a9e08edd943f3ee8\"}, \"mark\": {\"type\": \"point\", \"filled\": true, \"size\": 100}, \"encoding\": {\"color\": {\"type\": \"nominal\", \"field\": \"significant\", \"legend\": {\"title\": \"Significativity:\"}, \"scale\": {\"domain\": [\"Yes\", \"No\", \"Baseline\"], \"range\": [\"red\", \"grey\", \"black\"]}}, \"tooltip\": [{\"type\": \"nominal\", \"field\": \"Gene\"}, {\"type\": \"quantitative\", \"field\": \"beta\"}, {\"type\": \"quantitative\", \"field\": \"fdr\"}, {\"type\": \"nominal\", \"field\": \"significant\"}], \"x\": {\"type\": \"nominal\", \"field\": \"condition\", \"sort\": [\"J4\", \"J11\"]}, \"y\": {\"type\": \"quantitative\", \"field\": \"beta\"}}, \"title\": \"SE_42 beta versus baseline\", \"width\": 100, \"$schema\": \"https://vega.github.io/schema/vega-lite/v4.8.1.json\", \"datasets\": {\"data-763b0ba34a3f2106a9e08edd943f3ee8\": [{\"Gene\": \"SE_42\", \"fdr\": 0.0, \"beta\": 0.0, \"condition\": \"J4\", \"significant\": \"Baseline\"}, {\"Gene\": \"SE_42\", \"fdr\": 0.9867, \"beta\": 0.038271, \"condition\": \"J11\", \"significant\": \"No\"}]}}, {\"mode\": \"vega-lite\"});\n</script>",
          "text/plain": "alt.Chart(...)"
         },
         "metadata": {},
         "output_type": "display_data"
        }
       ]
      }
     },
     "b2374146d27044c9b3c92f2f31d0d187": {
      "model_module": "@jupyter-widgets/controls",
      "model_module_version": "1.5.0",
      "model_name": "VBoxModel",
      "state": {
       "_dom_classes": [
        "widget-interact"
       ],
       "children": [
        "IPY_MODEL_11edb94871cd46cdbe6380020e471eea",
        "IPY_MODEL_a1825efecc374a4aa28d46ad2d220d3f",
        "IPY_MODEL_06bd72d12dba43a79c87ee8821513628",
        "IPY_MODEL_ab00f88985ad461ea78dd2bec3604d48"
       ],
       "layout": "IPY_MODEL_a0aa135e917348319c63a83cbe797cb8"
      }
     },
     "b24aefc1a4964ffc941c3c671f7a6f56": {
      "model_module": "@jupyter-widgets/controls",
      "model_module_version": "1.5.0",
      "model_name": "DescriptionStyleModel",
      "state": {
       "description_width": ""
      }
     },
     "b39db717c4144d958d0454624f86cf53": {
      "model_module": "@jupyter-widgets/base",
      "model_module_version": "1.2.0",
      "model_name": "LayoutModel",
      "state": {}
     },
     "b4a03a28d54c4f52a8dc2a817b632b96": {
      "model_module": "@jupyter-widgets/controls",
      "model_module_version": "1.5.0",
      "model_name": "FloatSliderModel",
      "state": {
       "description": "fdr",
       "layout": "IPY_MODEL_bd80cefe6a6146679f6205cf975b58b9",
       "max": 1,
       "step": 0.01,
       "style": "IPY_MODEL_41ee3523fe484046beee62422b72fc0d",
       "value": 0.05
      }
     },
     "b95be6c8099a40d384be4049031f9a3a": {
      "model_module": "@jupyter-widgets/controls",
      "model_module_version": "1.5.0",
      "model_name": "FloatSliderModel",
      "state": {
       "description": "fdr",
       "layout": "IPY_MODEL_e1081182f200471c94cd909f93171d59",
       "max": 1,
       "step": 0.01,
       "style": "IPY_MODEL_aa7be97c2c8e42b7a3a21fe278904fcd",
       "value": 0.05
      }
     },
     "bd80cefe6a6146679f6205cf975b58b9": {
      "model_module": "@jupyter-widgets/base",
      "model_module_version": "1.2.0",
      "model_name": "LayoutModel",
      "state": {}
     },
     "be40f2668e014377a7fd0b7e2bf487ef": {
      "model_module": "@jupyter-widgets/controls",
      "model_module_version": "1.5.0",
      "model_name": "FloatSliderModel",
      "state": {
       "description": "fdr",
       "layout": "IPY_MODEL_19b920427c644632ac3960f04f0317cd",
       "max": 1,
       "step": 0.01,
       "style": "IPY_MODEL_1ac3d7b6df7b400e910aa851c9a4f8f5",
       "value": 0.05
      }
     },
     "be8868f2bf2449c1be74726f02c33886": {
      "model_module": "@jupyter-widgets/base",
      "model_module_version": "1.2.0",
      "model_name": "LayoutModel",
      "state": {}
     },
     "bf42fee0b2bf4705b5e13b967dd6d355": {
      "model_module": "@jupyter-widgets/controls",
      "model_module_version": "1.5.0",
      "model_name": "DescriptionStyleModel",
      "state": {
       "description_width": ""
      }
     },
     "c95dfc1dcaf8406287a92b6f68f07ff1": {
      "model_module": "@jupyter-widgets/base",
      "model_module_version": "1.2.0",
      "model_name": "LayoutModel",
      "state": {}
     },
     "c99190937b374637a4d7d6fd20e55078": {
      "model_module": "@jupyter-widgets/controls",
      "model_module_version": "1.5.0",
      "model_name": "SliderStyleModel",
      "state": {
       "description_width": ""
      }
     },
     "cc267865d0d741b8bb4f16b801d62b6f": {
      "model_module": "@jupyter-widgets/base",
      "model_module_version": "1.2.0",
      "model_name": "LayoutModel",
      "state": {}
     },
     "cefbbbcbd6854e90a0754e2ec421c306": {
      "model_module": "@jupyter-widgets/controls",
      "model_module_version": "1.5.0",
      "model_name": "VBoxModel",
      "state": {
       "_dom_classes": [
        "widget-interact"
       ],
       "children": [
        "IPY_MODEL_7c2e7db65d19466fa8720fc9e7aabba4",
        "IPY_MODEL_f68ae210994f4f46b5e210ffab7a2506",
        "IPY_MODEL_dfe701a1474b4b338560a995b39f80b9",
        "IPY_MODEL_5f188e30ef9b4045802dd31ed1b75b24"
       ],
       "layout": "IPY_MODEL_841cfa05ae6941da91ebedb247030295"
      }
     },
     "d1bd09ab662d4aa2aeac8b10bb6d75bb": {
      "model_module": "@jupyter-widgets/controls",
      "model_module_version": "1.5.0",
      "model_name": "FloatSliderModel",
      "state": {
       "description": "fdr",
       "layout": "IPY_MODEL_6bb49030491a44cbab88631f88610abf",
       "max": 1,
       "step": 0.01,
       "style": "IPY_MODEL_e5ea1a979e2b4241a9d9fbf79639ebcd",
       "value": 0.05
      }
     },
     "d745262e3b8d495a848c89853f245098": {
      "model_module": "@jupyter-widgets/controls",
      "model_module_version": "1.5.0",
      "model_name": "DescriptionStyleModel",
      "state": {
       "description_width": ""
      }
     },
     "dad06e25a4cc47ceb7ff99ddbf03cfee": {
      "model_module": "@jupyter-widgets/controls",
      "model_module_version": "1.5.0",
      "model_name": "DescriptionStyleModel",
      "state": {
       "description_width": ""
      }
     },
     "dfb4331b8a5c44888418edab8cf61499": {
      "model_module": "@jupyter-widgets/base",
      "model_module_version": "1.2.0",
      "model_name": "LayoutModel",
      "state": {}
     },
     "dfe701a1474b4b338560a995b39f80b9": {
      "model_module": "@jupyter-widgets/controls",
      "model_module_version": "1.5.0",
      "model_name": "DropdownModel",
      "state": {
       "_options_labels": [
        "J4"
       ],
       "description": "control",
       "index": 0,
       "layout": "IPY_MODEL_be8868f2bf2449c1be74726f02c33886",
       "style": "IPY_MODEL_8b5c88d647544296a086a2b3e12fa491"
      }
     },
     "e054ead18228490380dfdaeba28b2bcc": {
      "model_module": "@jupyter-widgets/controls",
      "model_module_version": "1.5.0",
      "model_name": "DropdownModel",
      "state": {
       "_options_labels": [
        "J4"
       ],
       "description": "control",
       "index": 0,
       "layout": "IPY_MODEL_58093deebb9643e2849820a5a5c145e5",
       "style": "IPY_MODEL_1616cf5dc0554aacafffe3d251f94546"
      }
     },
     "e1081182f200471c94cd909f93171d59": {
      "model_module": "@jupyter-widgets/base",
      "model_module_version": "1.2.0",
      "model_name": "LayoutModel",
      "state": {}
     },
     "e277fce06c7a4a02b1122faa53e82de8": {
      "model_module": "@jupyter-widgets/controls",
      "model_module_version": "1.5.0",
      "model_name": "SliderStyleModel",
      "state": {
       "description_width": ""
      }
     },
     "e48379347a1d48e795d956099827556b": {
      "model_module": "@jupyter-widgets/base",
      "model_module_version": "1.2.0",
      "model_name": "LayoutModel",
      "state": {}
     },
     "e58a8d85b81741f787c161df9412059b": {
      "model_module": "@jupyter-widgets/base",
      "model_module_version": "1.2.0",
      "model_name": "LayoutModel",
      "state": {}
     },
     "e5ea1a979e2b4241a9d9fbf79639ebcd": {
      "model_module": "@jupyter-widgets/controls",
      "model_module_version": "1.5.0",
      "model_name": "SliderStyleModel",
      "state": {
       "description_width": ""
      }
     },
     "e70434c85d584443bc5e51d98dc9b1f8": {
      "model_module": "@jupyter-widgets/controls",
      "model_module_version": "1.5.0",
      "model_name": "VBoxModel",
      "state": {
       "_dom_classes": [
        "widget-interact"
       ],
       "children": [
        "IPY_MODEL_038f1cc508c84040b08dfa6712d28831",
        "IPY_MODEL_0a2cb2126be24e3bbb566ba84962459e",
        "IPY_MODEL_4b661806db0d46ea83254d9eda1b4c76"
       ],
       "layout": "IPY_MODEL_1bb12f5a5e8d44fa8e97553e664c5ca8"
      }
     },
     "ec7e6f22811a4a4c836fe409033a87ea": {
      "model_module": "@jupyter-widgets/controls",
      "model_module_version": "1.5.0",
      "model_name": "DropdownModel",
      "state": {
       "_options_labels": [
        "J4",
        "J11"
       ],
       "description": "conditions",
       "index": 0,
       "layout": "IPY_MODEL_e58a8d85b81741f787c161df9412059b",
       "style": "IPY_MODEL_813af2042abe43919d9910dca1d687a4"
      }
     },
     "ecc5a72667d443028466feb6e3c99179": {
      "model_module": "@jupyter-widgets/controls",
      "model_module_version": "1.5.0",
      "model_name": "DescriptionStyleModel",
      "state": {
       "description_width": ""
      }
     },
     "ef8e335508a84367963f33d00b364806": {
      "model_module": "@jupyter-widgets/controls",
      "model_module_version": "1.5.0",
      "model_name": "FloatSliderModel",
      "state": {
       "description": "fdr",
       "layout": "IPY_MODEL_9159723c01b84c74b1da59f1d8d58338",
       "max": 1,
       "step": 0.01,
       "style": "IPY_MODEL_9f7abd193a6e498987df809c35c2741c",
       "value": 0.05
      }
     },
     "f1421f14e1cb42c592277350e433528c": {
      "model_module": "@jupyter-widgets/controls",
      "model_module_version": "1.5.0",
      "model_name": "VBoxModel",
      "state": {
       "_dom_classes": [
        "widget-interact"
       ],
       "children": [
        "IPY_MODEL_b4a03a28d54c4f52a8dc2a817b632b96",
        "IPY_MODEL_4a9bc3d5328b4b96a45d62464512de0b",
        "IPY_MODEL_2313e974098546f19832518445b70be7"
       ],
       "layout": "IPY_MODEL_3a24321dae79466bb121d6e095ac0005"
      }
     },
     "f16ba24716a64c1aa7ef2d769024d18a": {
      "model_module": "@jupyter-widgets/controls",
      "model_module_version": "1.5.0",
      "model_name": "DropdownModel",
      "state": {
       "_options_labels": [
        "J4"
       ],
       "description": "control",
       "index": 0,
       "layout": "IPY_MODEL_29ef505451da43b28dfb4275126061c5",
       "style": "IPY_MODEL_3ad250f0bee04de6bfbdb854ea827fc8"
      }
     },
     "f2528d64efe440b195c923b8f7b2a3f5": {
      "model_module": "@jupyter-widgets/controls",
      "model_module_version": "1.5.0",
      "model_name": "DescriptionStyleModel",
      "state": {
       "description_width": ""
      }
     },
     "f498bc381ed149829a296b86c6a445dd": {
      "model_module": "@jupyter-widgets/output",
      "model_module_version": "1.0.0",
      "model_name": "OutputModel",
      "state": {
       "layout": "IPY_MODEL_271ecf86ddba4706a89766411487e561",
       "outputs": [
        {
         "data": {
          "text/html": "<div>\n<style scoped>\n    .dataframe tbody tr th:only-of-type {\n        vertical-align: middle;\n    }\n\n    .dataframe tbody tr th {\n        vertical-align: top;\n    }\n\n    .dataframe thead th {\n        text-align: right;\n    }\n</style>\n<table border=\"1\" class=\"dataframe\">\n  <thead>\n    <tr style=\"text-align: right;\">\n      <th></th>\n      <th>Gene</th>\n      <th>sgRNA</th>\n      <th>J4|beta</th>\n      <th>J4|fdr</th>\n      <th>J11|beta</th>\n      <th>J11|z</th>\n      <th>J11|p-value</th>\n      <th>J11|fdr</th>\n      <th>J11|wald-p-value</th>\n      <th>J11|wald-fdr</th>\n    </tr>\n  </thead>\n  <tbody>\n    <tr>\n      <th>0</th>\n      <td>SE_42</td>\n      <td>25</td>\n      <td>0</td>\n      <td>0</td>\n      <td>0.038271</td>\n      <td>0.63749</td>\n      <td>0.34945</td>\n      <td>0.98670</td>\n      <td>0.52381</td>\n      <td>0.99912</td>\n    </tr>\n    <tr>\n      <th>1</th>\n      <td>SE_444</td>\n      <td>15</td>\n      <td>0</td>\n      <td>0</td>\n      <td>-0.008261</td>\n      <td>-0.26299</td>\n      <td>0.73407</td>\n      <td>0.98670</td>\n      <td>0.79256</td>\n      <td>0.99912</td>\n    </tr>\n    <tr>\n      <th>2</th>\n      <td>SE_98</td>\n      <td>40</td>\n      <td>0</td>\n      <td>0</td>\n      <td>0.044283</td>\n      <td>1.17600</td>\n      <td>0.14066</td>\n      <td>0.87671</td>\n      <td>0.23959</td>\n      <td>0.99912</td>\n    </tr>\n    <tr>\n      <th>3</th>\n      <td>SE_119</td>\n      <td>10</td>\n      <td>0</td>\n      <td>0</td>\n      <td>-0.001180</td>\n      <td>-0.01271</td>\n      <td>0.82857</td>\n      <td>0.98670</td>\n      <td>0.98986</td>\n      <td>0.99912</td>\n    </tr>\n    <tr>\n      <th>4</th>\n      <td>SE_27</td>\n      <td>25</td>\n      <td>0</td>\n      <td>0</td>\n      <td>-0.011796</td>\n      <td>-0.26087</td>\n      <td>0.53846</td>\n      <td>0.98670</td>\n      <td>0.79419</td>\n      <td>0.99912</td>\n    </tr>\n    <tr>\n      <th>...</th>\n      <td>...</td>\n      <td>...</td>\n      <td>...</td>\n      <td>...</td>\n      <td>...</td>\n      <td>...</td>\n      <td>...</td>\n      <td>...</td>\n      <td>...</td>\n      <td>...</td>\n    </tr>\n    <tr>\n      <th>450</th>\n      <td>Ren</td>\n      <td>1</td>\n      <td>0</td>\n      <td>0</td>\n      <td>0.124160</td>\n      <td>0.53281</td>\n      <td>0.36923</td>\n      <td>0.98670</td>\n      <td>0.59417</td>\n      <td>0.99912</td>\n    </tr>\n    <tr>\n      <th>451</th>\n      <td>Luc</td>\n      <td>1</td>\n      <td>0</td>\n      <td>0</td>\n      <td>0.126300</td>\n      <td>0.93761</td>\n      <td>0.36703</td>\n      <td>0.98670</td>\n      <td>0.34845</td>\n      <td>0.99912</td>\n    </tr>\n    <tr>\n      <th>452</th>\n      <td>POLR2B</td>\n      <td>9</td>\n      <td>0</td>\n      <td>0</td>\n      <td>-0.037595</td>\n      <td>-1.16040</td>\n      <td>0.36484</td>\n      <td>0.98670</td>\n      <td>0.24590</td>\n      <td>0.99912</td>\n    </tr>\n    <tr>\n      <th>453</th>\n      <td>TCONS_00187041</td>\n      <td>5</td>\n      <td>0</td>\n      <td>0</td>\n      <td>-0.040296</td>\n      <td>-0.57195</td>\n      <td>0.50989</td>\n      <td>0.98670</td>\n      <td>0.56735</td>\n      <td>0.99912</td>\n    </tr>\n    <tr>\n      <th>454</th>\n      <td>GFP</td>\n      <td>1</td>\n      <td>0</td>\n      <td>0</td>\n      <td>0.023723</td>\n      <td>0.19969</td>\n      <td>0.83736</td>\n      <td>0.98670</td>\n      <td>0.84172</td>\n      <td>0.99912</td>\n    </tr>\n  </tbody>\n</table>\n<p>455 rows × 10 columns</p>\n</div>",
          "text/plain": "               Gene  sgRNA  J4|beta  J4|fdr  J11|beta    J11|z  J11|p-value  \\\n0             SE_42     25        0       0  0.038271  0.63749      0.34945   \n1            SE_444     15        0       0 -0.008261 -0.26299      0.73407   \n2             SE_98     40        0       0  0.044283  1.17600      0.14066   \n3            SE_119     10        0       0 -0.001180 -0.01271      0.82857   \n4             SE_27     25        0       0 -0.011796 -0.26087      0.53846   \n..              ...    ...      ...     ...       ...      ...          ...   \n450             Ren      1        0       0  0.124160  0.53281      0.36923   \n451             Luc      1        0       0  0.126300  0.93761      0.36703   \n452          POLR2B      9        0       0 -0.037595 -1.16040      0.36484   \n453  TCONS_00187041      5        0       0 -0.040296 -0.57195      0.50989   \n454             GFP      1        0       0  0.023723  0.19969      0.83736   \n\n     J11|fdr  J11|wald-p-value  J11|wald-fdr  \n0    0.98670           0.52381       0.99912  \n1    0.98670           0.79256       0.99912  \n2    0.87671           0.23959       0.99912  \n3    0.98670           0.98986       0.99912  \n4    0.98670           0.79419       0.99912  \n..       ...               ...           ...  \n450  0.98670           0.59417       0.99912  \n451  0.98670           0.34845       0.99912  \n452  0.98670           0.24590       0.99912  \n453  0.98670           0.56735       0.99912  \n454  0.98670           0.84172       0.99912  \n\n[455 rows x 10 columns]"
         },
         "metadata": {},
         "output_type": "display_data"
        }
       ]
      }
     },
     "f68ae210994f4f46b5e210ffab7a2506": {
      "model_module": "@jupyter-widgets/controls",
      "model_module_version": "1.5.0",
      "model_name": "FloatSliderModel",
      "state": {
       "description": "fdr",
       "layout": "IPY_MODEL_5c9212ca52a9433eb4cdb7b906c4c165",
       "max": 1,
       "step": 0.01,
       "style": "IPY_MODEL_9741ca742bd74d50b4a85e6ac70ae403",
       "value": 0.05
      }
     },
     "ffda3971205e404981185353dd4648fb": {
      "model_module": "@jupyter-widgets/base",
      "model_module_version": "1.2.0",
      "model_name": "LayoutModel",
      "state": {}
     }
    },
    "version_major": 2,
    "version_minor": 0
   }
  }
 },
 "nbformat": 4,
 "nbformat_minor": 5
}
