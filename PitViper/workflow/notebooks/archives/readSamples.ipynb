{
 "cells": [
  {
   "cell_type": "code",
   "execution_count": 1,
   "metadata": {},
   "outputs": [
    {
     "ename": "ModuleNotFoundError",
     "evalue": "No module named 'click'",
     "output_type": "error",
     "traceback": [
      "\u001b[0;31m---------------------------------------------------------------------------\u001b[0m",
      "\u001b[0;31mModuleNotFoundError\u001b[0m                       Traceback (most recent call last)",
      "\u001b[0;32m<ipython-input-1-02d386318088>\u001b[0m in \u001b[0;36m<module>\u001b[0;34m\u001b[0m\n\u001b[1;32m      1\u001b[0m \u001b[0;32mimport\u001b[0m \u001b[0mpandas\u001b[0m \u001b[0;32mas\u001b[0m \u001b[0mpd\u001b[0m\u001b[0;34m\u001b[0m\u001b[0;34m\u001b[0m\u001b[0m\n\u001b[1;32m      2\u001b[0m \u001b[0;32mimport\u001b[0m \u001b[0mnumpy\u001b[0m \u001b[0;32mas\u001b[0m \u001b[0mnp\u001b[0m\u001b[0;34m\u001b[0m\u001b[0;34m\u001b[0m\u001b[0m\n\u001b[0;32m----> 3\u001b[0;31m \u001b[0;32mimport\u001b[0m \u001b[0mclick\u001b[0m\u001b[0;34m\u001b[0m\u001b[0;34m\u001b[0m\u001b[0m\n\u001b[0m",
      "\u001b[0;31mModuleNotFoundError\u001b[0m: No module named 'click'"
     ]
    }
   ],
   "source": [
    "import pandas as pd\n",
    "import numpy as np\n",
    "import click"
   ]
  },
  {
   "cell_type": "code",
   "execution_count": null,
   "metadata": {},
   "outputs": [],
   "source": [
    "sample_sheet = pd.read_csv(\"../../../data/samples.txt\", sep = \",\")\n",
    "sample_sheet"
   ]
  },
  {
   "cell_type": "code",
   "execution_count": null,
   "metadata": {},
   "outputs": [],
   "source": [
    "def get_all_pairwise_comparaisons(samples_list):\n",
    "    def compareTuples(t1, t2):\n",
    "        comparaison = set(t1) & set(t2)\n",
    "        return (len(comparaison) == len(t1)) & (len(comparaison) == len(t2))\n",
    "\n",
    "\n",
    "    def tupleInList(t, comparaisons):\n",
    "        inList = False\n",
    "        for comparaison in comparaisons:\n",
    "            if compareTuples(t, comparaison):\n",
    "                inList = True\n",
    "                break\n",
    "        return inList\n",
    "\n",
    "\n",
    "    def pairwiseComparaisons(samples_list):\n",
    "#         samples_list = list(samples_dict.keys())\n",
    "        comparaisons = []\n",
    "        for i in range(0, len(samples_list)):\n",
    "            for j in range(0, len(samples_list)):\n",
    "                if (i != j) and not (tupleInList((i, j), comparaisons)):\n",
    "                    comparaisons.append((i, j))\n",
    "        return comparaisons\n",
    "\n",
    "    comparaisons = pairwiseComparaisons(samples_list)\n",
    "    return comparaisons"
   ]
  },
  {
   "cell_type": "code",
   "execution_count": null,
   "metadata": {},
   "outputs": [],
   "source": [
    "class Design:\n",
    "    def __init__(self, file, control, pairwise=False):\n",
    "        self.file = file\n",
    "        self.sample_sheet = pd.read_csv(file, sep = \",\")\n",
    "        self.control_name = control\n",
    "        self.conditions = self.sample_sheet.columns\n",
    "        self.samples_dict = None\n",
    "        self.replicates = []\n",
    "        self.design_matrix = None\n",
    "        \n",
    "        if pairwise != False:\n",
    "            self.conditions = pairwise\n",
    "            \n",
    "        \n",
    "    def createSamplesSummary(self):\n",
    "        self.samples_dict = dict.fromkeys(list(self.conditions))\n",
    "        for col in self.conditions:\n",
    "            self.samples_dict[col] = dict.fromkeys(['isControl', 'replicates'])\n",
    "            self.samples_dict[col]['replicates'] = []\n",
    "            if col == self.control_name:\n",
    "                self.samples_dict[col]['isControl'] = 1\n",
    "            else:\n",
    "                self.samples_dict[col]['isControl'] = 0\n",
    "            for replicate in self.sample_sheet[[col]].values:\n",
    "                self.samples_dict[col]['replicates'].append(replicate[0])\n",
    "\n",
    "\n",
    "    def getAllReplicates(self):\n",
    "        for condition in self.conditions:\n",
    "            self.replicates.extend(self.samples_dict[condition]['replicates'])\n",
    "\n",
    "\n",
    "\n",
    "    def fillConditions(self):\n",
    "        for replicate in self.replicates:\n",
    "            if replicate in self.samples_dict[self.control_name]['replicates']:\n",
    "                for col in self.conditions:\n",
    "                    self.design_matrix.at[replicate, col] = 0\n",
    "\n",
    "\n",
    "    def fillNan(self):\n",
    "        for condition in self.conditions:\n",
    "            for replicate in self.samples_dict[condition]['replicates']:\n",
    "                if condition != self.control_name:\n",
    "                    self.design_matrix.at[replicate, condition] = 1\n",
    "        self.design_matrix = self.design_matrix.replace(np.nan,0)\n",
    "\n",
    "    def get_empty_design_matrix(self):\n",
    "        dm_cols_name = ['Samples', 'baseline']\n",
    "        dm_cols_name.extend(list(self.conditions))\n",
    "        self.design_matrix = pd.DataFrame(columns=dm_cols_name)\n",
    "        self.design_matrix['Samples'] = self.replicates\n",
    "        self.design_matrix['baseline'] = 1\n",
    "        self.design_matrix.index = self.replicates\n",
    "\n",
    "        \n",
    "    def create_design_matrix(self):\n",
    "        self.createSamplesSummary()\n",
    "        self.getAllReplicates()\n",
    "        self.get_empty_design_matrix()\n",
    "        self.fillConditions()\n",
    "        self.fillNan()\n",
    "\n",
    "def test():\n",
    "    file = \"../../../data/samples.txt\"\n",
    "    control = \"M07e-J25\"\n",
    "    design = Design(file, control, ['M07e-J4', 'M07e-J25'])\n",
    "    design.create_design_matrix()\n",
    "    return design\n",
    "    \n",
    "design = test()\n",
    "design.design_matrix"
   ]
  },
  {
   "cell_type": "code",
   "execution_count": null,
   "metadata": {},
   "outputs": [],
   "source": [
    "comparaisons = get_all_pairwise_comparaisons(design.samples_dict)\n",
    "comparaisons"
   ]
  },
  {
   "cell_type": "code",
   "execution_count": null,
   "metadata": {},
   "outputs": [],
   "source": [
    "file = \"../../../data/samples.txt\"\n",
    "conditions = list(pd.read_csv(file, sep = \",\").columns)\n",
    "comparaisons = get_all_pairwise_comparaisons(conditions)\n",
    "for comparaison in comparaisons:\n",
    "    control = conditions[comparaison[0]]\n",
    "    treatment = conditions[comparaison[1]]\n",
    "    print(treatment, 'vs', control)\n",
    "    design = Design(file, control, [control, treatment])\n",
    "    design.create_design_matrix()\n",
    "    print(design.design_matrix)\n",
    "    print(\"\\n\")\n"
   ]
  },
  {
   "cell_type": "code",
   "execution_count": null,
   "metadata": {},
   "outputs": [],
   "source": [
    "design.design_matrix.to_csv(\"M07e-J25_vs_M07e-J4_design_matrix.txt\", index=False, sep=\"\\t\")"
   ]
  }
 ],
 "metadata": {
  "kernelspec": {
   "display_name": "Python 3",
   "language": "python",
   "name": "python3"
  },
  "language_info": {
   "codemirror_mode": {
    "name": "ipython",
    "version": 3
   },
   "file_extension": ".py",
   "mimetype": "text/x-python",
   "name": "python",
   "nbconvert_exporter": "python",
   "pygments_lexer": "ipython3",
   "version": "3.9.2"
  }
 },
 "nbformat": 4,
 "nbformat_minor": 4
}
