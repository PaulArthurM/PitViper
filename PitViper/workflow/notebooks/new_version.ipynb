{
 "cells": [
  {
   "cell_type": "code",
   "execution_count": 1,
   "id": "03a26069",
   "metadata": {
    "scrolled": false
   },
   "outputs": [],
   "source": [
    "\n",
    "######## snakemake preamble start (automatically inserted, do not edit) ########\n",
    "import sys; sys.path.extend(['/home/paularthur/miniconda3/envs/pitviper_test/lib/python3.8/site-packages', '/media/paularthur/data/Projets/Screens/PitViper/PitViper/workflow/notebooks']); import pickle; snakemake = pickle.loads(b'\\x80\\x04\\x953\\x11\\x00\\x00\\x00\\x00\\x00\\x00\\x8c\\x10snakemake.script\\x94\\x8c\\tSnakemake\\x94\\x93\\x94)\\x81\\x94}\\x94(\\x8c\\x05input\\x94\\x8c\\x0csnakemake.io\\x94\\x8c\\nInputFiles\\x94\\x93\\x94)\\x81\\x94(\\x8c<results/shRNA_6jan/BAGEL/J11_vs_J4/J11_vs_J4_BAGEL_output.bf\\x94\\x8cGresults/shRNA_6jan/BAGEL/J11_vs_J4/J11_vs_J4_bagel_essentials_genes.txt\\x94\\x8cGresults/shRNA_6jan/BAGEL/J11_vs_J4/J11_vs_J4_bagel_essentials_genes.txt\\x94\\x8cJresults/shRNA_6jan/BAGEL/J11_vs_J4/J11_vs_J4_bagel_nonessentials_genes.txt\\x94\\x8cBresults/shRNA_6jan/MAGeCK_MLE/J11_vs_J4/J11_vs_J4.gene_summary.txt\\x94\\x8cBresults/shRNA_6jan/MAGeCK_RRA/J11_vs_J4/J11_vs_J4.gene_summary.txt\\x94\\x8c7results/shRNA_6jan/CRISPhieRmix/J11_vs_J4/J11_vs_J4.txt\\x94\\x8cKresults/shRNA_6jan/GSEA-like/J11_vs_J4/J11_vs_J4_all-elements_GSEA-like.txt\\x94\\x8cPresults/shRNA_6jan/in_house_method/J11_vs_J4/J11_vs_J4_all-elements_in-house.txt\\x94\\x8c0resources/shRNA_6jan/screen.count_normalized.txt\\x94\\x8c<results/shRNA_6jan/BAGEL/J18_vs_J4/J18_vs_J4_BAGEL_output.bf\\x94\\x8cGresults/shRNA_6jan/BAGEL/J18_vs_J4/J18_vs_J4_bagel_essentials_genes.txt\\x94\\x8cGresults/shRNA_6jan/BAGEL/J18_vs_J4/J18_vs_J4_bagel_essentials_genes.txt\\x94\\x8cJresults/shRNA_6jan/BAGEL/J18_vs_J4/J18_vs_J4_bagel_nonessentials_genes.txt\\x94\\x8cBresults/shRNA_6jan/MAGeCK_MLE/J18_vs_J4/J18_vs_J4.gene_summary.txt\\x94\\x8cBresults/shRNA_6jan/MAGeCK_RRA/J18_vs_J4/J18_vs_J4.gene_summary.txt\\x94\\x8c7results/shRNA_6jan/CRISPhieRmix/J18_vs_J4/J18_vs_J4.txt\\x94\\x8cKresults/shRNA_6jan/GSEA-like/J18_vs_J4/J18_vs_J4_all-elements_GSEA-like.txt\\x94\\x8cPresults/shRNA_6jan/in_house_method/J18_vs_J4/J18_vs_J4_all-elements_in-house.txt\\x94\\x8c0resources/shRNA_6jan/screen.count_normalized.txt\\x94\\x8c<results/shRNA_6jan/BAGEL/J25_vs_J4/J25_vs_J4_BAGEL_output.bf\\x94\\x8cGresults/shRNA_6jan/BAGEL/J25_vs_J4/J25_vs_J4_bagel_essentials_genes.txt\\x94\\x8cGresults/shRNA_6jan/BAGEL/J25_vs_J4/J25_vs_J4_bagel_essentials_genes.txt\\x94\\x8cJresults/shRNA_6jan/BAGEL/J25_vs_J4/J25_vs_J4_bagel_nonessentials_genes.txt\\x94\\x8cBresults/shRNA_6jan/MAGeCK_MLE/J25_vs_J4/J25_vs_J4.gene_summary.txt\\x94\\x8cBresults/shRNA_6jan/MAGeCK_RRA/J25_vs_J4/J25_vs_J4.gene_summary.txt\\x94\\x8c7results/shRNA_6jan/CRISPhieRmix/J25_vs_J4/J25_vs_J4.txt\\x94\\x8cKresults/shRNA_6jan/GSEA-like/J25_vs_J4/J25_vs_J4_all-elements_GSEA-like.txt\\x94\\x8cPresults/shRNA_6jan/in_house_method/J25_vs_J4/J25_vs_J4_all-elements_in-house.txt\\x94\\x8c0resources/shRNA_6jan/screen.count_normalized.txt\\x94e}\\x94(\\x8c\\x06_names\\x94}\\x94\\x8c\\x12_allowed_overrides\\x94]\\x94(\\x8c\\x05index\\x94\\x8c\\x04sort\\x94eh-\\x8c\\tfunctools\\x94\\x8c\\x07partial\\x94\\x93\\x94h\\x06\\x8c\\x19Namedlist._used_attribute\\x94\\x93\\x94\\x85\\x94R\\x94(h3)}\\x94\\x8c\\x05_name\\x94h-sNt\\x94bh.h1h3\\x85\\x94R\\x94(h3)}\\x94h7h.sNt\\x94bub\\x8c\\x06output\\x94h\\x06\\x8c\\x0bOutputFiles\\x94\\x93\\x94)\\x81\\x94\\x8c(results/shRNA_6jan/ExecutionComplete.txt\\x94a}\\x94(h)}\\x94h+]\\x94(h-h.eh-h1h3\\x85\\x94R\\x94(h3)}\\x94h7h-sNt\\x94bh.h1h3\\x85\\x94R\\x94(h3)}\\x94h7h.sNt\\x94bub\\x8c\\x06params\\x94h\\x06\\x8c\\x06Params\\x94\\x93\\x94)\\x81\\x94\\x8c\\nshRNA_6jan\\x94a}\\x94(h)}\\x94h+]\\x94(h-h.eh-h1h3\\x85\\x94R\\x94(h3)}\\x94h7h-sNt\\x94bh.h1h3\\x85\\x94R\\x94(h3)}\\x94h7h.sNt\\x94bub\\x8c\\twildcards\\x94h\\x06\\x8c\\tWildcards\\x94\\x93\\x94)\\x81\\x94}\\x94(h)}\\x94h+]\\x94(h-h.eh-h1h3\\x85\\x94R\\x94(h3)}\\x94h7h-sNt\\x94bh.h1h3\\x85\\x94R\\x94(h3)}\\x94h7h.sNt\\x94bub\\x8c\\x07threads\\x94K\\x01\\x8c\\tresources\\x94h\\x06\\x8c\\tResources\\x94\\x93\\x94)\\x81\\x94(K\\x01K\\x01\\x8c\\x04/tmp\\x94e}\\x94(h)}\\x94(\\x8c\\x06_cores\\x94K\\x00N\\x86\\x94\\x8c\\x06_nodes\\x94K\\x01N\\x86\\x94\\x8c\\x06tmpdir\\x94K\\x02N\\x86\\x94uh+]\\x94(h-h.eh-h1h3\\x85\\x94R\\x94(h3)}\\x94h7h-sNt\\x94bh.h1h3\\x85\\x94R\\x94(h3)}\\x94h7h.sNt\\x94bhtK\\x01hvK\\x01hxhqub\\x8c\\x03log\\x94h\\x06\\x8c\\x03Log\\x94\\x93\\x94)\\x81\\x94\\x8c\\x1fresults/shRNA_6jan/Report.ipynb\\x94a}\\x94(h)}\\x94\\x8c\\x08notebook\\x94K\\x00N\\x86\\x94sh+]\\x94(h-h.eh-h1h3\\x85\\x94R\\x94(h3)}\\x94h7h-sNt\\x94bh.h1h3\\x85\\x94R\\x94(h3)}\\x94h7h.sNt\\x94bh\\x8ah\\x87ub\\x8c\\x06config\\x94}\\x94(\\x8c\\x0ebagel_activate\\x94\\x8c\\x04True\\x94\\x8c\\x0fbowtie_activate\\x94\\x8c\\x05False\\x94\\x8c\\x15bowtie_mapping_method\\x94\\x8c\\x0b--sensitive\\x94\\x8c\\x10count_table_file\\x94\\x8c%resources/shRNA_6jan/screen.count.txt\\x94\\x8c\\x15crisphiermix_activate\\x94\\x8c\\x04True\\x94\\x8c\\nessentials\\x94\\x8c,resources/shRNA_6jan/training_essentials.txt\\x94\\x8c\\x12filtering_activate\\x94\\x8c\\x04True\\x94\\x8c\\rgsea_activate\\x94\\x8c\\x04True\\x94\\x8c\\x04jobs\\x94\\x8c\\x018\\x94\\x8c\\x10length_3_adapter\\x94\\x8c\\x0210\\x94\\x8c\\x10length_5_adapter\\x94\\x8c\\x0220\\x94\\x8c\\x0clibrary_file\\x94\\x8c#resources/shRNA_6jan/sh_epi_lib.csv\\x94\\x8c\\x0emageck_count_N\\x94\\x8c\\x05False\\x94\\x8c\\x15mageck_count_activate\\x94\\x8c\\x05False\\x94\\x8c\\x16mageck_count_all_align\\x94\\x8c\\x05False\\x94\\x8c\\x13mageck_count_length\\x94\\x8c\\x0220\\x94\\x8c\\x1amageck_count_normalization\\x94\\x8c\\x05total\\x94\\x8c\\x10mageck_count_pdf\\x94\\x8c\\x05False\\x94\\x8c\\x15mageck_count_rev_comp\\x94\\x8c\\x05False\\x94\\x8c\\x13mageck_mle_activate\\x94\\x8c\\x04True\\x94\\x8c\\x0emageck_mle_adj\\x94\\x8c\\x03fdr\\x94\\x8c\\x13mageck_mle_mean_var\\x94\\x8c\\x010\\x94\\x8c\\x18mageck_mle_normalization\\x94\\x8c\\x05total\\x94\\x8c\\x13mageck_mle_outliers\\x94\\x8c\\x05False\\x94\\x8c\\x11mageck_mle_perm_N\\x94\\x8c\\x012\\x94\\x8c\\x13mageck_mle_perm_all\\x94\\x8c\\x05False\\x94\\x8c\\x0emageck_rra_LFC\\x94\\x8c\\x06median\\x94\\x8c\\x13mageck_rra_activate\\x94\\x8c\\x04True\\x94\\x8c\\x0emageck_rra_adj\\x94\\x8c\\x03fdr\\x94\\x8c\\x14mageck_rra_count_min\\x94h\\xc2\\x8c\\x13mageck_rra_criteria\\x94\\x8c\\x03neg\\x94\\x8c\\x15mageck_rra_pthreshold\\x94\\x8c\\x040.25\\x94\\x8c\\x11mageck_rra_remove\\x94\\x8c\\x04both\\x94\\x8c\\rnonessentials\\x94\\x8c.resources/shRNA_6jan/training_nonessential.txt\\x94\\x8c\\x16normalized_count_table\\x94\\x8c0resources/shRNA_6jan/screen.count_normalized.txt\\x94\\x8c\\x0bscreen_type\\x94\\x8c\\x07is_gene\\x94\\x8c\\nstart_from\\x94\\x8c\\x05count\\x94\\x8c\\x05token\\x94hQ\\x8c\\x08tsv_file\\x94\\x8c\\x1fresources/shRNA_6jan/design.tsv\\x94u\\x8c\\x04rule\\x94\\x8c\\x11genes_integration\\x94\\x8c\\x0fbench_iteration\\x94N\\x8c\\tscriptdir\\x94\\x8cK/media/paularthur/data/Projets/Screens/PitViper/PitViper/workflow/notebooks\\x94ub.'); from snakemake.logging import logger; logger.printshellcmds = False; import os; os.chdir(r'/media/paularthur/data/Projets/Screens/PitViper/PitViper');\n",
    "######## snakemake preamble end #########\n"
   ]
  },
  {
   "cell_type": "markdown",
   "id": "6b4a8374",
   "metadata": {},
   "source": [
    "# Titre Niveau 1\n",
    "\n",
    "## Titre Niveau 2\n",
    "\n",
    "Texte\n",
    "\n",
    "**Bold**"
   ]
  },
  {
   "cell_type": "code",
   "execution_count": 2,
   "id": "91b041a7",
   "metadata": {
    "scrolled": false
   },
   "outputs": [],
   "source": [
    "# %%javascript\n",
    "# IPython.OutputArea.auto_scroll_threshold = 1000"
   ]
  },
  {
   "cell_type": "code",
   "execution_count": 3,
   "id": "d5a2fa60",
   "metadata": {
    "scrolled": false
   },
   "outputs": [
    {
     "name": "stdout",
     "output_type": "stream",
     "text": [
      ">> clustergrammer2 backend version 0.18.0\n"
     ]
    },
    {
     "name": "stderr",
     "output_type": "stream",
     "text": [
      "R[write to console]: snapshotDate(): 2021-10-19\n",
      "\n"
     ]
    },
    {
     "name": "stdout",
     "output_type": "stream",
     "text": [
      "Working directory:  /media/paularthur/data/Projets/Screens/PitViper/PitViper\n"
     ]
    }
   ],
   "source": [
    "# Load necessary libraries\n",
    "import sys\n",
    "import os\n",
    "\n",
    "# Load PitViper functions\n",
    "modules_path = ['workflow/notebooks/', \"../../../workflow/notebooks/\"]\n",
    "for module in modules_path:\n",
    "    module_path = os.path.abspath(os.path.join(module))\n",
    "    if module_path not in sys.path:\n",
    "        sys.path.append(module_path)\n",
    "\n",
    "from functions_pitviper_report import * \n",
    "\n",
    "# Change working directory\n",
    "working_directory_update(snakemake.output[0])\n",
    "\n",
    "# Initialize token\n",
    "token = snakemake.params"
   ]
  },
  {
   "cell_type": "code",
   "execution_count": 4,
   "id": "b9915631",
   "metadata": {
    "scrolled": false
   },
   "outputs": [
    {
     "name": "stdout",
     "output_type": "stream",
     "text": [
      "Token: shRNA_6jan\n",
      "\n",
      "Config file used: ./config/shRNA_6jan.yaml\n",
      "Results directory: results/shRNA_6jan/ \n",
      "\n",
      "Tools available:\n",
      "\t-DESeq2\n",
      "\t-MAGeCK_MLE\n",
      "\t-MAGeCK_RRA\n",
      "\t-BAGEL\n",
      "\t-CRISPhieRmix\n",
      "\t-in_house_method\n",
      "\t-GSEA-like\n",
      "- Process DESeq2 results...\n",
      "- Process MAGeCK_MLE results...\n",
      "- Process MAGeCK_RRA results...\n",
      "- Process BAGEL results...\n",
      "- Process CRISPhieRmix results...\n",
      "- Process in_house_method results...\n",
      "- Process GSEA-like results...\n"
     ]
    }
   ],
   "source": [
    "results_directory, tools_available = import_results(token)"
   ]
  },
  {
   "cell_type": "code",
   "execution_count": 5,
   "id": "cac30d57",
   "metadata": {
    "scrolled": false
   },
   "outputs": [
    {
     "data": {
      "application/vnd.jupyter.widget-view+json": {
       "model_id": "a436d8d705194f039d4d600b50bc310f",
       "version_major": 2,
       "version_minor": 0
      },
      "text/plain": [
       "Dropdown(description='Tool:', index=1, options=('in_house_method', 'MAGeCK_MLE', 'CRISPhieRmix', 'BAGEL', 'GSE…"
      ]
     },
     "metadata": {},
     "output_type": "display_data"
    },
    {
     "data": {
      "application/vnd.jupyter.widget-view+json": {
       "model_id": "c72a045fe3da4f13beca8ae1e9a975ed",
       "version_major": 2,
       "version_minor": 0
      },
      "text/plain": [
       "Dropdown(description='Comparison:', options=('J11_vs_J4', 'J18_vs_J4', 'J25_vs_J4'), value='J11_vs_J4')"
      ]
     },
     "metadata": {},
     "output_type": "display_data"
    },
    {
     "data": {
      "application/vnd.jupyter.widget-view+json": {
       "model_id": "426ea54c17ba4cb483cf7edd9b153784",
       "version_major": 2,
       "version_minor": 0
      },
      "text/plain": [
       "FloatSlider(value=0.05, max=1.0, step=0.01)"
      ]
     },
     "metadata": {},
     "output_type": "display_data"
    },
    {
     "data": {
      "application/vnd.jupyter.widget-view+json": {
       "model_id": "c35b2eba9f534708b68507bc8c079855",
       "version_major": 2,
       "version_minor": 0
      },
      "text/plain": [
       "ColorPicker(value='red', description='Pick a color')"
      ]
     },
     "metadata": {},
     "output_type": "display_data"
    },
    {
     "data": {
      "application/vnd.jupyter.widget-view+json": {
       "model_id": "c2dbe7b7d17c4b45846bc389a87ef467",
       "version_major": 2,
       "version_minor": 0
      },
      "text/plain": [
       "ColorPicker(value='gray', description='Pick a color')"
      ]
     },
     "metadata": {},
     "output_type": "display_data"
    },
    {
     "data": {
      "application/vnd.jupyter.widget-view+json": {
       "model_id": "4ad1e799eb7248e89745830bd49edf63",
       "version_major": 2,
       "version_minor": 0
      },
      "text/plain": [
       "Button(description='Click!', style=ButtonStyle())"
      ]
     },
     "metadata": {},
     "output_type": "display_data"
    }
   ],
   "source": [
    "snake_plot_update(results_directory, tools_available)"
   ]
  },
  {
   "cell_type": "code",
   "execution_count": 6,
   "id": "f92d8c2c",
   "metadata": {
    "scrolled": false
   },
   "outputs": [
    {
     "data": {
      "application/vnd.jupyter.widget-view+json": {
       "model_id": "21433a03e05947f0a7488f40634d7887",
       "version_major": 2,
       "version_minor": 0
      },
      "text/plain": [
       "Combobox(value='ATN1', description='Element:', ensure_option=True, options=('ATN1', 'CSNK2A1', 'INO80D', 'ARID…"
      ]
     },
     "metadata": {},
     "output_type": "display_data"
    },
    {
     "data": {
      "application/vnd.jupyter.widget-view+json": {
       "model_id": "f937149600e440f9af652d1524300245",
       "version_major": 2,
       "version_minor": 0
      },
      "text/plain": [
       "TagsInput(value=['M07e-J4-1', 'M07e-J4-2', 'M07e-J4-3', 'M07e-J11-1', 'M07e-J11-2', 'M07e-J11-3', 'M07e-J18-1'…"
      ]
     },
     "metadata": {},
     "output_type": "display_data"
    },
    {
     "data": {
      "application/vnd.jupyter.widget-view+json": {
       "model_id": "641f47103ab64b1e889abcf93c3489d3",
       "version_major": 2,
       "version_minor": 0
      },
      "text/plain": [
       "Button(description='Show sgRNA counts...', style=ButtonStyle())"
      ]
     },
     "metadata": {},
     "output_type": "display_data"
    }
   ],
   "source": [
    "show_sgRNA_counts(token)"
   ]
  },
  {
   "cell_type": "code",
   "execution_count": 7,
   "id": "da5cc92e",
   "metadata": {},
   "outputs": [
    {
     "data": {
      "application/vnd.jupyter.widget-view+json": {
       "model_id": "4f41534086844f91afec490f003a25f3",
       "version_major": 2,
       "version_minor": 0
      },
      "text/plain": [
       "Combobox(value='ATN1', description='Element:', ensure_option=True, options=('ATN1', 'CSNK2A1', 'INO80D', 'ARID…"
      ]
     },
     "metadata": {},
     "output_type": "display_data"
    },
    {
     "data": {
      "application/vnd.jupyter.widget-view+json": {
       "model_id": "714c334082d5442d9b131adcb1a85d92",
       "version_major": 2,
       "version_minor": 0
      },
      "text/plain": [
       "TagsInput(value=['J4', 'J11', 'J18', 'J25'], allow_duplicates=False, allowed_tags=['J4', 'J11', 'J18', 'J25'])"
      ]
     },
     "metadata": {},
     "output_type": "display_data"
    },
    {
     "data": {
      "application/vnd.jupyter.widget-view+json": {
       "model_id": "55123d95c46740ecabf0c280ef868f62",
       "version_major": 2,
       "version_minor": 0
      },
      "text/plain": [
       "Button(description='Show sgRNA counts...', style=ButtonStyle())"
      ]
     },
     "metadata": {},
     "output_type": "display_data"
    }
   ],
   "source": [
    "show_sgRNA_counts_lines(token)"
   ]
  },
  {
   "cell_type": "code",
   "execution_count": 8,
   "id": "99cd29e2",
   "metadata": {},
   "outputs": [
    {
     "data": {
      "application/vnd.jupyter.widget-view+json": {
       "model_id": "19e04ca6037a4a3a95f456a0f407bc4e",
       "version_major": 2,
       "version_minor": 0
      },
      "text/plain": [
       "VBox(children=(Select(options=('MAGeCK_MLE', 'MAGeCK_RRA', 'BAGEL', 'CRISPhieRmix', 'in_house_method', 'GSEA-l…"
      ]
     },
     "metadata": {},
     "output_type": "display_data"
    },
    {
     "data": {
      "application/vnd.jupyter.widget-view+json": {
       "model_id": "953b7c965fed404d9563b40b32e6ab12",
       "version_major": 2,
       "version_minor": 0
      },
      "text/plain": [
       "Button(description='Show plot', style=ButtonStyle())"
      ]
     },
     "metadata": {},
     "output_type": "display_data"
    }
   ],
   "source": [
    "tool_results(results_directory, tools_available)"
   ]
  },
  {
   "cell_type": "code",
   "execution_count": 9,
   "id": "76fc9f87",
   "metadata": {},
   "outputs": [
    {
     "data": {
      "application/vnd.jupyter.widget-view+json": {
       "model_id": "5a9b7f0b150d4469af14c4127f7cefb1",
       "version_major": 2,
       "version_minor": 0
      },
      "text/plain": [
       "VBox(children=(Dropdown(description='Tool:', options=('MAGeCK_MLE', 'MAGeCK_RRA', 'BAGEL', 'CRISPhieRmix', 'in…"
      ]
     },
     "metadata": {},
     "output_type": "display_data"
    }
   ],
   "source": [
    "enrichr_plots(tools_available)"
   ]
  },
  {
   "cell_type": "code",
   "execution_count": 10,
   "id": "e6f7f475",
   "metadata": {},
   "outputs": [
    {
     "data": {
      "application/vnd.jupyter.widget-view+json": {
       "model_id": "2a2a6d7dfd2c47e8ad49dbc46f489da1",
       "version_major": 2,
       "version_minor": 0
      },
      "text/plain": [
       "Dropdown(description='Tool:', options=('MAGeCK_MLE', 'MAGeCK_RRA', 'BAGEL', 'CRISPhieRmix', 'in_house_method',…"
      ]
     },
     "metadata": {},
     "output_type": "display_data"
    },
    {
     "data": {
      "application/vnd.jupyter.widget-view+json": {
       "model_id": "1d32284bce5c4771bde0c59ae4d1a54e",
       "version_major": 2,
       "version_minor": 0
      },
      "text/plain": [
       "Dropdown(description='Condition:', options=('J25_vs_J4', 'J18_vs_J4', 'J11_vs_J4'), value='J25_vs_J4')"
      ]
     },
     "metadata": {},
     "output_type": "display_data"
    },
    {
     "data": {
      "application/vnd.jupyter.widget-view+json": {
       "model_id": "1687a494a99e41829d14fcf24ee30926",
       "version_major": 2,
       "version_minor": 0
      },
      "text/plain": [
       "FloatSlider(value=0.05, description='FDR cut-off:', max=1.0, step=0.01)"
      ]
     },
     "metadata": {},
     "output_type": "display_data"
    },
    {
     "data": {
      "application/vnd.jupyter.widget-view+json": {
       "model_id": "5f8f954fb7b54ec78cfa989111d09f36",
       "version_major": 2,
       "version_minor": 0
      },
      "text/plain": [
       "IntText(value=0, description='Score cut-off:')"
      ]
     },
     "metadata": {},
     "output_type": "display_data"
    },
    {
     "data": {
      "application/vnd.jupyter.widget-view+json": {
       "model_id": "85a3a3df0d2f4f6ab92b571ffcd001cf",
       "version_major": 2,
       "version_minor": 0
      },
      "text/plain": [
       "Button(description='Genemania!', style=ButtonStyle())"
      ]
     },
     "metadata": {},
     "output_type": "display_data"
    }
   ],
   "source": [
    "genemania_link_results(tools_available)"
   ]
  },
  {
   "cell_type": "code",
   "execution_count": 11,
   "id": "b16cc581",
   "metadata": {
    "scrolled": false
   },
   "outputs": [
    {
     "data": {
      "application/vnd.jupyter.widget-view+json": {
       "model_id": "8faa3112fa574de9a80b2ee0b25de752",
       "version_major": 2,
       "version_minor": 0
      },
      "text/plain": [
       "VBox(children=(Dropdown(description='Conditions:', options=('J25_vs_J4', 'J18_vs_J4', 'J11_vs_J4'), value='J25…"
      ]
     },
     "metadata": {},
     "output_type": "display_data"
    },
    {
     "data": {
      "application/vnd.jupyter.widget-view+json": {
       "model_id": "33e38abd18674dfab5be4db1cd1f8849",
       "version_major": 2,
       "version_minor": 0
      },
      "text/plain": [
       "Output()"
      ]
     },
     "metadata": {},
     "output_type": "display_data"
    },
    {
     "data": {
      "application/vnd.jupyter.widget-view+json": {
       "model_id": "e234d9ab81ce43f1a1948c7f88356205",
       "version_major": 2,
       "version_minor": 0
      },
      "text/plain": [
       "HBox(children=(Button(description='Venn diagram', style=ButtonStyle(button_color='#707070')), Button(descripti…"
      ]
     },
     "metadata": {},
     "output_type": "display_data"
    },
    {
     "data": {
      "application/vnd.jupyter.widget-view+json": {
       "model_id": "c3486b4aada845d998e0e49d24a4c8ef",
       "version_major": 2,
       "version_minor": 0
      },
      "text/plain": [
       "RadioButtons(description='Data type:', options=('crispr', 'proteomic', 'rnai', 'tpm', 'mutations'), value='cri…"
      ]
     },
     "metadata": {},
     "output_type": "display_data"
    },
    {
     "data": {
      "application/vnd.jupyter.widget-view+json": {
       "model_id": "2a9029776663447dbea4eba8fc992538",
       "version_major": 2,
       "version_minor": 0
      },
      "text/plain": [
       "Button(description='Query!', style=ButtonStyle())"
      ]
     },
     "metadata": {},
     "output_type": "display_data"
    },
    {
     "name": "stderr",
     "output_type": "stream",
     "text": [
      "/media/paularthur/data/Projets/Screens/PitViper/PitViper/workflow/notebooks/functions_pitviper_report.py:1146: SettingWithCopyWarning: \n",
      "A value is trying to be set on a copy of a slice from a DataFrame.\n",
      "Try using .loc[row_indexer,col_indexer] = value instead\n",
      "\n",
      "See the caveats in the documentation: https://pandas.pydata.org/pandas-docs/stable/user_guide/indexing.html#returning-a-view-versus-a-copy\n",
      "  mle['default_rank'] = mle[treatment + '|beta'].rank(method=\"dense\").copy()\n"
     ]
    },
    {
     "name": "stdout",
     "output_type": "stream",
     "text": [
      "Opening resources/depmap/21Q3_crispr.txt\n"
     ]
    },
    {
     "name": "stderr",
     "output_type": "stream",
     "text": [
      "/home/paularthur/miniconda3/envs/pitviper_test/lib/python3.8/site-packages/ipywidgets/widgets/widget_button.py:97: DtypeWarning: Columns (4,6) have mixed types.Specify dtype option on import or set low_memory=False.\n",
      "  self._click_handlers(self)\n"
     ]
    },
    {
     "data": {
      "application/vnd.jupyter.widget-view+json": {
       "model_id": "ff00bb16ec554e09ad2da4d878f0c6fd",
       "version_major": 2,
       "version_minor": 0
      },
      "text/plain": [
       "SelectMultiple(description='Tissu:', index=(0,), options=('All', 'OVARY', 'SKIN_CJ2_RESISTANT', 'LUNG', 'SOFT_…"
      ]
     },
     "metadata": {},
     "output_type": "display_data"
    },
    {
     "data": {
      "application/vnd.jupyter.widget-view+json": {
       "model_id": "129b8929166b43c1b27863a3b5254c68",
       "version_major": 2,
       "version_minor": 0
      },
      "text/plain": [
       "SelectMultiple(description='Primary tissu:', index=(0,), options=('All', 'Eye Cancer', 'Bile Duct Cancer', 'Ce…"
      ]
     },
     "metadata": {},
     "output_type": "display_data"
    },
    {
     "data": {
      "application/vnd.jupyter.widget-view+json": {
       "model_id": "1e1d7f3d08e74d27a9dbe30e3cca7da3",
       "version_major": 2,
       "version_minor": 0
      },
      "text/plain": [
       "SelectMultiple(description='Cell line:', index=(0,), options=('All', '8-MG-BA', '21NT', '22Rv1', '42-MG-BA', '…"
      ]
     },
     "metadata": {},
     "output_type": "display_data"
    },
    {
     "data": {
      "application/vnd.jupyter.widget-view+json": {
       "model_id": "4816ad7a749147fc92a6e69e042bcd88",
       "version_major": 2,
       "version_minor": 0
      },
      "text/plain": [
       "Button(description='Run!', style=ButtonStyle())"
      ]
     },
     "metadata": {},
     "output_type": "display_data"
    },
    {
     "name": "stdout",
     "output_type": "stream",
     "text": [
      "Please wait!\n"
     ]
    },
    {
     "data": {
      "application/vnd.jupyter.widget-view+json": {
       "model_id": "30afa49f497a439589df7b2f30451d70",
       "version_major": 2,
       "version_minor": 0
      },
      "text/plain": [
       "CGM2(network='{\"row_nodes\": [{\"name\": \"ACTB\", \"ini\": 118, \"clust\": 34, \"rank\": 82, \"rankvar\": 64}, {\"name\": \"A…"
      ]
     },
     "metadata": {},
     "output_type": "display_data"
    }
   ],
   "source": [
    "multiple_tools_results(tools_available, token)"
   ]
  },
  {
   "cell_type": "code",
   "execution_count": 12,
   "id": "fc997398",
   "metadata": {},
   "outputs": [],
   "source": [
    "# call_form(tools_available)"
   ]
  }
 ],
 "metadata": {
  "kernelspec": {
   "display_name": "Python 3",
   "language": "python",
   "name": "python3"
  },
  "language_info": {
   "codemirror_mode": {
    "name": "ipython",
    "version": 3
   },
   "file_extension": ".py",
   "mimetype": "text/x-python",
   "name": "python",
   "nbconvert_exporter": "python",
   "pygments_lexer": "ipython3",
   "version": "3.8.5"
  }
 },
 "nbformat": 4,
 "nbformat_minor": 5
}
