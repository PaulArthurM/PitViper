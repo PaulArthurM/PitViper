{
 "cells": [
  {
   "cell_type": "code",
   "execution_count": 1,
   "id": "b12561b2",
   "metadata": {
    "scrolled": false
   },
   "outputs": [],
   "source": [
    "\n",
    "######## snakemake preamble start (automatically inserted, do not edit) ########\n",
    "import sys; sys.path.extend(['/home/meslin/miniconda3/envs/pitviper_test/lib/python3.8/site-packages', '/home/meslin/PitViper/PitViper/workflow/notebooks']); import pickle; snakemake = pickle.loads(b'\\x80\\x04\\x95\\xef\\x0c\\x00\\x00\\x00\\x00\\x00\\x00\\x8c\\x10snakemake.script\\x94\\x8c\\tSnakemake\\x94\\x93\\x94)\\x81\\x94}\\x94(\\x8c\\x05input\\x94\\x8c\\x0csnakemake.io\\x94\\x8c\\nInputFiles\\x94\\x93\\x94)\\x81\\x94(\\x8cAresults/test_5jan/MAGeCK_MLE/J11_vs_J4/J11_vs_J4.gene_summary.txt\\x94\\x8cAresults/test_5jan/MAGeCK_RRA/J11_vs_J4/J11_vs_J4.gene_summary.txt\\x94\\x8c6results/test_5jan/CRISPhieRmix/J11_vs_J4/J11_vs_J4.txt\\x94\\x8cJresults/test_5jan/GSEA-like/J11_vs_J4/J11_vs_J4_all-elements_GSEA-like.txt\\x94\\x8cOresults/test_5jan/in_house_method/J11_vs_J4/J11_vs_J4_all-elements_in-house.txt\\x94\\x8c/resources/test_5jan/screen.count_normalized.txt\\x94\\x8cAresults/test_5jan/MAGeCK_MLE/J18_vs_J4/J18_vs_J4.gene_summary.txt\\x94\\x8cAresults/test_5jan/MAGeCK_RRA/J18_vs_J4/J18_vs_J4.gene_summary.txt\\x94\\x8c6results/test_5jan/CRISPhieRmix/J18_vs_J4/J18_vs_J4.txt\\x94\\x8cJresults/test_5jan/GSEA-like/J18_vs_J4/J18_vs_J4_all-elements_GSEA-like.txt\\x94\\x8cOresults/test_5jan/in_house_method/J18_vs_J4/J18_vs_J4_all-elements_in-house.txt\\x94\\x8c/resources/test_5jan/screen.count_normalized.txt\\x94\\x8cAresults/test_5jan/MAGeCK_MLE/J25_vs_J4/J25_vs_J4.gene_summary.txt\\x94\\x8cAresults/test_5jan/MAGeCK_RRA/J25_vs_J4/J25_vs_J4.gene_summary.txt\\x94\\x8c6results/test_5jan/CRISPhieRmix/J25_vs_J4/J25_vs_J4.txt\\x94\\x8cJresults/test_5jan/GSEA-like/J25_vs_J4/J25_vs_J4_all-elements_GSEA-like.txt\\x94\\x8cOresults/test_5jan/in_house_method/J25_vs_J4/J25_vs_J4_all-elements_in-house.txt\\x94\\x8c/resources/test_5jan/screen.count_normalized.txt\\x94e}\\x94(\\x8c\\x06_names\\x94}\\x94\\x8c\\x12_allowed_overrides\\x94]\\x94(\\x8c\\x05index\\x94\\x8c\\x04sort\\x94eh!\\x8c\\tfunctools\\x94\\x8c\\x07partial\\x94\\x93\\x94h\\x06\\x8c\\x19Namedlist._used_attribute\\x94\\x93\\x94\\x85\\x94R\\x94(h\\')}\\x94\\x8c\\x05_name\\x94h!sNt\\x94bh\"h%h\\'\\x85\\x94R\\x94(h\\')}\\x94h+h\"sNt\\x94bub\\x8c\\x06output\\x94h\\x06\\x8c\\x0bOutputFiles\\x94\\x93\\x94)\\x81\\x94\\x8c\\'results/test_5jan/ExecutionComplete.txt\\x94a}\\x94(h\\x1d}\\x94h\\x1f]\\x94(h!h\"eh!h%h\\'\\x85\\x94R\\x94(h\\')}\\x94h+h!sNt\\x94bh\"h%h\\'\\x85\\x94R\\x94(h\\')}\\x94h+h\"sNt\\x94bub\\x8c\\x06params\\x94h\\x06\\x8c\\x06Params\\x94\\x93\\x94)\\x81\\x94\\x8c\\ttest_5jan\\x94a}\\x94(h\\x1d}\\x94h\\x1f]\\x94(h!h\"eh!h%h\\'\\x85\\x94R\\x94(h\\')}\\x94h+h!sNt\\x94bh\"h%h\\'\\x85\\x94R\\x94(h\\')}\\x94h+h\"sNt\\x94bub\\x8c\\twildcards\\x94h\\x06\\x8c\\tWildcards\\x94\\x93\\x94)\\x81\\x94}\\x94(h\\x1d}\\x94h\\x1f]\\x94(h!h\"eh!h%h\\'\\x85\\x94R\\x94(h\\')}\\x94h+h!sNt\\x94bh\"h%h\\'\\x85\\x94R\\x94(h\\')}\\x94h+h\"sNt\\x94bub\\x8c\\x07threads\\x94K\\x01\\x8c\\tresources\\x94h\\x06\\x8c\\tResources\\x94\\x93\\x94)\\x81\\x94(K\\x01K\\x01\\x8c\\x04/tmp\\x94e}\\x94(h\\x1d}\\x94(\\x8c\\x06_cores\\x94K\\x00N\\x86\\x94\\x8c\\x06_nodes\\x94K\\x01N\\x86\\x94\\x8c\\x06tmpdir\\x94K\\x02N\\x86\\x94uh\\x1f]\\x94(h!h\"eh!h%h\\'\\x85\\x94R\\x94(h\\')}\\x94h+h!sNt\\x94bh\"h%h\\'\\x85\\x94R\\x94(h\\')}\\x94h+h\"sNt\\x94bhhK\\x01hjK\\x01hlheub\\x8c\\x03log\\x94h\\x06\\x8c\\x03Log\\x94\\x93\\x94)\\x81\\x94\\x8c\\x1eresults/test_5jan/Report.ipynb\\x94a}\\x94(h\\x1d}\\x94\\x8c\\x08notebook\\x94K\\x00N\\x86\\x94sh\\x1f]\\x94(h!h\"eh!h%h\\'\\x85\\x94R\\x94(h\\')}\\x94h+h!sNt\\x94bh\"h%h\\'\\x85\\x94R\\x94(h\\')}\\x94h+h\"sNt\\x94bh~h{ub\\x8c\\x06config\\x94}\\x94(\\x8c\\x0ebagel_activate\\x94\\x8c\\x05False\\x94\\x8c\\x0fbowtie_activate\\x94\\x8c\\x05False\\x94\\x8c\\x10count_table_file\\x94\\x8c!resources/test_5jan/all.count.txt\\x94\\x8c\\x15crisphiermix_activate\\x94\\x8c\\x04True\\x94\\x8c\\nessentials\\x94\\x8c\\x00\\x94\\x8c\\x12filtering_activate\\x94\\x8c\\x04True\\x94\\x8c\\rgsea_activate\\x94\\x8c\\x04True\\x94\\x8c\\x10length_3_adapter\\x94\\x8c\\x0210\\x94\\x8c\\x10length_5_adapter\\x94\\x8c\\x0220\\x94\\x8c\\x0clibrary_file\\x94h\\x94\\x8c\\x0emageck_count_N\\x94\\x8c\\x05False\\x94\\x8c\\x15mageck_count_activate\\x94\\x8c\\x05False\\x94\\x8c\\x16mageck_count_all_align\\x94\\x8c\\x05False\\x94\\x8c\\x13mageck_count_length\\x94\\x8c\\x0220\\x94\\x8c\\x1amageck_count_normalization\\x94\\x8c\\x05total\\x94\\x8c\\x10mageck_count_pdf\\x94\\x8c\\x05False\\x94\\x8c\\x15mageck_count_rev_comp\\x94\\x8c\\x05False\\x94\\x8c\\x13mageck_mle_activate\\x94\\x8c\\x04True\\x94\\x8c\\x0emageck_mle_adj\\x94\\x8c\\x03fdr\\x94\\x8c\\x13mageck_mle_mean_var\\x94\\x8c\\x010\\x94\\x8c\\x18mageck_mle_normalization\\x94\\x8c\\x05total\\x94\\x8c\\x13mageck_mle_outliers\\x94\\x8c\\x05False\\x94\\x8c\\x11mageck_mle_perm_N\\x94\\x8c\\x012\\x94\\x8c\\x13mageck_mle_perm_all\\x94\\x8c\\x05False\\x94\\x8c\\x0emageck_rra_LFC\\x94\\x8c\\x06median\\x94\\x8c\\x13mageck_rra_activate\\x94\\x8c\\x04True\\x94\\x8c\\x0emageck_rra_adj\\x94\\x8c\\x03fdr\\x94\\x8c\\x14mageck_rra_count_min\\x94h\\xb1\\x8c\\x13mageck_rra_criteria\\x94\\x8c\\x03neg\\x94\\x8c\\x15mageck_rra_pthreshold\\x94\\x8c\\x040.25\\x94\\x8c\\x11mageck_rra_remove\\x94\\x8c\\x04both\\x94\\x8c\\rnonessentials\\x94h\\x94\\x8c\\x16normalized_count_table\\x94\\x8c/resources/test_5jan/screen.count_normalized.txt\\x94\\x8c\\x0bscreen_type\\x94\\x8c\\x07is_gene\\x94\\x8c\\nstart_from\\x94\\x8c\\x05count\\x94\\x8c\\x05token\\x94hE\\x8c\\x08tsv_file\\x94\\x8c\\x1eresources/test_5jan/design.tsv\\x94u\\x8c\\x04rule\\x94\\x8c\\x11genes_integration\\x94\\x8c\\x0fbench_iteration\\x94N\\x8c\\tscriptdir\\x94\\x8c1/home/meslin/PitViper/PitViper/workflow/notebooks\\x94ub.'); from snakemake.logging import logger; logger.printshellcmds = False; import os; os.chdir(r'/home/meslin/PitViper/PitViper');\n",
    "######## snakemake preamble end #########\n"
   ]
  },
  {
   "cell_type": "markdown",
   "id": "1dbba259",
   "metadata": {},
   "source": [
    "# Titre Niveau 1\n",
    "\n",
    "## Titre Niveau 2\n",
    "\n",
    "Texte\n",
    "\n",
    "**Bold**"
   ]
  },
  {
   "cell_type": "code",
   "execution_count": 2,
   "id": "f8f69f3a",
   "metadata": {
    "scrolled": false
   },
   "outputs": [
    {
     "data": {
      "application/javascript": [
       "IPython.OutputArea.auto_scroll_threshold = 9999;\n"
      ],
      "text/plain": [
       "<IPython.core.display.Javascript object>"
      ]
     },
     "metadata": {},
     "output_type": "display_data"
    }
   ],
   "source": [
    "%%javascript\n",
    "IPython.OutputArea.auto_scroll_threshold = 9999;"
   ]
  },
  {
   "cell_type": "code",
   "execution_count": 3,
   "id": "18e97896",
   "metadata": {
    "scrolled": false
   },
   "outputs": [
    {
     "name": "stdout",
     "output_type": "stream",
     "text": [
      ">> clustergrammer2 backend version 0.18.0\n",
      "Working directory:  /home/meslin/PitViper/PitViper\n"
     ]
    }
   ],
   "source": [
    "# Load necessary libraries\n",
    "import sys\n",
    "import os\n",
    "\n",
    "# Load PitViper functions\n",
    "modules_path = ['workflow/notebooks/', \"../../../workflow/notebooks/\"]\n",
    "for module in modules_path:\n",
    "    module_path = os.path.abspath(os.path.join(module))\n",
    "    if module_path not in sys.path:\n",
    "        sys.path.append(module_path)\n",
    "\n",
    "from functions_pitviper_report import * \n",
    "\n",
    "# Change working directory\n",
    "working_directory_update(snakemake.output[0])\n",
    "\n",
    "# Initialize token\n",
    "token = snakemake.params"
   ]
  },
  {
   "cell_type": "code",
   "execution_count": 4,
   "id": "7baa0b87",
   "metadata": {
    "scrolled": false
   },
   "outputs": [
    {
     "name": "stdout",
     "output_type": "stream",
     "text": [
      "Token: test_5jan\n",
      "\n",
      "Config file used: ./config/test_5jan.yaml\n",
      "Results directory: results/test_5jan/ \n",
      "\n",
      "Tools available:\n",
      "\t-DESeq2\n",
      "\t-MAGeCK_MLE\n",
      "\t-MAGeCK_RRA\n",
      "\t-CRISPhieRmix\n",
      "\t-in_house_method\n",
      "\t-GSEA-like\n",
      "- Process DESeq2 results...\n",
      "- Process MAGeCK_MLE results...\n",
      "- Process MAGeCK_RRA results...\n",
      "- Process CRISPhieRmix results...\n",
      "- Process in_house_method results...\n",
      "- Process GSEA-like results...\n"
     ]
    }
   ],
   "source": [
    "results_directory, tools_available = import_results(token)"
   ]
  },
  {
   "cell_type": "code",
   "execution_count": 5,
   "id": "43bb406e",
   "metadata": {
    "scrolled": false
   },
   "outputs": [
    {
     "data": {
      "application/vnd.jupyter.widget-view+json": {
       "model_id": "11a902e0f4ba471798d4c23deb7a2c63",
       "version_major": 2,
       "version_minor": 0
      },
      "text/plain": [
       "Dropdown(description='Tool:', index=4, options=('CRISPhieRmix', 'MAGeCK_RRA', 'in_house_method', 'GSEA-like', …"
      ]
     },
     "metadata": {},
     "output_type": "display_data"
    },
    {
     "data": {
      "application/vnd.jupyter.widget-view+json": {
       "model_id": "7a200849921b4aed9c6c7b1dc58992bc",
       "version_major": 2,
       "version_minor": 0
      },
      "text/plain": [
       "Dropdown(description='Comparison:', options=('J18_vs_J4', 'J11_vs_J4', 'J25_vs_J4'), value='J18_vs_J4')"
      ]
     },
     "metadata": {},
     "output_type": "display_data"
    },
    {
     "data": {
      "application/vnd.jupyter.widget-view+json": {
       "model_id": "8cb4bcb07d074e76924f1231e4818076",
       "version_major": 2,
       "version_minor": 0
      },
      "text/plain": [
       "FloatSlider(value=0.05, max=1.0, step=0.01)"
      ]
     },
     "metadata": {},
     "output_type": "display_data"
    },
    {
     "data": {
      "application/vnd.jupyter.widget-view+json": {
       "model_id": "688bc16328164b579dfcda20d4b87a69",
       "version_major": 2,
       "version_minor": 0
      },
      "text/plain": [
       "ColorPicker(value='red', description='Pick a color')"
      ]
     },
     "metadata": {},
     "output_type": "display_data"
    },
    {
     "data": {
      "application/vnd.jupyter.widget-view+json": {
       "model_id": "9b7ffbebf8524acfa8b9d145821f3120",
       "version_major": 2,
       "version_minor": 0
      },
      "text/plain": [
       "ColorPicker(value='gray', description='Pick a color')"
      ]
     },
     "metadata": {},
     "output_type": "display_data"
    },
    {
     "data": {
      "application/vnd.jupyter.widget-view+json": {
       "model_id": "1fcc78962b274dfd8deae1736299c9cb",
       "version_major": 2,
       "version_minor": 0
      },
      "text/plain": [
       "Button(description='Click!', style=ButtonStyle())"
      ]
     },
     "metadata": {},
     "output_type": "display_data"
    }
   ],
   "source": [
    "snake_plot_update(results_directory, tools_available)"
   ]
  },
  {
   "cell_type": "code",
   "execution_count": 6,
   "id": "6adeef94",
   "metadata": {
    "scrolled": false
   },
   "outputs": [
    {
     "data": {
      "application/vnd.jupyter.widget-view+json": {
       "model_id": "059b8d94320a461c80f3f2ba634aaea1",
       "version_major": 2,
       "version_minor": 0
      },
      "text/plain": [
       "Text(value='', description='Element:', placeholder='Element:')"
      ]
     },
     "metadata": {},
     "output_type": "display_data"
    },
    {
     "data": {
      "application/vnd.jupyter.widget-view+json": {
       "model_id": "f01e4f1a372644c6b7c0a77e3d191adb",
       "version_major": 2,
       "version_minor": 0
      },
      "text/plain": [
       "TagsInput(value=['M07e-J4-1', 'M07e-J4-2', 'M07e-J4-3', 'M07e-J11-1', 'M07e-J11-2', 'M07e-J11-3', 'M07e-J18-1'…"
      ]
     },
     "metadata": {},
     "output_type": "display_data"
    },
    {
     "data": {
      "application/vnd.jupyter.widget-view+json": {
       "model_id": "0b26073d0cc94e6da3572af107898272",
       "version_major": 2,
       "version_minor": 0
      },
      "text/plain": [
       "Button(description='Show sgRNA counts...', style=ButtonStyle())"
      ]
     },
     "metadata": {},
     "output_type": "display_data"
    }
   ],
   "source": [
    "show_sgRNA_counts(token)"
   ]
  },
  {
   "cell_type": "code",
   "execution_count": 7,
   "id": "8f49e080",
   "metadata": {},
   "outputs": [
    {
     "data": {
      "application/vnd.jupyter.widget-view+json": {
       "model_id": "5fc047a4f2ff4d268232e2161ecbae11",
       "version_major": 2,
       "version_minor": 0
      },
      "text/plain": [
       "Text(value='', description='Element:', placeholder='Element:')"
      ]
     },
     "metadata": {},
     "output_type": "display_data"
    },
    {
     "data": {
      "application/vnd.jupyter.widget-view+json": {
       "model_id": "0c303cc01ddb4d80b7b3bc6299e2f042",
       "version_major": 2,
       "version_minor": 0
      },
      "text/plain": [
       "TagsInput(value=['J4', 'J11', 'J18', 'J25'], allow_duplicates=False, allowed_tags=['J4', 'J11', 'J18', 'J25'])"
      ]
     },
     "metadata": {},
     "output_type": "display_data"
    },
    {
     "data": {
      "application/vnd.jupyter.widget-view+json": {
       "model_id": "cd3ad88fa093488ab7e9bda62a13f24c",
       "version_major": 2,
       "version_minor": 0
      },
      "text/plain": [
       "Button(description='Show sgRNA counts...', style=ButtonStyle())"
      ]
     },
     "metadata": {},
     "output_type": "display_data"
    }
   ],
   "source": [
    "show_sgRNA_counts_lines(token)"
   ]
  },
  {
   "cell_type": "code",
   "execution_count": 8,
   "id": "86debbac",
   "metadata": {},
   "outputs": [
    {
     "name": "stdout",
     "output_type": "stream",
     "text": [
      "MAGeCK_MLE\n"
     ]
    },
    {
     "data": {
      "application/vnd.jupyter.widget-view+json": {
       "model_id": "7ad42d2745a64ed59ce06dc6bb4cc873",
       "version_major": 2,
       "version_minor": 0
      },
      "text/plain": [
       "VBox(children=(Select(options=('MAGeCK_MLE', 'MAGeCK_RRA', 'CRISPhieRmix', 'in_house_method', 'GSEA-like'), va…"
      ]
     },
     "metadata": {},
     "output_type": "display_data"
    },
    {
     "data": {
      "application/vnd.jupyter.widget-view+json": {
       "model_id": "78635212a04d43e58e9a8a41b5a13948",
       "version_major": 2,
       "version_minor": 0
      },
      "text/plain": [
       "Button(description='Show plot', style=ButtonStyle())"
      ]
     },
     "metadata": {},
     "output_type": "display_data"
    }
   ],
   "source": [
    "tool_results(results_directory, tools_available)"
   ]
  },
  {
   "cell_type": "code",
   "execution_count": 9,
   "id": "6cd0918e",
   "metadata": {},
   "outputs": [
    {
     "data": {
      "application/vnd.jupyter.widget-view+json": {
       "model_id": "74fa8ef126bd4fbd9c9ae70c5ab50273",
       "version_major": 2,
       "version_minor": 0
      },
      "text/plain": [
       "VBox(children=(Dropdown(description='Tool:', options=('MAGeCK_MLE', 'MAGeCK_RRA', 'CRISPhieRmix', 'in_house_me…"
      ]
     },
     "metadata": {},
     "output_type": "display_data"
    }
   ],
   "source": [
    "enrichr_plots(tools_available)"
   ]
  },
  {
   "cell_type": "code",
   "execution_count": 10,
   "id": "c9ec34ac",
   "metadata": {},
   "outputs": [
    {
     "data": {
      "application/vnd.jupyter.widget-view+json": {
       "model_id": "e49302cdf0384ac19bde59d994f39e13",
       "version_major": 2,
       "version_minor": 0
      },
      "text/plain": [
       "Dropdown(description='Tool:', options=('MAGeCK_MLE', 'MAGeCK_RRA', 'CRISPhieRmix', 'in_house_method', 'GSEA-li…"
      ]
     },
     "metadata": {},
     "output_type": "display_data"
    },
    {
     "data": {
      "application/vnd.jupyter.widget-view+json": {
       "model_id": "dfae3069bf35499687f1bda859a872a6",
       "version_major": 2,
       "version_minor": 0
      },
      "text/plain": [
       "Dropdown(description='Condition:', options=('J18_vs_J4', 'J11_vs_J4', 'J25_vs_J4'), value='J18_vs_J4')"
      ]
     },
     "metadata": {},
     "output_type": "display_data"
    },
    {
     "data": {
      "application/vnd.jupyter.widget-view+json": {
       "model_id": "851bcb987abb4583a00a263fc4875d31",
       "version_major": 2,
       "version_minor": 0
      },
      "text/plain": [
       "FloatSlider(value=0.05, description='FDR cut-off:', max=1.0, step=0.01)"
      ]
     },
     "metadata": {},
     "output_type": "display_data"
    },
    {
     "data": {
      "application/vnd.jupyter.widget-view+json": {
       "model_id": "454c9bb23dc141359fe526971814edc3",
       "version_major": 2,
       "version_minor": 0
      },
      "text/plain": [
       "IntText(value=0, description='Score cut-off:')"
      ]
     },
     "metadata": {},
     "output_type": "display_data"
    },
    {
     "data": {
      "application/vnd.jupyter.widget-view+json": {
       "model_id": "452a736968c345aba77e5fcd99243a9d",
       "version_major": 2,
       "version_minor": 0
      },
      "text/plain": [
       "Button(description='Genemania!', style=ButtonStyle())"
      ]
     },
     "metadata": {},
     "output_type": "display_data"
    }
   ],
   "source": [
    "genemania_link_results(tools_available)"
   ]
  },
  {
   "cell_type": "code",
   "execution_count": 11,
   "id": "b3080d02",
   "metadata": {},
   "outputs": [
    {
     "data": {
      "application/vnd.jupyter.widget-view+json": {
       "model_id": "7d452b5bbe3e47dab1b3cf5b49a026a2",
       "version_major": 2,
       "version_minor": 0
      },
      "text/plain": [
       "VBox(children=(Dropdown(description='Conditions:', options=('J18_vs_J4', 'J11_vs_J4', 'J25_vs_J4'), value='J18…"
      ]
     },
     "metadata": {},
     "output_type": "display_data"
    },
    {
     "data": {
      "application/vnd.jupyter.widget-view+json": {
       "model_id": "ee3be9bc2d5442ce93a4d0dcace8ddfb",
       "version_major": 2,
       "version_minor": 0
      },
      "text/plain": [
       "Output()"
      ]
     },
     "metadata": {},
     "output_type": "display_data"
    },
    {
     "data": {
      "application/vnd.jupyter.widget-view+json": {
       "model_id": "781f60465f2948d599633c6fe1c687f8",
       "version_major": 2,
       "version_minor": 0
      },
      "text/plain": [
       "HBox(children=(Button(description='Venn diagram', style=ButtonStyle(button_color='#707070')), Button(descripti…"
      ]
     },
     "metadata": {},
     "output_type": "display_data"
    },
    {
     "data": {
      "application/vnd.jupyter.widget-view+json": {
       "model_id": "b0c66df803074adea7d2ec4714560a00",
       "version_major": 2,
       "version_minor": 0
      },
      "text/plain": [
       "Output()"
      ]
     },
     "metadata": {},
     "output_type": "display_data"
    }
   ],
   "source": [
    "multiple_tools_results(tools_available, token)"
   ]
  },
  {
   "cell_type": "code",
   "execution_count": 12,
   "id": "7f3a0002",
   "metadata": {},
   "outputs": [
    {
     "data": {
      "application/vnd.jupyter.widget-view+json": {
       "model_id": "1951a049ddaf4f7fa4ed5d82af2d6908",
       "version_major": 2,
       "version_minor": 0
      },
      "text/plain": [
       "HTML(value='First, choose a <b>tool</b> to browse results:')"
      ]
     },
     "metadata": {},
     "output_type": "display_data"
    },
    {
     "data": {
      "application/vnd.jupyter.widget-view+json": {
       "model_id": "3f844a8e95414f599a62c957372493a4",
       "version_major": 2,
       "version_minor": 0
      },
      "text/plain": [
       "interactive(children=(Dropdown(description='Tool:', options=('DESeq2', 'MAGeCK_MLE', 'MAGeCK_RRA', 'CRISPhieRm…"
      ]
     },
     "metadata": {},
     "output_type": "display_data"
    }
   ],
   "source": [
    "# call_form(tools_available)"
   ]
  }
 ],
 "metadata": {
  "kernelspec": {
   "display_name": "Python 3 (ipykernel)",
   "language": "python",
   "name": "python3"
  },
  "language_info": {
   "codemirror_mode": {
    "name": "ipython",
    "version": 3
   },
   "file_extension": ".py",
   "mimetype": "text/x-python",
   "name": "python",
   "nbconvert_exporter": "python",
   "pygments_lexer": "ipython3",
   "version": "3.8.5"
  }
 },
 "nbformat": 4,
 "nbformat_minor": 5
}
