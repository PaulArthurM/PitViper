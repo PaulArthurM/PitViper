{
 "cells": [
  {
   "cell_type": "markdown",
   "id": "1dbba259",
   "metadata": {},
   "source": [
    "# Titre Niveau 1\n",
    "\n",
    "## Titre Niveau 2\n",
    "\n",
    "Texte\n",
    "\n",
    "**Bold**"
   ]
  },
  {
   "cell_type": "code",
   "execution_count": 1,
   "id": "4ea405d2",
   "metadata": {
    "scrolled": false
   },
   "outputs": [
    {
     "name": "stdout",
     "output_type": "stream",
     "text": [
      "8.0.0b0\n"
     ]
    }
   ],
   "source": [
    "import altair as alt\n",
    "import pandas as pd\n",
    "import ipywidgets as widgets\n",
    "\n",
    "print(widgets.__version__)"
   ]
  },
  {
   "cell_type": "code",
   "execution_count": 2,
   "id": "f8f69f3a",
   "metadata": {
    "scrolled": false
   },
   "outputs": [
    {
     "data": {
      "application/javascript": [
       "IPython.OutputArea.auto_scroll_threshold = 9999;\n"
      ],
      "text/plain": [
       "<IPython.core.display.Javascript object>"
      ]
     },
     "metadata": {},
     "output_type": "display_data"
    }
   ],
   "source": [
    "%%javascript\n",
    "IPython.OutputArea.auto_scroll_threshold = 9999;"
   ]
  },
  {
   "cell_type": "code",
   "execution_count": 3,
   "id": "cb185a76",
   "metadata": {
    "scrolled": false
   },
   "outputs": [],
   "source": [
    "def test():\n",
    "    \n",
    "    def fun():\n",
    "        try:\n",
    "            display(plot)\n",
    "        except:\n",
    "            print(\"Plot is empty.\")\n",
    "    \n",
    "    def plot_function(event):\n",
    "        \n",
    "        global plot\n",
    "        \n",
    "        source = pd.DataFrame({\n",
    "            'a': ['A', 'B', 'C', 'D', 'E', 'F', 'G', 'H', 'I'],\n",
    "            'b': [28, 55, 43, 91, 81, 53, 19, 87, 50]\n",
    "        })\n",
    "        plot = alt.Chart(source, title=title.value).mark_bar().encode(\n",
    "            x='a',\n",
    "            y='b'\n",
    "        ).configure_mark(\n",
    "            color=color.value\n",
    "        ).interactive()\n",
    "        \n",
    "        fun()\n",
    "\n",
    "    button = widgets.Button(\n",
    "        description='click me to show plot',\n",
    "        layout={'width': '300px'}\n",
    "    )\n",
    "    title = widgets.Text(value='Titre')\n",
    "    color = widgets.ColorPicker(concise=False, description='Pick a color', value='blue', disabled=False)\n",
    "    button.on_click(plot_function)\n",
    "    display(title)\n",
    "    display(color)\n",
    "    display(button)    \n",
    "    "
   ]
  },
  {
   "cell_type": "code",
   "execution_count": 4,
   "id": "9d357d79",
   "metadata": {
    "scrolled": false
   },
   "outputs": [
    {
     "data": {
      "application/vnd.jupyter.widget-view+json": {
       "model_id": "c616c796f9e44cc988ff029288f3fc77",
       "version_major": 2,
       "version_minor": 0
      },
      "text/plain": [
       "Text(value='Titre')"
      ]
     },
     "metadata": {},
     "output_type": "display_data"
    },
    {
     "data": {
      "application/vnd.jupyter.widget-view+json": {
       "model_id": "52606111c2a141d1a7ef5feecb876a16",
       "version_major": 2,
       "version_minor": 0
      },
      "text/plain": [
       "ColorPicker(value='blue', description='Pick a color')"
      ]
     },
     "metadata": {},
     "output_type": "display_data"
    },
    {
     "data": {
      "application/vnd.jupyter.widget-view+json": {
       "model_id": "1f4cb95eb3c74be38f467df6a1fa7488",
       "version_major": 2,
       "version_minor": 0
      },
      "text/plain": [
       "Button(description='click me to show plot', layout=Layout(width='300px'), style=ButtonStyle())"
      ]
     },
     "metadata": {},
     "output_type": "display_data"
    }
   ],
   "source": [
    "test()"
   ]
  },
  {
   "cell_type": "code",
   "execution_count": 5,
   "id": "b12561b2",
   "metadata": {
    "scrolled": false
   },
   "outputs": [],
   "source": [
    "######## snakemake preamble start (automatically inserted, do not edit) ########\n",
    "import sys; sys.path.extend(['/home/paularthur/miniconda3/envs/pitviper_test/lib/python3.8/site-packages', '/media/paularthur/data/Projets/Screens/PitViper/PitViper/workflow/notebooks']); import pickle; snakemake = pickle.loads(b'\\x80\\x04\\x953\\x11\\x00\\x00\\x00\\x00\\x00\\x00\\x8c\\x10snakemake.script\\x94\\x8c\\tSnakemake\\x94\\x93\\x94)\\x81\\x94}\\x94(\\x8c\\x05input\\x94\\x8c\\x0csnakemake.io\\x94\\x8c\\nInputFiles\\x94\\x93\\x94)\\x81\\x94(\\x8c<results/shRNA_6jan/BAGEL/J11_vs_J4/J11_vs_J4_BAGEL_output.bf\\x94\\x8cGresults/shRNA_6jan/BAGEL/J11_vs_J4/J11_vs_J4_bagel_essentials_genes.txt\\x94\\x8cGresults/shRNA_6jan/BAGEL/J11_vs_J4/J11_vs_J4_bagel_essentials_genes.txt\\x94\\x8cJresults/shRNA_6jan/BAGEL/J11_vs_J4/J11_vs_J4_bagel_nonessentials_genes.txt\\x94\\x8cBresults/shRNA_6jan/MAGeCK_MLE/J11_vs_J4/J11_vs_J4.gene_summary.txt\\x94\\x8cBresults/shRNA_6jan/MAGeCK_RRA/J11_vs_J4/J11_vs_J4.gene_summary.txt\\x94\\x8c7results/shRNA_6jan/CRISPhieRmix/J11_vs_J4/J11_vs_J4.txt\\x94\\x8cKresults/shRNA_6jan/GSEA-like/J11_vs_J4/J11_vs_J4_all-elements_GSEA-like.txt\\x94\\x8cPresults/shRNA_6jan/in_house_method/J11_vs_J4/J11_vs_J4_all-elements_in-house.txt\\x94\\x8c0resources/shRNA_6jan/screen.count_normalized.txt\\x94\\x8c<results/shRNA_6jan/BAGEL/J18_vs_J4/J18_vs_J4_BAGEL_output.bf\\x94\\x8cGresults/shRNA_6jan/BAGEL/J18_vs_J4/J18_vs_J4_bagel_essentials_genes.txt\\x94\\x8cGresults/shRNA_6jan/BAGEL/J18_vs_J4/J18_vs_J4_bagel_essentials_genes.txt\\x94\\x8cJresults/shRNA_6jan/BAGEL/J18_vs_J4/J18_vs_J4_bagel_nonessentials_genes.txt\\x94\\x8cBresults/shRNA_6jan/MAGeCK_MLE/J18_vs_J4/J18_vs_J4.gene_summary.txt\\x94\\x8cBresults/shRNA_6jan/MAGeCK_RRA/J18_vs_J4/J18_vs_J4.gene_summary.txt\\x94\\x8c7results/shRNA_6jan/CRISPhieRmix/J18_vs_J4/J18_vs_J4.txt\\x94\\x8cKresults/shRNA_6jan/GSEA-like/J18_vs_J4/J18_vs_J4_all-elements_GSEA-like.txt\\x94\\x8cPresults/shRNA_6jan/in_house_method/J18_vs_J4/J18_vs_J4_all-elements_in-house.txt\\x94\\x8c0resources/shRNA_6jan/screen.count_normalized.txt\\x94\\x8c<results/shRNA_6jan/BAGEL/J25_vs_J4/J25_vs_J4_BAGEL_output.bf\\x94\\x8cGresults/shRNA_6jan/BAGEL/J25_vs_J4/J25_vs_J4_bagel_essentials_genes.txt\\x94\\x8cGresults/shRNA_6jan/BAGEL/J25_vs_J4/J25_vs_J4_bagel_essentials_genes.txt\\x94\\x8cJresults/shRNA_6jan/BAGEL/J25_vs_J4/J25_vs_J4_bagel_nonessentials_genes.txt\\x94\\x8cBresults/shRNA_6jan/MAGeCK_MLE/J25_vs_J4/J25_vs_J4.gene_summary.txt\\x94\\x8cBresults/shRNA_6jan/MAGeCK_RRA/J25_vs_J4/J25_vs_J4.gene_summary.txt\\x94\\x8c7results/shRNA_6jan/CRISPhieRmix/J25_vs_J4/J25_vs_J4.txt\\x94\\x8cKresults/shRNA_6jan/GSEA-like/J25_vs_J4/J25_vs_J4_all-elements_GSEA-like.txt\\x94\\x8cPresults/shRNA_6jan/in_house_method/J25_vs_J4/J25_vs_J4_all-elements_in-house.txt\\x94\\x8c0resources/shRNA_6jan/screen.count_normalized.txt\\x94e}\\x94(\\x8c\\x06_names\\x94}\\x94\\x8c\\x12_allowed_overrides\\x94]\\x94(\\x8c\\x05index\\x94\\x8c\\x04sort\\x94eh-\\x8c\\tfunctools\\x94\\x8c\\x07partial\\x94\\x93\\x94h\\x06\\x8c\\x19Namedlist._used_attribute\\x94\\x93\\x94\\x85\\x94R\\x94(h3)}\\x94\\x8c\\x05_name\\x94h-sNt\\x94bh.h1h3\\x85\\x94R\\x94(h3)}\\x94h7h.sNt\\x94bub\\x8c\\x06output\\x94h\\x06\\x8c\\x0bOutputFiles\\x94\\x93\\x94)\\x81\\x94\\x8c(results/shRNA_6jan/ExecutionComplete.txt\\x94a}\\x94(h)}\\x94h+]\\x94(h-h.eh-h1h3\\x85\\x94R\\x94(h3)}\\x94h7h-sNt\\x94bh.h1h3\\x85\\x94R\\x94(h3)}\\x94h7h.sNt\\x94bub\\x8c\\x06params\\x94h\\x06\\x8c\\x06Params\\x94\\x93\\x94)\\x81\\x94\\x8c\\nshRNA_6jan\\x94a}\\x94(h)}\\x94h+]\\x94(h-h.eh-h1h3\\x85\\x94R\\x94(h3)}\\x94h7h-sNt\\x94bh.h1h3\\x85\\x94R\\x94(h3)}\\x94h7h.sNt\\x94bub\\x8c\\twildcards\\x94h\\x06\\x8c\\tWildcards\\x94\\x93\\x94)\\x81\\x94}\\x94(h)}\\x94h+]\\x94(h-h.eh-h1h3\\x85\\x94R\\x94(h3)}\\x94h7h-sNt\\x94bh.h1h3\\x85\\x94R\\x94(h3)}\\x94h7h.sNt\\x94bub\\x8c\\x07threads\\x94K\\x01\\x8c\\tresources\\x94h\\x06\\x8c\\tResources\\x94\\x93\\x94)\\x81\\x94(K\\x01K\\x01\\x8c\\x04/tmp\\x94e}\\x94(h)}\\x94(\\x8c\\x06_cores\\x94K\\x00N\\x86\\x94\\x8c\\x06_nodes\\x94K\\x01N\\x86\\x94\\x8c\\x06tmpdir\\x94K\\x02N\\x86\\x94uh+]\\x94(h-h.eh-h1h3\\x85\\x94R\\x94(h3)}\\x94h7h-sNt\\x94bh.h1h3\\x85\\x94R\\x94(h3)}\\x94h7h.sNt\\x94bhtK\\x01hvK\\x01hxhqub\\x8c\\x03log\\x94h\\x06\\x8c\\x03Log\\x94\\x93\\x94)\\x81\\x94\\x8c\\x1fresults/shRNA_6jan/Report.ipynb\\x94a}\\x94(h)}\\x94\\x8c\\x08notebook\\x94K\\x00N\\x86\\x94sh+]\\x94(h-h.eh-h1h3\\x85\\x94R\\x94(h3)}\\x94h7h-sNt\\x94bh.h1h3\\x85\\x94R\\x94(h3)}\\x94h7h.sNt\\x94bh\\x8ah\\x87ub\\x8c\\x06config\\x94}\\x94(\\x8c\\x0ebagel_activate\\x94\\x8c\\x04True\\x94\\x8c\\x0fbowtie_activate\\x94\\x8c\\x05False\\x94\\x8c\\x15bowtie_mapping_method\\x94\\x8c\\x0b--sensitive\\x94\\x8c\\x10count_table_file\\x94\\x8c%resources/shRNA_6jan/screen.count.txt\\x94\\x8c\\x15crisphiermix_activate\\x94\\x8c\\x04True\\x94\\x8c\\nessentials\\x94\\x8c,resources/shRNA_6jan/training_essentials.txt\\x94\\x8c\\x12filtering_activate\\x94\\x8c\\x04True\\x94\\x8c\\rgsea_activate\\x94\\x8c\\x04True\\x94\\x8c\\x04jobs\\x94\\x8c\\x018\\x94\\x8c\\x10length_3_adapter\\x94\\x8c\\x0210\\x94\\x8c\\x10length_5_adapter\\x94\\x8c\\x0220\\x94\\x8c\\x0clibrary_file\\x94\\x8c#resources/shRNA_6jan/sh_epi_lib.csv\\x94\\x8c\\x0emageck_count_N\\x94\\x8c\\x05False\\x94\\x8c\\x15mageck_count_activate\\x94\\x8c\\x05False\\x94\\x8c\\x16mageck_count_all_align\\x94\\x8c\\x05False\\x94\\x8c\\x13mageck_count_length\\x94\\x8c\\x0220\\x94\\x8c\\x1amageck_count_normalization\\x94\\x8c\\x05total\\x94\\x8c\\x10mageck_count_pdf\\x94\\x8c\\x05False\\x94\\x8c\\x15mageck_count_rev_comp\\x94\\x8c\\x05False\\x94\\x8c\\x13mageck_mle_activate\\x94\\x8c\\x04True\\x94\\x8c\\x0emageck_mle_adj\\x94\\x8c\\x03fdr\\x94\\x8c\\x13mageck_mle_mean_var\\x94\\x8c\\x010\\x94\\x8c\\x18mageck_mle_normalization\\x94\\x8c\\x05total\\x94\\x8c\\x13mageck_mle_outliers\\x94\\x8c\\x05False\\x94\\x8c\\x11mageck_mle_perm_N\\x94\\x8c\\x012\\x94\\x8c\\x13mageck_mle_perm_all\\x94\\x8c\\x05False\\x94\\x8c\\x0emageck_rra_LFC\\x94\\x8c\\x06median\\x94\\x8c\\x13mageck_rra_activate\\x94\\x8c\\x04True\\x94\\x8c\\x0emageck_rra_adj\\x94\\x8c\\x03fdr\\x94\\x8c\\x14mageck_rra_count_min\\x94h\\xc2\\x8c\\x13mageck_rra_criteria\\x94\\x8c\\x03neg\\x94\\x8c\\x15mageck_rra_pthreshold\\x94\\x8c\\x040.25\\x94\\x8c\\x11mageck_rra_remove\\x94\\x8c\\x04both\\x94\\x8c\\rnonessentials\\x94\\x8c.resources/shRNA_6jan/training_nonessential.txt\\x94\\x8c\\x16normalized_count_table\\x94\\x8c0resources/shRNA_6jan/screen.count_normalized.txt\\x94\\x8c\\x0bscreen_type\\x94\\x8c\\x07is_gene\\x94\\x8c\\nstart_from\\x94\\x8c\\x05count\\x94\\x8c\\x05token\\x94hQ\\x8c\\x08tsv_file\\x94\\x8c\\x1fresources/shRNA_6jan/design.tsv\\x94u\\x8c\\x04rule\\x94\\x8c\\x11genes_integration\\x94\\x8c\\x0fbench_iteration\\x94N\\x8c\\tscriptdir\\x94\\x8cK/media/paularthur/data/Projets/Screens/PitViper/PitViper/workflow/notebooks\\x94ub.'); from snakemake.logging import logger; logger.printshellcmds = False; import os; os.chdir(r'/media/paularthur/data/Projets/Screens/PitViper/PitViper');\n",
    "######## snakemake preamble end #########"
   ]
  },
  {
   "cell_type": "code",
   "execution_count": 6,
   "id": "18e97896",
   "metadata": {
    "scrolled": false
   },
   "outputs": [
    {
     "name": "stdout",
     "output_type": "stream",
     "text": [
      ">> clustergrammer2 backend version 0.18.0\n"
     ]
    },
    {
     "name": "stderr",
     "output_type": "stream",
     "text": [
      "R[write to console]: snapshotDate(): 2021-10-19\n",
      "\n"
     ]
    },
    {
     "name": "stdout",
     "output_type": "stream",
     "text": [
      "Working directory:  /media/paularthur/data/Projets/Screens/PitViper/PitViper\n"
     ]
    }
   ],
   "source": [
    "# Load necessary libraries\n",
    "import sys\n",
    "import os\n",
    "\n",
    "# Load PitViper functions\n",
    "modules_path = ['workflow/notebooks/', \"../../../workflow/notebooks/\"]\n",
    "for module in modules_path:\n",
    "    module_path = os.path.abspath(os.path.join(module))\n",
    "    if module_path not in sys.path:\n",
    "        sys.path.append(module_path)\n",
    "\n",
    "from functions import * \n",
    "\n",
    "# Change working directory\n",
    "working_directory_update(snakemake.output[0])\n",
    "\n",
    "# Initialize token\n",
    "token = snakemake.params"
   ]
  },
  {
   "cell_type": "code",
   "execution_count": 7,
   "id": "7baa0b87",
   "metadata": {
    "scrolled": false
   },
   "outputs": [
    {
     "name": "stdout",
     "output_type": "stream",
     "text": [
      "Token: shRNA_6jan\n",
      "\n",
      "Config file used: ./config/shRNA_6jan.yaml\n",
      "Results directory: results/shRNA_6jan/ \n",
      "\n",
      "Tools available:\n",
      "\t-DESeq2\n",
      "\t-MAGeCK_MLE\n",
      "\t-MAGeCK_RRA\n",
      "\t-BAGEL\n",
      "\t-CRISPhieRmix\n",
      "\t-in_house_method\n",
      "\t-GSEA-like\n",
      "- Process DESeq2 results...\n",
      "- Process MAGeCK_MLE results...\n",
      "- Process MAGeCK_RRA results...\n",
      "- Process BAGEL results...\n",
      "- Process CRISPhieRmix results...\n",
      "- Process in_house_method results...\n",
      "- Process GSEA-like results...\n"
     ]
    }
   ],
   "source": [
    "results_directory, tools_available = import_results(token)"
   ]
  },
  {
   "cell_type": "code",
   "execution_count": 8,
   "id": "09980918",
   "metadata": {
    "scrolled": false
   },
   "outputs": [
    {
     "data": {
      "application/vnd.jupyter.widget-view+json": {
       "model_id": "603606c1aaca4269885d5cdc78fae4e5",
       "version_major": 2,
       "version_minor": 0
      },
      "text/plain": [
       "interactive(children=(Dropdown(description='Tool:', options=('GSEA-like', 'BAGEL', 'MAGeCK_RRA', 'MAGeCK_MLE',…"
      ]
     },
     "metadata": {},
     "output_type": "display_data"
    }
   ],
   "source": [
    "snake_plot(results_directory, tools_available)"
   ]
  },
  {
   "cell_type": "code",
   "execution_count": 9,
   "id": "43bb406e",
   "metadata": {
    "scrolled": true
   },
   "outputs": [
    {
     "data": {
      "application/vnd.jupyter.widget-view+json": {
       "model_id": "a23edf56eafd4fd589d5101e213a8aa3",
       "version_major": 2,
       "version_minor": 0
      },
      "text/plain": [
       "Dropdown(description='Tool:', index=3, options=('GSEA-like', 'BAGEL', 'MAGeCK_RRA', 'MAGeCK_MLE', 'in_house_me…"
      ]
     },
     "metadata": {},
     "output_type": "display_data"
    },
    {
     "data": {
      "application/vnd.jupyter.widget-view+json": {
       "model_id": "6de5ce6b31464b878fc7c294f55a76a8",
       "version_major": 2,
       "version_minor": 0
      },
      "text/plain": [
       "Dropdown(description='Comparison:', options=('J11_vs_J4', 'J18_vs_J4', 'J25_vs_J4'), value='J11_vs_J4')"
      ]
     },
     "metadata": {},
     "output_type": "display_data"
    },
    {
     "data": {
      "application/vnd.jupyter.widget-view+json": {
       "model_id": "2d60c77f18de4a7c869aa4557c853997",
       "version_major": 2,
       "version_minor": 0
      },
      "text/plain": [
       "FloatSlider(value=0.05, max=1.0, step=0.01)"
      ]
     },
     "metadata": {},
     "output_type": "display_data"
    },
    {
     "data": {
      "application/vnd.jupyter.widget-view+json": {
       "model_id": "4af246ef8c2f497b84fc1129632387ea",
       "version_major": 2,
       "version_minor": 0
      },
      "text/plain": [
       "ColorPicker(value='red', description='Pick a color')"
      ]
     },
     "metadata": {},
     "output_type": "display_data"
    },
    {
     "data": {
      "application/vnd.jupyter.widget-view+json": {
       "model_id": "8f5137054c944e98a1459b9450ebbde3",
       "version_major": 2,
       "version_minor": 0
      },
      "text/plain": [
       "ColorPicker(value='gray', description='Pick a color')"
      ]
     },
     "metadata": {},
     "output_type": "display_data"
    },
    {
     "data": {
      "application/vnd.jupyter.widget-view+json": {
       "model_id": "c1735bbd847c4f96aabe96a60bcb6639",
       "version_major": 2,
       "version_minor": 0
      },
      "text/plain": [
       "Button(description='Click!', style=ButtonStyle())"
      ]
     },
     "metadata": {},
     "output_type": "display_data"
    }
   ],
   "source": [
    "def snake_plot_update(results_directory, tools_available):\n",
    "    \n",
    "    \n",
    "    def _MAGeCK_RRA_snake_plot(comparison, fdr_cutoff, non_sig, sig, results_directory, tools_available):\n",
    "        tool = \"MAGeCK_RRA\"\n",
    "        treatment, control = comparison.split(\"_vs_\")\n",
    "        source = MAGeCK_RRA_data(comparison = comparison, control = \"\", tool = tool, results_directory=results_directory, tools_available=tools_available)\n",
    "        source['default_rank'] = source['neg|lfc'].rank(ascending=False)\n",
    "        source.loc[source['neg|fdr'] < 0.05, 'significant'] = 'Yes'\n",
    "        source.loc[source['neg|fdr'] >= 0.05, 'significant'] = 'No'\n",
    "        domain = ['Yes', 'No']\n",
    "        range_ = [sig, non_sig]\n",
    "\n",
    "        chart = alt.Chart(source).mark_circle(size=60).encode(\n",
    "            x=alt.X('default_rank:Q', axis=alt.Axis(title='Rank')),\n",
    "            y=alt.Y('neg|lfc:Q'),\n",
    "            tooltip=['id', 'num', 'neg|lfc', 'neg|fdr', 'significant', 'neg|rank', 'default_rank'],\n",
    "            color=alt.Color('significant', scale=alt.Scale(domain=domain, range=range_), legend=alt.Legend(title=\"Significativity:\")),\n",
    "            order=alt.Order('significant:N')\n",
    "        ).properties(width=800, height=400).interactive()\n",
    "        line = alt.Chart(pd.DataFrame({'y': [0]})).mark_rule().encode(y='y')\n",
    "        chart = (chart + line)\n",
    "        display(chart)\n",
    "        \n",
    "        \n",
    "    def _CRISPhieRmix_snake_plot(comparison, fdr_cutoff, non_sig, sig,results_directory, tools_available):\n",
    "        tool = \"CRISPhieRmix\"\n",
    "        treatment, control = comparison.split(\"_vs_\")\n",
    "        source = CRISPhieRmix_data(comparison = comparison, control = \"\", tool = tool, results_directory=results_directory, tools_available=tools_available)\n",
    "        source['default_rank'] = source['locfdr'].rank(method='dense')\n",
    "        source.loc[source['locfdr'] < 0.05, 'significant'] = 'Yes'\n",
    "        source.loc[source['locfdr'] >= 0.05, 'significant'] = 'No'\n",
    "        domain = ['Yes', 'No']\n",
    "        range_ = [sig, non_sig]\n",
    "\n",
    "        chart = alt.Chart(source).mark_circle(size=60).encode(\n",
    "            x=alt.X('default_rank:Q', axis=alt.Axis(title='Rank')),\n",
    "            y=alt.Y('locfdr:Q'),\n",
    "            tooltip=['gene', 'locfdr', 'score', 'FDR', 'significant', 'default_rank'],\n",
    "            color=alt.Color('significant', scale=alt.Scale(domain=domain, range=range_), legend=alt.Legend(title=\"Significativity:\")),\n",
    "            order=alt.Order('significant:N')\n",
    "        ).properties(width=800, height=400).interactive()\n",
    "\n",
    "        line = alt.Chart(pd.DataFrame({'y': [0]})).mark_rule().encode(y='y')\n",
    "\n",
    "        chart = (chart + line)\n",
    "        display(chart)\n",
    "\n",
    "    \n",
    "    \n",
    "    def _plot(event):\n",
    "        tool = tools_widget.value\n",
    "        comparison = comparisons_widget.value\n",
    "        fdr_cutoff = fdr_widget.value\n",
    "        non_sig = color_non_widget.value\n",
    "        sig = color_sig_widget.value\n",
    "        if tool == \"MAGeCK_RRA\":\n",
    "            _MAGeCK_RRA_snake_plot(comparison, fdr_cutoff, non_sig, sig, results_directory, tools_available)\n",
    "        if tool == \"MAGeCK_MLE\":\n",
    "            MAGeCK_MLE_snake_plot(comparison, fdr_cutoff, non_sig, sig, results_directory, tools_available)\n",
    "        if tool == \"CRISPhieRmix\":\n",
    "            _CRISPhieRmix_snake_plot(comparison, fdr_cutoff, non_sig, sig, results_directory, tools_available)\n",
    "        if tool == \"in_house_method\":\n",
    "            in_house_snake_plot(comparison, fdr_cutoff, non_sig, sig, results_directory, tools_available)\n",
    "        if tool == \"GSEA-like\":\n",
    "            GSEA_like_snake_plot(comparison, fdr_cutoff, non_sig, sig, results_directory, tools_available)\n",
    "        if tool == \"BAGEL\":\n",
    "            BAGEL_snake_plot(comparison, fdr_cutoff, non_sig, sig, results_directory, tools_available)\n",
    "        else:\n",
    "            print(\"Choose a tool.\")\n",
    "    \n",
    "    \n",
    "    def update_comparisons_widget(new):\n",
    "        comparisons_widget.options = tools_available[tools_widget.value].keys()\n",
    "\n",
    "    tools = [tool for tool in tools_available.keys() if tool != \"DESeq2\"]\n",
    "    tools_widget = widgets.Dropdown(options=set(tools), description='Tool:', value=tools[0])\n",
    "    tools_widget.observe(update_comparisons_widget, 'value')\n",
    "\n",
    "    \n",
    "    comparisons_list = os.listdir(os.path.join(results_directory, tools_widget.value))\n",
    "    comparisons_widget = widgets.Dropdown(options=set(comparisons_list), description='Comparison:')\n",
    "    \n",
    "    fdr_widget = widgets.FloatSlider(min=0.0, max=1.0, step=0.01, value=0.05)\n",
    "    \n",
    "    color_sig_widget = widgets.ColorPicker(concise=False, description='Pick a color', value='red')\n",
    "    color_non_widget = widgets.ColorPicker(concise=False, description='Pick a color', value='gray')\n",
    "    \n",
    "    display(tools_widget)\n",
    "    display(comparisons_widget)\n",
    "    display(fdr_widget)\n",
    "    display(color_sig_widget)\n",
    "    display(color_non_widget)\n",
    "    \n",
    "    button = widgets.Button(description='Click!')\n",
    "    \n",
    "    display(button)\n",
    "    \n",
    "    button.on_click(_plot)\n",
    "    \n",
    "snake_plot_update(results_directory, tools_available)"
   ]
  },
  {
   "cell_type": "code",
   "execution_count": 10,
   "id": "6adeef94",
   "metadata": {
    "scrolled": false
   },
   "outputs": [
    {
     "data": {
      "application/vnd.jupyter.widget-view+json": {
       "model_id": "f67300db5e064cbc9b1c1d61ec9688cf",
       "version_major": 2,
       "version_minor": 0
      },
      "text/plain": [
       "interactive(children=(Dropdown(description='condition_selected', options=('J25_vs_J4', 'J18_vs_J4', 'J11_vs_J4…"
      ]
     },
     "metadata": {},
     "output_type": "display_data"
    }
   ],
   "source": [
    "intersection(tools_available, token)"
   ]
  }
 ],
 "metadata": {
  "kernelspec": {
   "display_name": "Python 3",
   "language": "python",
   "name": "python3"
  },
  "language_info": {
   "codemirror_mode": {
    "name": "ipython",
    "version": 3
   },
   "file_extension": ".py",
   "mimetype": "text/x-python",
   "name": "python",
   "nbconvert_exporter": "python",
   "pygments_lexer": "ipython3",
   "version": "3.8.5"
  }
 },
 "nbformat": 4,
 "nbformat_minor": 5
}
